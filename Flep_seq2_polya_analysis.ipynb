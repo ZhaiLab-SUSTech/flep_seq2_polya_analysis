{
 "cells": [
  {
   "cell_type": "markdown",
   "metadata": {},
   "source": [
    "Github site: https://github.com/ZhaiLab-SUSTech/flep_seq2_polya_analysis\n"
   ]
  },
  {
   "cell_type": "markdown",
   "metadata": {},
   "source": [
    "# 1. File introduction"
   ]
  },
  {
   "cell_type": "markdown",
   "metadata": {
    "execution": {
     "iopub.execute_input": "2022-04-29T08:30:14.332824Z",
     "iopub.status.busy": "2022-04-29T08:30:14.331882Z",
     "iopub.status.idle": "2022-04-29T08:30:14.360079Z",
     "shell.execute_reply": "2022-04-29T08:30:14.358127Z",
     "shell.execute_reply.started": "2022-04-29T08:30:14.332750Z"
    }
   },
   "source": [
    "Files:\n",
    "\n",
    "```\n",
    "├── mRNA_median_length \n",
    "│   ├── seedling.polya_length.txt\n",
    "│   ├── seedling_rep1.polya_length.txt\n",
    "│   ├── seedling_rep2.polya_length.txt\n",
    "│   └── ...\n",
    "├── orthofinder\n",
    "│   ├── ath__v__maize.tsv\n",
    "│   ├── ath__v__rice.tsv\n",
    "│   ├── ath__v__soybean.tsv\n",
    "│   ├── rice__v__maize.tsv\n",
    "│   ├── soybean__v__maize.tsv\n",
    "│   └── soybean__v__rice.tsv\n",
    "├── alternative_spliced_isoform\n",
    "│   ├── ath\n",
    "│   │   ├── isoform.bed\n",
    "│   │   ├── isoform.info.txt\n",
    "│   │   └── isoform_polya_length_stat.txt\n",
    "│   └── ...\n",
    "├── bugv\n",
    "├── genome_bed\n",
    "│   ├── ath.bed\n",
    "│   ├── maize.bed\n",
    "│   ├── rice.bed\n",
    "│   └── soybean.bed\n",
    "├── read_info\n",
    "│   ├── seedling_rep1.info.txt.gz\n",
    "│   ├── seedling_rep2.info.txt.gz\n",
    "│   └── ...\n",
    "├── bam\n",
    "│   ├── seedling_rep1.bam\n",
    "│   ├── seedling_rep1.bam.bai\n",
    "│   ├── seedling_rep2.bam\n",
    "│   ├── seedling_rep2.bam.bai\n",
    "│   └── ...\n",
    "└── tmp_gene_bam\n",
    "```"
   ]
  },
  {
   "cell_type": "markdown",
   "metadata": {},
   "source": [
    "All files:\n",
    "```\n",
    ".\n",
    "├── mRNA_median_length\n",
    "│   ├── ath_nuc.polya_length.txt\n",
    "│   ├── direct_rna.polya_length.txt\n",
    "│   ├── flower.polya_length.txt\n",
    "│   ├── inflorescence_rep1.polya_length.txt\n",
    "│   ├── inflorescence_rep2.polya_length.txt\n",
    "│   ├── leaf.polya_length.txt\n",
    "│   ├── leaf_rep1.polya_length.txt\n",
    "│   ├── leaf_rep2.polya_length.txt\n",
    "│   ├── maize_nuc.polya_length.txt\n",
    "│   ├── maize.polya_length.txt\n",
    "│   ├── maize_rep1.polya_length.txt\n",
    "│   ├── maize_rep2.polya_length.txt\n",
    "│   ├── pacbio.seedling_rep1.polya_length.txt\n",
    "│   ├── pacbio.seedling_rep2.polya_length.txt\n",
    "│   ├── pollen.polya_length.txt\n",
    "│   ├── pollen_rep1.polya_length.txt\n",
    "│   ├── pollen_rep2.polya_length.txt\n",
    "│   ├── rice_nuc.polya_length.txt\n",
    "│   ├── rice.polya_length.txt\n",
    "│   ├── rice_rep1.polya_length.txt\n",
    "│   ├── rice_rep2.polya_length.txt\n",
    "│   ├── root.polya_length.txt\n",
    "│   ├── root_rep1.polya_length.txt\n",
    "│   ├── root_rep2.polya_length.txt\n",
    "│   ├── seedling.polya_length.txt\n",
    "│   ├── seedling_rep1.polya_length.txt\n",
    "│   ├── seedling_rep2.polya_length.txt\n",
    "│   ├── seed.polya_length.txt\n",
    "│   ├── seed_rep1.polya_length.txt\n",
    "│   ├── seed_rep2.polya_length.txt\n",
    "│   ├── shoot.polya_length.txt\n",
    "│   ├── shoot_rep1.polya_length.txt\n",
    "│   ├── shoot_rep2.polya_length.txt\n",
    "│   ├── soybean_nuc.polya_length.txt\n",
    "│   ├── soybean.polya_length.txt\n",
    "│   ├── soybean_rep1.polya_length.txt\n",
    "│   └── soybean_rep2.polya_length.txt\n",
    "├── orthofinder\n",
    "│   ├── ath__v__maize.tsv\n",
    "│   ├── ath__v__rice.tsv\n",
    "│   ├── ath__v__soybean.tsv\n",
    "│   ├── rice__v__maize.tsv\n",
    "│   ├── soybean__v__maize.tsv\n",
    "│   └── soybean__v__rice.tsv\n",
    "├── alternative_spliced_isoform\n",
    "│   ├── ath\n",
    "│   │   ├── isoform.bed\n",
    "│   │   ├── isoform.info.txt\n",
    "│   │   └── isoform_polya_length_stat.txt\n",
    "│   ├── maize\n",
    "│   │   ├── isoform.bed\n",
    "│   │   ├── isoform.info.txt\n",
    "│   │   └── isoform_polya_length_stat.txt\n",
    "│   ├── rice\n",
    "│   │   ├── isoform.bed\n",
    "│   │   ├── isoform.info.txt\n",
    "│   │   └── isoform_polya_length_stat.txt\n",
    "│   └── soybean\n",
    "│       ├── isoform.bed\n",
    "│       ├── isoform.info.txt\n",
    "│       └── isoform_polya_length_stat.txt\n",
    "├── bugv #(not expend)\n",
    "├── genome_bed\n",
    "│   ├── ath.bed\n",
    "│   ├── maize.bed\n",
    "│   ├── rice.bed\n",
    "│   └── soybean.bed\n",
    "├── read_info\n",
    "│   ├── ath_nuc.info.txt.gz\n",
    "│   ├── direct_rna.info.txt.gz\n",
    "│   ├── inflorescence_rep1.info.txt.gz\n",
    "│   ├── inflorescence_rep2.info.txt.gz\n",
    "│   ├── leaf_rep1.info.txt.gz\n",
    "│   ├── leaf_rep2.info.txt.gz\n",
    "│   ├── maize_nuc.info.txt.gz\n",
    "│   ├── maize_rep1.info.txt.gz\n",
    "│   ├── maize_rep2.info.txt.gz\n",
    "│   ├── mh63.info.txt.gz\n",
    "│   ├── pacbio.seedling_rep1.info.txt.gz\n",
    "│   ├── pacbio.seedling_rep2.info.txt.gz\n",
    "│   ├── pollen_rep1.info.txt.gz\n",
    "│   ├── pollen_rep2.info.txt.gz\n",
    "│   ├── rice_nuc.info.txt.gz\n",
    "│   ├── rice_rep1.info.txt.gz\n",
    "│   ├── rice_rep2.info.txt.gz\n",
    "│   ├── root_rep1.info.txt.gz\n",
    "│   ├── root_rep2.info.txt.gz\n",
    "│   ├── seedling_rep1.info.txt.gz\n",
    "│   ├── seedling_rep2.info.txt.gz\n",
    "│   ├── seed_rep1.info.txt.gz\n",
    "│   ├── seed_rep2.info.txt.gz\n",
    "│   ├── shoot_rep1.info.txt.gz\n",
    "│   ├── shoot_rep2.info.txt.gz\n",
    "│   ├── soybean_nuc.info.txt.gz\n",
    "│   ├── soybean_rep1.info.txt.gz\n",
    "│   ├── soybean_rep2.info.txt.gz\n",
    "│   └── zs97.info.txt.gz\n",
    "├── bam\n",
    "│   ├── ath_nuc.bam\n",
    "│   ├── ath_nuc.bam.bai\n",
    "│   ├── inflorescence_rep1.bam\n",
    "│   ├── inflorescence_rep1.bam.bai\n",
    "│   ├── inflorescence_rep2.bam\n",
    "│   ├── inflorescence_rep2.bam.bai\n",
    "│   ├── leaf_rep1.bam\n",
    "│   ├── leaf_rep1.bam.bai\n",
    "│   ├── leaf_rep2.bam\n",
    "│   ├── leaf_rep2.bam.bai\n",
    "│   ├── maize.bam\n",
    "│   ├── maize.bam.bai\n",
    "│   ├── maize_nuc.bam\n",
    "│   ├── maize_nuc.bam.bai\n",
    "│   ├── maize_rep1.bam\n",
    "│   ├── maize_rep1.bam.bai\n",
    "│   ├── maize_rep2.bam\n",
    "│   ├── maize_rep2.bam.bai\n",
    "│   ├── pacbio.seedling_rep1.bam\n",
    "│   ├── pacbio.seedling_rep1.bam.bai\n",
    "│   ├── pacbio.seedling_rep2.bam\n",
    "│   ├── pacbio.seedling_rep2.bam.bai\n",
    "│   ├── pollen_rep1.bam\n",
    "│   ├── pollen_rep1.bam.bai\n",
    "│   ├── pollen_rep2.bam\n",
    "│   ├── pollen_rep2.bam.bai\n",
    "│   ├── rice.bam\n",
    "│   ├── rice.bam.bai\n",
    "│   ├── rice_nuc.bam\n",
    "│   ├── rice_nuc.bam.bai\n",
    "│   ├── rice_rep1.bam\n",
    "│   ├── rice_rep1.bam.bai\n",
    "│   ├── rice_rep2.bam\n",
    "│   ├── rice_rep2.bam.bai\n",
    "│   ├── root_rep1.bam\n",
    "│   ├── root_rep1.bam.bai\n",
    "│   ├── root_rep2.bam\n",
    "│   ├── root_rep2.bam.bai\n",
    "│   ├── seedling.bam\n",
    "│   ├── seedling.bam.bai\n",
    "│   ├── seedling_rep1.bam\n",
    "│   ├── seedling_rep1.bam.bai\n",
    "│   ├── seedling_rep2.bam\n",
    "│   ├── seedling_rep2.bam.bai\n",
    "│   ├── seed_rep1.bam\n",
    "│   ├── seed_rep1.bam.bai\n",
    "│   ├── seed_rep2.bam\n",
    "│   ├── seed_rep2.bam.bai\n",
    "│   ├── shoot_rep1.bam\n",
    "│   ├── shoot_rep1.bam.bai\n",
    "│   ├── shoot_rep2.bam\n",
    "│   ├── shoot_rep2.bam.bai\n",
    "│   ├── soybean.bam\n",
    "│   ├── soybean.bam.bai\n",
    "│   ├── soybean_nuc.bam\n",
    "│   ├── soybean_nuc.bam.bai\n",
    "│   ├── soybean_rep1.bam\n",
    "│   ├── soybean_rep1.bam.bai\n",
    "│   ├── soybean_rep2.bam\n",
    "│   ├── soybean_rep2.bam.bai\n",
    "│   ├── upf1upf3.bam\n",
    "│   ├── upf1upf3.bam.bai\n",
    "│   ├── wt.bam\n",
    "│   └── wt.bam.bai\n",
    "└── tmp_gene_bam\n",
    "    ├── AT3G01480.1.bam\n",
    "    ├── AT3G01480.1.bam.bai\n",
    "    ├── AT3G01480.ir.bam\n",
    "    ├── AT3G01480.ir.bam.bai\n",
    "    ├── AT3G01480.isoform2.bam\n",
    "    └── AT3G01480.isoform2.bam.bai\n",
    "```"
   ]
  },
  {
   "cell_type": "markdown",
   "metadata": {},
   "source": [
    "## 1.1 In github"
   ]
  },
  {
   "cell_type": "markdown",
   "metadata": {
    "execution": {
     "iopub.execute_input": "2022-04-24T09:52:39.799495Z",
     "iopub.status.busy": "2022-04-24T09:52:39.798813Z",
     "iopub.status.idle": "2022-04-24T09:52:39.812693Z",
     "shell.execute_reply": "2022-04-24T09:52:39.810637Z",
     "shell.execute_reply.started": "2022-04-24T09:52:39.799428Z"
    }
   },
   "source": [
    "Download the files in the https://github.com/ZhaiLab-SUSTech/flep_seq2_polya_analysis , and unzip the tar file like:\n",
    "    \n",
    "```\n",
    "tar -zxvf mRNA_median_length.tar.gz\n",
    "tar -zxvf genome_bed.tar.gz\n",
    "tar -zxvf orthofinder.tar.gz\n",
    "tar -zxvf alternative_spliced_isoform.tar.gz\n",
    "tar -zxvf tmp_gene_bam.tar.gz\n",
    "```"
   ]
  },
  {
   "cell_type": "markdown",
   "metadata": {},
   "source": [
    "### 1.1.1 mRNA_median_length\n",
    "\n",
    "Include mRNA median length of each library, for example: `seedling_rep1.polya_length.txt`\n",
    "\n",
    "```\n",
    "├── mRNA_median_length\n",
    "│   ├── seedling.polya_length.txt\n",
    "│   ├── seedling_rep1.polya_length.txt\n",
    "│   ├── seedling_rep2.polya_length.txt\n",
    "```"
   ]
  },
  {
   "cell_type": "code",
   "execution_count": 6,
   "metadata": {
    "execution": {
     "iopub.execute_input": "2022-04-24T07:48:18.223119Z",
     "iopub.status.busy": "2022-04-24T07:48:18.222446Z",
     "iopub.status.idle": "2022-04-24T07:48:18.334116Z",
     "shell.execute_reply": "2022-04-24T07:48:18.332839Z",
     "shell.execute_reply.started": "2022-04-24T07:48:18.223050Z"
    },
    "tags": []
   },
   "outputs": [
    {
     "data": {
      "text/html": [
       "<div>\n",
       "<style scoped>\n",
       "    .dataframe tbody tr th:only-of-type {\n",
       "        vertical-align: middle;\n",
       "    }\n",
       "\n",
       "    .dataframe tbody tr th {\n",
       "        vertical-align: top;\n",
       "    }\n",
       "\n",
       "    .dataframe thead th {\n",
       "        text-align: right;\n",
       "    }\n",
       "</style>\n",
       "<table border=\"1\" class=\"dataframe\">\n",
       "  <thead>\n",
       "    <tr style=\"text-align: right;\">\n",
       "      <th></th>\n",
       "      <th>mRNA</th>\n",
       "      <th>all_n_read</th>\n",
       "      <th>all_median_polya</th>\n",
       "      <th>all_mean_polya</th>\n",
       "      <th>ir_n_read</th>\n",
       "      <th>ir_median_polya</th>\n",
       "      <th>ir_mean_polya</th>\n",
       "      <th>spliced_n_read</th>\n",
       "      <th>spliced_median_polya</th>\n",
       "      <th>spliced_mean_polya</th>\n",
       "    </tr>\n",
       "  </thead>\n",
       "  <tbody>\n",
       "    <tr>\n",
       "      <th>0</th>\n",
       "      <td>AT1G01010.1</td>\n",
       "      <td>90</td>\n",
       "      <td>71.66</td>\n",
       "      <td>86.62</td>\n",
       "      <td>2</td>\n",
       "      <td>184.72</td>\n",
       "      <td>184.72</td>\n",
       "      <td>68</td>\n",
       "      <td>71.00</td>\n",
       "      <td>83.58</td>\n",
       "    </tr>\n",
       "    <tr>\n",
       "      <th>1</th>\n",
       "      <td>AT1G01020.1</td>\n",
       "      <td>185</td>\n",
       "      <td>163.57</td>\n",
       "      <td>151.30</td>\n",
       "      <td>41</td>\n",
       "      <td>219.73</td>\n",
       "      <td>221.71</td>\n",
       "      <td>108</td>\n",
       "      <td>143.92</td>\n",
       "      <td>126.59</td>\n",
       "    </tr>\n",
       "    <tr>\n",
       "      <th>2</th>\n",
       "      <td>AT1G01030.1</td>\n",
       "      <td>10</td>\n",
       "      <td>100.78</td>\n",
       "      <td>86.11</td>\n",
       "      <td>0</td>\n",
       "      <td>0.00</td>\n",
       "      <td>0.00</td>\n",
       "      <td>8</td>\n",
       "      <td>105.95</td>\n",
       "      <td>102.33</td>\n",
       "    </tr>\n",
       "    <tr>\n",
       "      <th>3</th>\n",
       "      <td>AT1G01040.2</td>\n",
       "      <td>17</td>\n",
       "      <td>160.11</td>\n",
       "      <td>144.70</td>\n",
       "      <td>0</td>\n",
       "      <td>0.00</td>\n",
       "      <td>0.00</td>\n",
       "      <td>0</td>\n",
       "      <td>0.00</td>\n",
       "      <td>0.00</td>\n",
       "    </tr>\n",
       "    <tr>\n",
       "      <th>4</th>\n",
       "      <td>AT1G01050.1</td>\n",
       "      <td>22</td>\n",
       "      <td>91.54</td>\n",
       "      <td>95.85</td>\n",
       "      <td>0</td>\n",
       "      <td>0.00</td>\n",
       "      <td>0.00</td>\n",
       "      <td>13</td>\n",
       "      <td>91.71</td>\n",
       "      <td>99.33</td>\n",
       "    </tr>\n",
       "  </tbody>\n",
       "</table>\n",
       "</div>"
      ],
      "text/plain": [
       "          mRNA  all_n_read  all_median_polya  all_mean_polya  ir_n_read  \\\n",
       "0  AT1G01010.1          90             71.66           86.62          2   \n",
       "1  AT1G01020.1         185            163.57          151.30         41   \n",
       "2  AT1G01030.1          10            100.78           86.11          0   \n",
       "3  AT1G01040.2          17            160.11          144.70          0   \n",
       "4  AT1G01050.1          22             91.54           95.85          0   \n",
       "\n",
       "   ir_median_polya  ir_mean_polya  spliced_n_read  spliced_median_polya  \\\n",
       "0           184.72         184.72              68                 71.00   \n",
       "1           219.73         221.71             108                143.92   \n",
       "2             0.00           0.00               8                105.95   \n",
       "3             0.00           0.00               0                  0.00   \n",
       "4             0.00           0.00              13                 91.71   \n",
       "\n",
       "   spliced_mean_polya  \n",
       "0               83.58  \n",
       "1              126.59  \n",
       "2              102.33  \n",
       "3                0.00  \n",
       "4               99.33  "
      ]
     },
     "execution_count": 6,
     "metadata": {},
     "output_type": "execute_result"
    }
   ],
   "source": [
    "\"\"\"\n",
    "Top five rows\n",
    "Each row represent one gene.\n",
    "All_*: all polyadenyated transcripts\n",
    "ir_*: only full length (5' end start in or upstream the first exon, \n",
    "        and  the 3' end end in or downstream the last exon) polyadenyated transcripts with unspliced introns\n",
    "spliced_*: only full length fully-spliced polyadenyated transcripts\n",
    "*n_read: read number \n",
    "*median_polya: median polya tail length\n",
    "*mean_polya: mean polya tail length\n",
    "\"\"\"\n",
    "import pandas as pd\n",
    "test = pd.read_csv(\"mRNA_median_length/seedling_rep1.polya_length.txt\", sep=\"\\t\")\n",
    "test.head()"
   ]
  },
  {
   "cell_type": "markdown",
   "metadata": {},
   "source": [
    "### 1.1.2 alternative_spliced_isoform\n",
    "\n",
    "Used for plot Fig.2e in the paper.\n",
    "\n",
    "```\n",
    "├── alternative_spliced_isoform\n",
    "│   ├── ath\n",
    "│   │   ├── isoform.bed\n",
    "│   │   ├── isoform.info.txt\n",
    "│   │   └── isoform_polya_length_stat.txt\n",
    "```\n",
    "\n",
    "The information of alternative splcied isoforms."
   ]
  },
  {
   "cell_type": "markdown",
   "metadata": {},
   "source": [
    "#### 1.1.2.1 isoform.bed"
   ]
  },
  {
   "cell_type": "markdown",
   "metadata": {},
   "source": [
    "See detail in https://genome.ucsc.edu/FAQ/FAQformat.html#format1.7\n",
    "\n",
    "The fourth column is isoform name. It contain \".\", such as AT1G01020.1, the string before \".\" is gene name (AT1G01020), the string after \".\" is used to distingush the isoforms of same gene."
   ]
  },
  {
   "cell_type": "code",
   "execution_count": 12,
   "metadata": {
    "execution": {
     "iopub.execute_input": "2022-04-24T08:07:03.063688Z",
     "iopub.status.busy": "2022-04-24T08:07:03.063183Z",
     "iopub.status.idle": "2022-04-24T08:07:03.103711Z",
     "shell.execute_reply": "2022-04-24T08:07:03.102514Z",
     "shell.execute_reply.started": "2022-04-24T08:07:03.063641Z"
    },
    "tags": []
   },
   "outputs": [
    {
     "data": {
      "text/html": [
       "<div>\n",
       "<style scoped>\n",
       "    .dataframe tbody tr th:only-of-type {\n",
       "        vertical-align: middle;\n",
       "    }\n",
       "\n",
       "    .dataframe tbody tr th {\n",
       "        vertical-align: top;\n",
       "    }\n",
       "\n",
       "    .dataframe thead th {\n",
       "        text-align: right;\n",
       "    }\n",
       "</style>\n",
       "<table border=\"1\" class=\"dataframe\">\n",
       "  <thead>\n",
       "    <tr style=\"text-align: right;\">\n",
       "      <th></th>\n",
       "      <th>0</th>\n",
       "      <th>1</th>\n",
       "      <th>2</th>\n",
       "      <th>3</th>\n",
       "      <th>4</th>\n",
       "      <th>5</th>\n",
       "      <th>6</th>\n",
       "      <th>7</th>\n",
       "      <th>8</th>\n",
       "      <th>9</th>\n",
       "      <th>10</th>\n",
       "      <th>11</th>\n",
       "    </tr>\n",
       "  </thead>\n",
       "  <tbody>\n",
       "    <tr>\n",
       "      <th>0</th>\n",
       "      <td>chr1</td>\n",
       "      <td>6787</td>\n",
       "      <td>9130</td>\n",
       "      <td>AT1G01020.1</td>\n",
       "      <td>0</td>\n",
       "      <td>-</td>\n",
       "      <td>6914</td>\n",
       "      <td>8666</td>\n",
       "      <td>0</td>\n",
       "      <td>9</td>\n",
       "      <td>282,76,67,86,74,46,90,48,560,</td>\n",
       "      <td>0,369,596,776,974,1154,1448,1629,1783,</td>\n",
       "    </tr>\n",
       "    <tr>\n",
       "      <th>1</th>\n",
       "      <td>chr1</td>\n",
       "      <td>6787</td>\n",
       "      <td>9130</td>\n",
       "      <td>AT1G01020.isoform2</td>\n",
       "      <td>0</td>\n",
       "      <td>-</td>\n",
       "      <td>6835</td>\n",
       "      <td>8666</td>\n",
       "      <td>0</td>\n",
       "      <td>9</td>\n",
       "      <td>282,76,67,86,74,46,90,48,537,</td>\n",
       "      <td>0,369,596,776,974,1154,1448,1629,1806,</td>\n",
       "    </tr>\n",
       "    <tr>\n",
       "      <th>2</th>\n",
       "      <td>chr1</td>\n",
       "      <td>99865</td>\n",
       "      <td>101987</td>\n",
       "      <td>AT1G01240.1</td>\n",
       "      <td>0</td>\n",
       "      <td>+</td>\n",
       "      <td>100682</td>\n",
       "      <td>101678</td>\n",
       "      <td>0</td>\n",
       "      <td>2</td>\n",
       "      <td>166,1331,</td>\n",
       "      <td>0,791,</td>\n",
       "    </tr>\n",
       "    <tr>\n",
       "      <th>3</th>\n",
       "      <td>chr1</td>\n",
       "      <td>99865</td>\n",
       "      <td>101987</td>\n",
       "      <td>AT1G01240.2</td>\n",
       "      <td>0</td>\n",
       "      <td>+</td>\n",
       "      <td>100682</td>\n",
       "      <td>101678</td>\n",
       "      <td>0</td>\n",
       "      <td>2</td>\n",
       "      <td>355,1331,</td>\n",
       "      <td>0,791,</td>\n",
       "    </tr>\n",
       "    <tr>\n",
       "      <th>4</th>\n",
       "      <td>chr1</td>\n",
       "      <td>387276</td>\n",
       "      <td>389808</td>\n",
       "      <td>AT1G02090.1</td>\n",
       "      <td>0</td>\n",
       "      <td>-</td>\n",
       "      <td>387478</td>\n",
       "      <td>389568</td>\n",
       "      <td>0</td>\n",
       "      <td>9</td>\n",
       "      <td>227,89,139,71,45,90,89,76,399,</td>\n",
       "      <td>0,307,991,1262,1439,1574,1773,1949,2133,</td>\n",
       "    </tr>\n",
       "  </tbody>\n",
       "</table>\n",
       "</div>"
      ],
      "text/plain": [
       "     0       1       2                   3   4  5       6       7   8   9   \\\n",
       "0  chr1    6787    9130         AT1G01020.1   0  -    6914    8666   0   9   \n",
       "1  chr1    6787    9130  AT1G01020.isoform2   0  -    6835    8666   0   9   \n",
       "2  chr1   99865  101987         AT1G01240.1   0  +  100682  101678   0   2   \n",
       "3  chr1   99865  101987         AT1G01240.2   0  +  100682  101678   0   2   \n",
       "4  chr1  387276  389808         AT1G02090.1   0  -  387478  389568   0   9   \n",
       "\n",
       "                               10                                        11  \n",
       "0   282,76,67,86,74,46,90,48,560,    0,369,596,776,974,1154,1448,1629,1783,  \n",
       "1   282,76,67,86,74,46,90,48,537,    0,369,596,776,974,1154,1448,1629,1806,  \n",
       "2                       166,1331,                                    0,791,  \n",
       "3                       355,1331,                                    0,791,  \n",
       "4  227,89,139,71,45,90,89,76,399,  0,307,991,1262,1439,1574,1773,1949,2133,  "
      ]
     },
     "execution_count": 12,
     "metadata": {},
     "output_type": "execute_result"
    }
   ],
   "source": [
    "import pandas as pd\n",
    "test = pd.read_csv(\"alternative_spliced_isoform/ath/isoform.bed\", sep=\"\\t\", header=None)\n",
    "test.head()"
   ]
  },
  {
   "cell_type": "markdown",
   "metadata": {
    "execution": {
     "iopub.execute_input": "2022-04-24T08:12:35.492327Z",
     "iopub.status.busy": "2022-04-24T08:12:35.491772Z",
     "iopub.status.idle": "2022-04-24T08:12:35.496733Z",
     "shell.execute_reply": "2022-04-24T08:12:35.495603Z",
     "shell.execute_reply.started": "2022-04-24T08:12:35.492274Z"
    },
    "tags": []
   },
   "source": [
    "#### 1.1.2.2 isoform.info.txt\n",
    "\n",
    "Each row is an isoform. The isoform with isoform_index of 0 is major isoform.\n",
    "\n",
    "The value in `select_intron_str` and `not_contain_intron_str` represent an intron (junction).\n",
    "\n",
    "`8465-8570` means the intron start is 8465, and  the intron end is 8570.\n",
    "\n",
    "`select_intron_str`: the isoform contains the intron.\n",
    "\n",
    "`not_contain_intron_str`: the isoform didn't contain the intron."
   ]
  },
  {
   "cell_type": "code",
   "execution_count": 14,
   "metadata": {
    "execution": {
     "iopub.execute_input": "2022-04-24T08:12:46.355289Z",
     "iopub.status.busy": "2022-04-24T08:12:46.354807Z",
     "iopub.status.idle": "2022-04-24T08:12:46.391365Z",
     "shell.execute_reply": "2022-04-24T08:12:46.390103Z",
     "shell.execute_reply.started": "2022-04-24T08:12:46.355239Z"
    }
   },
   "outputs": [
    {
     "data": {
      "text/html": [
       "<div>\n",
       "<style scoped>\n",
       "    .dataframe tbody tr th:only-of-type {\n",
       "        vertical-align: middle;\n",
       "    }\n",
       "\n",
       "    .dataframe tbody tr th {\n",
       "        vertical-align: top;\n",
       "    }\n",
       "\n",
       "    .dataframe thead th {\n",
       "        text-align: right;\n",
       "    }\n",
       "</style>\n",
       "<table border=\"1\" class=\"dataframe\">\n",
       "  <thead>\n",
       "    <tr style=\"text-align: right;\">\n",
       "      <th></th>\n",
       "      <th>gene</th>\n",
       "      <th>isoform_index</th>\n",
       "      <th>isoform_name</th>\n",
       "      <th>select_intron_str</th>\n",
       "      <th>not_contain_intron_str</th>\n",
       "      <th>annoted_represent_mRNA</th>\n",
       "    </tr>\n",
       "  </thead>\n",
       "  <tbody>\n",
       "    <tr>\n",
       "      <th>0</th>\n",
       "      <td>AT1G01020</td>\n",
       "      <td>0</td>\n",
       "      <td>AT1G01020.1</td>\n",
       "      <td>8465-8570</td>\n",
       "      <td>8465-8593</td>\n",
       "      <td>AT1G01020.1</td>\n",
       "    </tr>\n",
       "    <tr>\n",
       "      <th>1</th>\n",
       "      <td>AT1G01020</td>\n",
       "      <td>1</td>\n",
       "      <td>AT1G01020.isoform2</td>\n",
       "      <td>8465-8593</td>\n",
       "      <td>8465-8570</td>\n",
       "      <td>AT1G01020.1</td>\n",
       "    </tr>\n",
       "    <tr>\n",
       "      <th>2</th>\n",
       "      <td>AT1G01240</td>\n",
       "      <td>0</td>\n",
       "      <td>AT1G01240.1</td>\n",
       "      <td>100032-100656</td>\n",
       "      <td>100221-100656</td>\n",
       "      <td>AT1G01240.1</td>\n",
       "    </tr>\n",
       "    <tr>\n",
       "      <th>3</th>\n",
       "      <td>AT1G01240</td>\n",
       "      <td>1</td>\n",
       "      <td>AT1G01240.2</td>\n",
       "      <td>100221-100656</td>\n",
       "      <td>100032-100656</td>\n",
       "      <td>AT1G01240.1</td>\n",
       "    </tr>\n",
       "    <tr>\n",
       "      <th>4</th>\n",
       "      <td>AT1G02090</td>\n",
       "      <td>0</td>\n",
       "      <td>AT1G02090.1</td>\n",
       "      <td>387673-388267</td>\n",
       "      <td>387656-388267</td>\n",
       "      <td>AT1G02090.1</td>\n",
       "    </tr>\n",
       "  </tbody>\n",
       "</table>\n",
       "</div>"
      ],
      "text/plain": [
       "        gene  isoform_index        isoform_name select_intron_str  \\\n",
       "0  AT1G01020              0         AT1G01020.1         8465-8570   \n",
       "1  AT1G01020              1  AT1G01020.isoform2         8465-8593   \n",
       "2  AT1G01240              0         AT1G01240.1     100032-100656   \n",
       "3  AT1G01240              1         AT1G01240.2     100221-100656   \n",
       "4  AT1G02090              0         AT1G02090.1     387673-388267   \n",
       "\n",
       "  not_contain_intron_str annoted_represent_mRNA  \n",
       "0              8465-8593            AT1G01020.1  \n",
       "1              8465-8570            AT1G01020.1  \n",
       "2          100221-100656            AT1G01240.1  \n",
       "3          100032-100656            AT1G01240.1  \n",
       "4          387656-388267            AT1G02090.1  "
      ]
     },
     "execution_count": 14,
     "metadata": {},
     "output_type": "execute_result"
    }
   ],
   "source": [
    "import pandas as pd\n",
    "test = pd.read_csv(\"alternative_spliced_isoform/ath/isoform.info.txt\", sep=\"\\t\")\n",
    "test.head()"
   ]
  },
  {
   "cell_type": "markdown",
   "metadata": {},
   "source": [
    "#### 1.1.2.3 isoform_polya_length_stat.txt\n",
    "\n",
    "The read count and polya_length of major and minor isoforms.\n",
    "\n",
    "`minor_isoform_index` is the isoform_index of minor isoforms (stored in `isoform.info.txt`)\n",
    "\n",
    "The isoform_index of major isoform is 0, thus the file don't store `major_isoform_index`.\n",
    "\n",
    "*sample1*: data from replicate 1\n",
    "*sample2*: data from replicate 2\n",
    "\n",
    "`major_median_polya_length`, `minor_median_polya_length`: the median polya length of major and minor isoforms.\n",
    "\n",
    "The differentially analysis of polya tail length between major and minor isoforms:\n",
    "\n",
    "`padj`: the adjusted p values.\n",
    "\n",
    "`diff`: 0: not differential. 1: minor longer. 2: major longer."
   ]
  },
  {
   "cell_type": "code",
   "execution_count": 15,
   "metadata": {
    "execution": {
     "iopub.execute_input": "2022-04-24T08:16:18.079403Z",
     "iopub.status.busy": "2022-04-24T08:16:18.078820Z",
     "iopub.status.idle": "2022-04-24T08:16:18.141293Z",
     "shell.execute_reply": "2022-04-24T08:16:18.139908Z",
     "shell.execute_reply.started": "2022-04-24T08:16:18.079349Z"
    }
   },
   "outputs": [
    {
     "data": {
      "text/html": [
       "<div>\n",
       "<style scoped>\n",
       "    .dataframe tbody tr th:only-of-type {\n",
       "        vertical-align: middle;\n",
       "    }\n",
       "\n",
       "    .dataframe tbody tr th {\n",
       "        vertical-align: top;\n",
       "    }\n",
       "\n",
       "    .dataframe thead th {\n",
       "        text-align: right;\n",
       "    }\n",
       "</style>\n",
       "<table border=\"1\" class=\"dataframe\">\n",
       "  <thead>\n",
       "    <tr style=\"text-align: right;\">\n",
       "      <th></th>\n",
       "      <th>gene_name</th>\n",
       "      <th>minor_isoform_index</th>\n",
       "      <th>major_count</th>\n",
       "      <th>major_sample1_count</th>\n",
       "      <th>major_sample2_count</th>\n",
       "      <th>minor_count</th>\n",
       "      <th>minor_sample1_count</th>\n",
       "      <th>minor_sample2_count</th>\n",
       "      <th>major_median_polya_length</th>\n",
       "      <th>major_sample1_median_polya_length</th>\n",
       "      <th>...</th>\n",
       "      <th>minor_sample2_median_polya_length</th>\n",
       "      <th>major_mean_polya_length</th>\n",
       "      <th>major_sample1_mean_polya_length</th>\n",
       "      <th>major_sample2_mean_polya_length</th>\n",
       "      <th>minor_mean_polya_length</th>\n",
       "      <th>minor_sample1_mean_polya_length</th>\n",
       "      <th>minor_sample2_mean_polya_length</th>\n",
       "      <th>pvalue</th>\n",
       "      <th>padj</th>\n",
       "      <th>diff</th>\n",
       "    </tr>\n",
       "  </thead>\n",
       "  <tbody>\n",
       "    <tr>\n",
       "      <th>0</th>\n",
       "      <td>AT1G01020</td>\n",
       "      <td>1</td>\n",
       "      <td>243</td>\n",
       "      <td>108</td>\n",
       "      <td>135</td>\n",
       "      <td>95</td>\n",
       "      <td>39</td>\n",
       "      <td>56</td>\n",
       "      <td>169.119995</td>\n",
       "      <td>155.820000</td>\n",
       "      <td>...</td>\n",
       "      <td>197.369995</td>\n",
       "      <td>150.465185</td>\n",
       "      <td>139.333796</td>\n",
       "      <td>159.370296</td>\n",
       "      <td>179.463368</td>\n",
       "      <td>167.801026</td>\n",
       "      <td>187.585356</td>\n",
       "      <td>1.662318e-03</td>\n",
       "      <td>6.513881e-03</td>\n",
       "      <td>0.0</td>\n",
       "    </tr>\n",
       "    <tr>\n",
       "      <th>1</th>\n",
       "      <td>AT1G01240</td>\n",
       "      <td>1</td>\n",
       "      <td>413</td>\n",
       "      <td>195</td>\n",
       "      <td>218</td>\n",
       "      <td>69</td>\n",
       "      <td>32</td>\n",
       "      <td>37</td>\n",
       "      <td>80.559998</td>\n",
       "      <td>79.510002</td>\n",
       "      <td>...</td>\n",
       "      <td>112.209999</td>\n",
       "      <td>84.172518</td>\n",
       "      <td>85.544616</td>\n",
       "      <td>82.945184</td>\n",
       "      <td>109.071304</td>\n",
       "      <td>110.597188</td>\n",
       "      <td>107.751621</td>\n",
       "      <td>4.586873e-04</td>\n",
       "      <td>2.006178e-03</td>\n",
       "      <td>1.0</td>\n",
       "    </tr>\n",
       "    <tr>\n",
       "      <th>2</th>\n",
       "      <td>AT1G02090</td>\n",
       "      <td>1</td>\n",
       "      <td>125</td>\n",
       "      <td>57</td>\n",
       "      <td>68</td>\n",
       "      <td>21</td>\n",
       "      <td>10</td>\n",
       "      <td>11</td>\n",
       "      <td>93.930000</td>\n",
       "      <td>93.930000</td>\n",
       "      <td>...</td>\n",
       "      <td>118.239998</td>\n",
       "      <td>100.649680</td>\n",
       "      <td>94.593860</td>\n",
       "      <td>105.725883</td>\n",
       "      <td>116.458095</td>\n",
       "      <td>111.468001</td>\n",
       "      <td>120.994545</td>\n",
       "      <td>7.048142e-02</td>\n",
       "      <td>1.650136e-01</td>\n",
       "      <td>0.0</td>\n",
       "    </tr>\n",
       "    <tr>\n",
       "      <th>3</th>\n",
       "      <td>AT1G02560</td>\n",
       "      <td>1</td>\n",
       "      <td>656</td>\n",
       "      <td>314</td>\n",
       "      <td>342</td>\n",
       "      <td>28</td>\n",
       "      <td>13</td>\n",
       "      <td>15</td>\n",
       "      <td>97.544998</td>\n",
       "      <td>89.225002</td>\n",
       "      <td>...</td>\n",
       "      <td>82.489998</td>\n",
       "      <td>95.511143</td>\n",
       "      <td>91.532389</td>\n",
       "      <td>99.164152</td>\n",
       "      <td>88.481785</td>\n",
       "      <td>90.517692</td>\n",
       "      <td>86.717332</td>\n",
       "      <td>2.494276e-01</td>\n",
       "      <td>3.642569e-01</td>\n",
       "      <td>0.0</td>\n",
       "    </tr>\n",
       "    <tr>\n",
       "      <th>4</th>\n",
       "      <td>AT1G02840</td>\n",
       "      <td>1</td>\n",
       "      <td>516</td>\n",
       "      <td>257</td>\n",
       "      <td>259</td>\n",
       "      <td>89</td>\n",
       "      <td>44</td>\n",
       "      <td>45</td>\n",
       "      <td>67.095001</td>\n",
       "      <td>66.529999</td>\n",
       "      <td>...</td>\n",
       "      <td>247.470001</td>\n",
       "      <td>83.329458</td>\n",
       "      <td>84.371946</td>\n",
       "      <td>82.295020</td>\n",
       "      <td>241.208989</td>\n",
       "      <td>235.165001</td>\n",
       "      <td>247.118667</td>\n",
       "      <td>2.042683e-40</td>\n",
       "      <td>2.948272e-38</td>\n",
       "      <td>1.0</td>\n",
       "    </tr>\n",
       "  </tbody>\n",
       "</table>\n",
       "<p>5 rows × 23 columns</p>\n",
       "</div>"
      ],
      "text/plain": [
       "   gene_name  minor_isoform_index  major_count  major_sample1_count  \\\n",
       "0  AT1G01020                    1          243                  108   \n",
       "1  AT1G01240                    1          413                  195   \n",
       "2  AT1G02090                    1          125                   57   \n",
       "3  AT1G02560                    1          656                  314   \n",
       "4  AT1G02840                    1          516                  257   \n",
       "\n",
       "   major_sample2_count  minor_count  minor_sample1_count  minor_sample2_count  \\\n",
       "0                  135           95                   39                   56   \n",
       "1                  218           69                   32                   37   \n",
       "2                   68           21                   10                   11   \n",
       "3                  342           28                   13                   15   \n",
       "4                  259           89                   44                   45   \n",
       "\n",
       "   major_median_polya_length  major_sample1_median_polya_length  ...  \\\n",
       "0                 169.119995                         155.820000  ...   \n",
       "1                  80.559998                          79.510002  ...   \n",
       "2                  93.930000                          93.930000  ...   \n",
       "3                  97.544998                          89.225002  ...   \n",
       "4                  67.095001                          66.529999  ...   \n",
       "\n",
       "   minor_sample2_median_polya_length  major_mean_polya_length  \\\n",
       "0                         197.369995               150.465185   \n",
       "1                         112.209999                84.172518   \n",
       "2                         118.239998               100.649680   \n",
       "3                          82.489998                95.511143   \n",
       "4                         247.470001                83.329458   \n",
       "\n",
       "   major_sample1_mean_polya_length  major_sample2_mean_polya_length  \\\n",
       "0                       139.333796                       159.370296   \n",
       "1                        85.544616                        82.945184   \n",
       "2                        94.593860                       105.725883   \n",
       "3                        91.532389                        99.164152   \n",
       "4                        84.371946                        82.295020   \n",
       "\n",
       "   minor_mean_polya_length  minor_sample1_mean_polya_length  \\\n",
       "0               179.463368                       167.801026   \n",
       "1               109.071304                       110.597188   \n",
       "2               116.458095                       111.468001   \n",
       "3                88.481785                        90.517692   \n",
       "4               241.208989                       235.165001   \n",
       "\n",
       "   minor_sample2_mean_polya_length        pvalue          padj  diff  \n",
       "0                       187.585356  1.662318e-03  6.513881e-03   0.0  \n",
       "1                       107.751621  4.586873e-04  2.006178e-03   1.0  \n",
       "2                       120.994545  7.048142e-02  1.650136e-01   0.0  \n",
       "3                        86.717332  2.494276e-01  3.642569e-01   0.0  \n",
       "4                       247.118667  2.042683e-40  2.948272e-38   1.0  \n",
       "\n",
       "[5 rows x 23 columns]"
      ]
     },
     "execution_count": 15,
     "metadata": {},
     "output_type": "execute_result"
    }
   ],
   "source": [
    "import pandas as pd\n",
    "test = pd.read_csv(\"alternative_spliced_isoform/ath/isoform_polya_length_stat.txt\", sep=\"\\t\")\n",
    "test.head()"
   ]
  },
  {
   "cell_type": "markdown",
   "metadata": {
    "execution": {
     "iopub.execute_input": "2022-04-24T07:45:12.757599Z",
     "iopub.status.busy": "2022-04-24T07:45:12.756682Z",
     "iopub.status.idle": "2022-04-24T07:45:12.769239Z",
     "shell.execute_reply": "2022-04-24T07:45:12.766480Z",
     "shell.execute_reply.started": "2022-04-24T07:45:12.757507Z"
    }
   },
   "source": [
    "### 1.1.3 genome_bed\n",
    "\n",
    "See detail in https://genome.ucsc.edu/FAQ/FAQformat.html#format1.7.\n",
    "\n",
    "The used genome and annotation versions of Arabidopsis, soybean, rice, maize were ARAPROT11 (https://www.arabidopsis.org/), Wm82.gnm4.ann1.T8TQ (https://soybase.org/), MSU7 (http://rice.uga.edu), B73 RefGen_v5 (https://maizegdb.org), respectively.\n",
    "\n",
    "```\n",
    "├── genome_bed\n",
    "│   ├── ath.bed\n",
    "│   ├── maize.bed\n",
    "│   ├── rice.bed\n",
    "│   └── soybean.bed\n",
    "```"
   ]
  },
  {
   "cell_type": "code",
   "execution_count": 16,
   "metadata": {
    "execution": {
     "iopub.execute_input": "2022-04-24T08:26:03.353459Z",
     "iopub.status.busy": "2022-04-24T08:26:03.352860Z",
     "iopub.status.idle": "2022-04-24T08:26:03.569334Z",
     "shell.execute_reply": "2022-04-24T08:26:03.568075Z",
     "shell.execute_reply.started": "2022-04-24T08:26:03.353401Z"
    }
   },
   "outputs": [
    {
     "data": {
      "text/html": [
       "<div>\n",
       "<style scoped>\n",
       "    .dataframe tbody tr th:only-of-type {\n",
       "        vertical-align: middle;\n",
       "    }\n",
       "\n",
       "    .dataframe tbody tr th {\n",
       "        vertical-align: top;\n",
       "    }\n",
       "\n",
       "    .dataframe thead th {\n",
       "        text-align: right;\n",
       "    }\n",
       "</style>\n",
       "<table border=\"1\" class=\"dataframe\">\n",
       "  <thead>\n",
       "    <tr style=\"text-align: right;\">\n",
       "      <th></th>\n",
       "      <th>0</th>\n",
       "      <th>1</th>\n",
       "      <th>2</th>\n",
       "      <th>3</th>\n",
       "      <th>4</th>\n",
       "      <th>5</th>\n",
       "      <th>6</th>\n",
       "      <th>7</th>\n",
       "      <th>8</th>\n",
       "      <th>9</th>\n",
       "      <th>10</th>\n",
       "      <th>11</th>\n",
       "    </tr>\n",
       "  </thead>\n",
       "  <tbody>\n",
       "    <tr>\n",
       "      <th>0</th>\n",
       "      <td>chr1</td>\n",
       "      <td>3630</td>\n",
       "      <td>5899</td>\n",
       "      <td>AT1G01010.1</td>\n",
       "      <td>0</td>\n",
       "      <td>+</td>\n",
       "      <td>3759</td>\n",
       "      <td>5630</td>\n",
       "      <td>0</td>\n",
       "      <td>6</td>\n",
       "      <td>283,281,120,390,153,461,</td>\n",
       "      <td>0,365,855,1075,1543,1808,</td>\n",
       "    </tr>\n",
       "    <tr>\n",
       "      <th>1</th>\n",
       "      <td>chr1</td>\n",
       "      <td>6787</td>\n",
       "      <td>9130</td>\n",
       "      <td>AT1G01020.1</td>\n",
       "      <td>0</td>\n",
       "      <td>-</td>\n",
       "      <td>6914</td>\n",
       "      <td>8666</td>\n",
       "      <td>0</td>\n",
       "      <td>9</td>\n",
       "      <td>282,76,67,86,74,46,90,48,560,</td>\n",
       "      <td>0,369,596,776,974,1154,1448,1629,1783,</td>\n",
       "    </tr>\n",
       "    <tr>\n",
       "      <th>2</th>\n",
       "      <td>chr1</td>\n",
       "      <td>11648</td>\n",
       "      <td>13714</td>\n",
       "      <td>AT1G01030.1</td>\n",
       "      <td>0</td>\n",
       "      <td>-</td>\n",
       "      <td>11863</td>\n",
       "      <td>12940</td>\n",
       "      <td>0</td>\n",
       "      <td>2</td>\n",
       "      <td>1525,380,</td>\n",
       "      <td>0,1686,</td>\n",
       "    </tr>\n",
       "    <tr>\n",
       "      <th>3</th>\n",
       "      <td>chr1</td>\n",
       "      <td>23415</td>\n",
       "      <td>31120</td>\n",
       "      <td>AT1G01040.2</td>\n",
       "      <td>0</td>\n",
       "      <td>+</td>\n",
       "      <td>23518</td>\n",
       "      <td>31079</td>\n",
       "      <td>0</td>\n",
       "      <td>20</td>\n",
       "      <td>1036,114,211,395,220,173,123,161,234,151,183,1...</td>\n",
       "      <td>0,1126,1336,1625,2108,2409,2665,2876,3127,3446...</td>\n",
       "    </tr>\n",
       "    <tr>\n",
       "      <th>4</th>\n",
       "      <td>chr1</td>\n",
       "      <td>31169</td>\n",
       "      <td>33171</td>\n",
       "      <td>AT1G01050.1</td>\n",
       "      <td>0</td>\n",
       "      <td>-</td>\n",
       "      <td>31381</td>\n",
       "      <td>32670</td>\n",
       "      <td>0</td>\n",
       "      <td>9</td>\n",
       "      <td>255,82,121,66,108,66,29,124,143,</td>\n",
       "      <td>0,351,523,763,918,1112,1261,1377,1859,</td>\n",
       "    </tr>\n",
       "  </tbody>\n",
       "</table>\n",
       "</div>"
      ],
      "text/plain": [
       "     0      1      2            3   4  5      6      7   8   9   \\\n",
       "0  chr1   3630   5899  AT1G01010.1   0  +   3759   5630   0   6   \n",
       "1  chr1   6787   9130  AT1G01020.1   0  -   6914   8666   0   9   \n",
       "2  chr1  11648  13714  AT1G01030.1   0  -  11863  12940   0   2   \n",
       "3  chr1  23415  31120  AT1G01040.2   0  +  23518  31079   0  20   \n",
       "4  chr1  31169  33171  AT1G01050.1   0  -  31381  32670   0   9   \n",
       "\n",
       "                                                  10  \\\n",
       "0                           283,281,120,390,153,461,   \n",
       "1                      282,76,67,86,74,46,90,48,560,   \n",
       "2                                          1525,380,   \n",
       "3  1036,114,211,395,220,173,123,161,234,151,183,1...   \n",
       "4                   255,82,121,66,108,66,29,124,143,   \n",
       "\n",
       "                                                  11  \n",
       "0                          0,365,855,1075,1543,1808,  \n",
       "1             0,369,596,776,974,1154,1448,1629,1783,  \n",
       "2                                            0,1686,  \n",
       "3  0,1126,1336,1625,2108,2409,2665,2876,3127,3446...  \n",
       "4             0,351,523,763,918,1112,1261,1377,1859,  "
      ]
     },
     "execution_count": 16,
     "metadata": {},
     "output_type": "execute_result"
    }
   ],
   "source": [
    "import pandas as pd\n",
    "test = pd.read_csv(\"genome_bed/ath.bed\", sep=\"\\t\", header=None)\n",
    "test.head()"
   ]
  },
  {
   "cell_type": "markdown",
   "metadata": {
    "execution": {
     "iopub.execute_input": "2022-04-24T08:28:39.565748Z",
     "iopub.status.busy": "2022-04-24T08:28:39.565070Z",
     "iopub.status.idle": "2022-04-24T08:28:39.580487Z",
     "shell.execute_reply": "2022-04-24T08:28:39.578452Z",
     "shell.execute_reply.started": "2022-04-24T08:28:39.565682Z"
    }
   },
   "source": [
    "### 1.1.4 orthofinder\n",
    "\n",
    "To identify orthologs among different species, the protein sequences of all four species were exported to OrthoFinder software with default parameters.\n",
    "\n",
    "The files are the output of OrthoFinder software.\n",
    "\n",
    "```\n",
    "├── orthofinder\n",
    "│   ├── ath__v__maize.tsv\n",
    "│   ├── ath__v__rice.tsv\n",
    "│   ├── ath__v__soybean.tsv\n",
    "│   ├── rice__v__maize.tsv\n",
    "│   ├── soybean__v__maize.tsv\n",
    "│   └── soybean__v__rice.tsv\n",
    "```"
   ]
  },
  {
   "cell_type": "code",
   "execution_count": 19,
   "metadata": {
    "execution": {
     "iopub.execute_input": "2022-04-24T08:29:41.377872Z",
     "iopub.status.busy": "2022-04-24T08:29:41.377241Z",
     "iopub.status.idle": "2022-04-24T08:29:41.453995Z",
     "shell.execute_reply": "2022-04-24T08:29:41.452496Z",
     "shell.execute_reply.started": "2022-04-24T08:29:41.377809Z"
    },
    "tags": []
   },
   "outputs": [
    {
     "data": {
      "text/html": [
       "<div>\n",
       "<style scoped>\n",
       "    .dataframe tbody tr th:only-of-type {\n",
       "        vertical-align: middle;\n",
       "    }\n",
       "\n",
       "    .dataframe tbody tr th {\n",
       "        vertical-align: top;\n",
       "    }\n",
       "\n",
       "    .dataframe thead th {\n",
       "        text-align: right;\n",
       "    }\n",
       "</style>\n",
       "<table border=\"1\" class=\"dataframe\">\n",
       "  <thead>\n",
       "    <tr style=\"text-align: right;\">\n",
       "      <th></th>\n",
       "      <th>Orthogroup</th>\n",
       "      <th>ath</th>\n",
       "      <th>maize</th>\n",
       "    </tr>\n",
       "  </thead>\n",
       "  <tbody>\n",
       "    <tr>\n",
       "      <th>0</th>\n",
       "      <td>OG0000101</td>\n",
       "      <td>AT3G60330.1</td>\n",
       "      <td>Zm00001eb000210.1</td>\n",
       "    </tr>\n",
       "    <tr>\n",
       "      <th>1</th>\n",
       "      <td>OG0000101</td>\n",
       "      <td>AT3G47950.1, AT5G62670.1</td>\n",
       "      <td>Zm00001eb053440.1, Zm00001eb134090.1, Zm00001e...</td>\n",
       "    </tr>\n",
       "    <tr>\n",
       "      <th>2</th>\n",
       "      <td>OG0000101</td>\n",
       "      <td>AT2G07560.1, AT3G42640.1</td>\n",
       "      <td>Zm00001eb275100.2, Zm00001eb386740.1</td>\n",
       "    </tr>\n",
       "    <tr>\n",
       "      <th>3</th>\n",
       "      <td>OG0000101</td>\n",
       "      <td>AT2G24520.2</td>\n",
       "      <td>Zm00001eb067750.1, Zm00001eb432500.1</td>\n",
       "    </tr>\n",
       "    <tr>\n",
       "      <th>4</th>\n",
       "      <td>OG0000102</td>\n",
       "      <td>AT1G10360.1, AT1G10370.1</td>\n",
       "      <td>Zm00001eb173570.1, Zm00001eb021690.1, Zm00001e...</td>\n",
       "    </tr>\n",
       "  </tbody>\n",
       "</table>\n",
       "</div>"
      ],
      "text/plain": [
       "  Orthogroup                       ath  \\\n",
       "0  OG0000101               AT3G60330.1   \n",
       "1  OG0000101  AT3G47950.1, AT5G62670.1   \n",
       "2  OG0000101  AT2G07560.1, AT3G42640.1   \n",
       "3  OG0000101               AT2G24520.2   \n",
       "4  OG0000102  AT1G10360.1, AT1G10370.1   \n",
       "\n",
       "                                               maize  \n",
       "0                                  Zm00001eb000210.1  \n",
       "1  Zm00001eb053440.1, Zm00001eb134090.1, Zm00001e...  \n",
       "2               Zm00001eb275100.2, Zm00001eb386740.1  \n",
       "3               Zm00001eb067750.1, Zm00001eb432500.1  \n",
       "4  Zm00001eb173570.1, Zm00001eb021690.1, Zm00001e...  "
      ]
     },
     "execution_count": 19,
     "metadata": {},
     "output_type": "execute_result"
    }
   ],
   "source": [
    "import pandas as pd\n",
    "test = pd.read_csv(\"orthofinder/ath__v__maize.tsv\", sep=\"\\t\")\n",
    "test.head()"
   ]
  },
  {
   "cell_type": "markdown",
   "metadata": {},
   "source": [
    "### 1.1.5 tmp_gene_bam"
   ]
  },
  {
   "cell_type": "markdown",
   "metadata": {
    "execution": {
     "iopub.execute_input": "2022-04-24T08:31:22.585171Z",
     "iopub.status.busy": "2022-04-24T08:31:22.584426Z",
     "iopub.status.idle": "2022-04-24T08:31:22.598942Z",
     "shell.execute_reply": "2022-04-24T08:31:22.596409Z",
     "shell.execute_reply.started": "2022-04-24T08:31:22.585098Z"
    }
   },
   "source": [
    "Temporary bam files generated from original bam files. \n",
    "\n",
    "Bam is alignment file of seqeuncing reads. See detail in https://github.com/samtools/hts-specs.\n",
    "\n",
    "```\n",
    "── tmp_gene_bam\n",
    "    ├── AT3G01480.1.bam\n",
    "    ├── AT3G01480.1.bam.bai\n",
    "    ├── AT3G01480.ir.bam\n",
    "    ├── AT3G01480.ir.bam.bai\n",
    "    ├── AT3G01480.isoform2.bam\n",
    "    └── AT3G01480.isoform2.bam.bai\n",
    "```\n"
   ]
  },
  {
   "cell_type": "markdown",
   "metadata": {},
   "source": [
    "## 1.2 In China National Center for Bioinformation with accession OMIX881"
   ]
  },
  {
   "cell_type": "markdown",
   "metadata": {},
   "source": [
    "### 1.2.1 read information"
   ]
  },
  {
   "cell_type": "markdown",
   "metadata": {
    "execution": {
     "iopub.execute_input": "2022-04-24T08:45:33.778174Z",
     "iopub.status.busy": "2022-04-24T08:45:33.777248Z",
     "iopub.status.idle": "2022-04-24T08:45:33.800295Z",
     "shell.execute_reply": "2022-04-24T08:45:33.797785Z",
     "shell.execute_reply.started": "2022-04-24T08:45:33.778082Z"
    }
   },
   "source": [
    "Download read_info.tar and unzip them by `tar -xvf read_info.tar`.\n",
    "\n",
    "```\n",
    "├── read_info\n",
    "│   ├── ath_nuc.info.txt.gz\n",
    "│   ├── direct_rna.info.txt.gz\n",
    "│   ├── inflorescence_rep1.info.txt.gz\n",
    "│   ├── inflorescence_rep2.info.txt.gz\n",
    "│   ├── leaf_rep1.info.txt.gz\n",
    "│   ├── leaf_rep2.info.txt.gz\n",
    "│   ├── maize_nuc.info.txt.gz\n",
    "```\n",
    "\n",
    "Unzip each file using gunzip: `gunzip -c seedling_rep1.info.txt.gz > seedling_rep1.info.txt`.\n",
    "\n",
    "Each file is the information of all reads in one FLEP-seq2 library.\n",
    "\n",
    "The file is a simple version of read info file described in https://github.com/ZhaiLab-SUSTech/FLEPSeq.\n",
    "\n",
    "It is generate by extract_read_info.py and PolyACaller.py in https://github.com/ZhaiLab-SUSTech/FLEPSeq\n",
    "\n",
    "The columns:\n",
    "```\n",
    "read_core_id            de4d183f-9187-43e5-ab03-56ce63e7de88,chr1,7030,8176\n",
    "mRNA                    AT1G01020.1  #mRNA name       \n",
    "mRNA_length             2343                \n",
    "mRNA_intron_num         8            #total intron number of mRNA\n",
    "rel_mRNA_pos5           954          #the 5' end position of read relative to the 5' end of mRNA (0-based) \n",
    "rel_mRNA_pos3           -242         #the 3' end poistion of read relative to the 3' end of mRNA (0-based)\n",
    "f_feature_type          intron\n",
    "f_feature_num           3\n",
    "l_feature_type          exon\n",
    "l_feature_num           9\n",
    "retention_introns       3:4:6        #retained intron, seprated by \":\", the intron number is ordered from 5' mRNA to 3' mRNA\n",
    "type                    elongating\n",
    "polya_length            83.34\n",
    "```\n",
    "\n",
    "1. read_core_id\n",
    "\n",
    "Due to that one read may be mapped to multiple positions, we merge read id and mapping information to\n",
    "represent each alignment:\n",
    "\n",
    "```\n",
    "read_id:      7fab6cbf-a9ed-4427-951f-741515ddba0b\n",
    "read_core_id: 7fab6cbf-a9ed-4427-951f-741515ddba0b,chr1,7026,8687\n",
    "```\n",
    "\n",
    "3. rel_mRNA_pos5, and rel_mRNA_pos3\n",
    "\n",
    "\n",
    "```\n",
    "gene (length: l)  ----->>>>>>>>>>>>>>>>>>>>>>---------      >>>> repesent gene\n",
    "                  |    |   |              | |    |\n",
    "                 -4    0   4             -2 0    5\n",
    "                  (rel_mRNA_pos5)            (rel_mRNA_pos3)\n",
    "\n",
    "    gene          -----<<<<<<<<<<<<<<<<<<<<<<---------\n",
    "                       |                    |\n",
    "                  (rel_mRNA_pos3)      (rel_mRNA_pos5)\n",
    "```\n",
    "\n",
    "```\n",
    " >>>> exon,  .... intron\n",
    "mRNA            >>>>>>>>>>>.......>>>>>>>>>         \n",
    "read          >>>>>>>>>>>>>.......>>>>>>>>>>>> \n",
    "              |                              |        \n",
    "              |                              |          \n",
    "              |                              |        \n",
    "          rel_mRNA_pos5                 rel_mRNA_pos3\n",
    "```\n",
    "\n",
    "4. f_feature, l_feature\n",
    "\n",
    "```\n",
    "                  exon1        intron1          exon2        intron2       exon3\n",
    "mRNA           >>>>>>>>>>>>...............>>>>>>>>>>>>>>>...............>>>>>>>>>>>\n",
    "read                >>>>>>>...............>>>>>>>>>>>>>>>>>>>>>>>\n",
    "```\n",
    "\n",
    "f_feature: the 5' end feature overlapping with this read, in this example, it is the first exon: exon1, thus `f_feature_type` is \"exon\", `f_feature_num` is 1, it is the first read exon of the read overlapping with it, thus `f_read_exon_num` is 1. f_pos5 and f_pos3 is the position of the read exon 1 relative the exon1, the value is like \n",
    "mRNA_pos5 and mRNA_pos3.\n",
    "\n",
    "l_feature: the 3' end feature overlapping with this read, in this example, it is the second intron: intron2, thus `l_feature_type` is \"intron\", `l_feature_num` is 2, it is the second read exon of the read overlapping with it,  thus `l_read_exon_num` is 2.\n",
    "\n",
    "5. intron retention\n",
    "\n",
    "for each intron overlapping with this read:\n",
    "\n",
    "(a) if it is the f_feature: it would be retented. but this may be affected by 3' SS.\n",
    "\n",
    "(b) if it is the l_feature: the transcription hasn't been finished. not retented.\n",
    "\n",
    "(c) in the inner: if coverage_ratio >= 0.8: retention.\n",
    "\n",
    "6. type\n",
    "\n",
    "polyadenylated transcripts: (polya_length >= 10)\n",
    "\n",
    "`polya`: `end_type` is 3.\n",
    "\n",
    "`polya_5lost`: `end_type` is 0 or 2\n",
    "\n",
    "`polya_3_not_in_last_exon`: `end_type` is 1\n",
    "\n",
    "not polyadenylated transcripts:\n",
    "\n",
    "`elongating`\n",
    "\n",
    "`elongating_5lost`\n",
    "\n",
    "`elongating_3_mapping_low_accuracy`\n",
    "\n",
    "`splicing_intermediate`\n",
    "\n",
    "\n",
    "end_type:\n",
    "```\n",
    "mRNA                >>>>>>>>>>>.......>>>>>>>>>.........>>>>>>>>>>      \n",
    "read  end_type: 0                  >>>>>>>>>>>>>>>\n",
    "      end_type: 1     >>>>>>>>>>>>>>>>>>>>>>\n",
    "      end_type: 2                  >>>>>>>>>>>>>>>>>>>>>>>>>>>>>>\n",
    "      end_type: 3   >>>>>>>>>>>>>>>>>>>>>>>>>>>>>>>>>>>>>>>>>>>>>\n",
    "\n",
    "    #end5: read overlapped with the the first exon\n",
    "    #end3: read overlapped with the the last exon\n",
    "    #         noend5 end5\n",
    "    #noend3      0    1\n",
    "    #end3        2    3\n",
    "```\n",
    "\n",
    "See detail in https://github.com/ZhaiLab-SUSTech/FLEPSeq.\n"
   ]
  },
  {
   "cell_type": "code",
   "execution_count": 23,
   "metadata": {
    "execution": {
     "iopub.execute_input": "2022-04-24T08:46:23.990934Z",
     "iopub.status.busy": "2022-04-24T08:46:23.990083Z",
     "iopub.status.idle": "2022-04-24T08:46:46.780470Z",
     "shell.execute_reply": "2022-04-24T08:46:46.779142Z",
     "shell.execute_reply.started": "2022-04-24T08:46:23.990847Z"
    },
    "tags": []
   },
   "outputs": [
    {
     "name": "stderr",
     "output_type": "stream",
     "text": [
      "/public/home/jiajb/miniconda3/lib/python3.7/site-packages/IPython/core/interactiveshell.py:3170: DtypeWarning: Columns (10) have mixed types.Specify dtype option on import or set low_memory=False.\n",
      "  interactivity=interactivity, compiler=compiler, result=result)\n"
     ]
    },
    {
     "data": {
      "text/html": [
       "<div>\n",
       "<style scoped>\n",
       "    .dataframe tbody tr th:only-of-type {\n",
       "        vertical-align: middle;\n",
       "    }\n",
       "\n",
       "    .dataframe tbody tr th {\n",
       "        vertical-align: top;\n",
       "    }\n",
       "\n",
       "    .dataframe thead th {\n",
       "        text-align: right;\n",
       "    }\n",
       "</style>\n",
       "<table border=\"1\" class=\"dataframe\">\n",
       "  <thead>\n",
       "    <tr style=\"text-align: right;\">\n",
       "      <th></th>\n",
       "      <th>read_core_id</th>\n",
       "      <th>mRNA</th>\n",
       "      <th>mRNA_length</th>\n",
       "      <th>mRNA_intron_num</th>\n",
       "      <th>rel_mRNA_pos3</th>\n",
       "      <th>rel_mRNA_pos5</th>\n",
       "      <th>f_feature_type</th>\n",
       "      <th>f_feature_num</th>\n",
       "      <th>l_feature_type</th>\n",
       "      <th>l_feature_num</th>\n",
       "      <th>retention_introns</th>\n",
       "      <th>type</th>\n",
       "      <th>polya_length</th>\n",
       "    </tr>\n",
       "  </thead>\n",
       "  <tbody>\n",
       "    <tr>\n",
       "      <th>0</th>\n",
       "      <td>befd035a-f9e7-4568-ae12-f310c6daf13a,chr1,3614...</td>\n",
       "      <td>AT1G01010.1</td>\n",
       "      <td>2269</td>\n",
       "      <td>5</td>\n",
       "      <td>25</td>\n",
       "      <td>-17</td>\n",
       "      <td>exon</td>\n",
       "      <td>1</td>\n",
       "      <td>exon</td>\n",
       "      <td>6</td>\n",
       "      <td>NaN</td>\n",
       "      <td>polya</td>\n",
       "      <td>57.91</td>\n",
       "    </tr>\n",
       "    <tr>\n",
       "      <th>1</th>\n",
       "      <td>959c84fb-b55c-4ec5-ac2c-a981ca60c94f,chr1,3617...</td>\n",
       "      <td>AT1G01010.1</td>\n",
       "      <td>2269</td>\n",
       "      <td>5</td>\n",
       "      <td>-52</td>\n",
       "      <td>-14</td>\n",
       "      <td>exon</td>\n",
       "      <td>1</td>\n",
       "      <td>exon</td>\n",
       "      <td>6</td>\n",
       "      <td>NaN</td>\n",
       "      <td>polya</td>\n",
       "      <td>36.36</td>\n",
       "    </tr>\n",
       "    <tr>\n",
       "      <th>2</th>\n",
       "      <td>0495f54c-bc7d-4fbb-9ff0-4e3305cf4dff,chr1,3617...</td>\n",
       "      <td>AT1G01010.1</td>\n",
       "      <td>2269</td>\n",
       "      <td>5</td>\n",
       "      <td>-2009</td>\n",
       "      <td>-14</td>\n",
       "      <td>exon</td>\n",
       "      <td>1</td>\n",
       "      <td>exon</td>\n",
       "      <td>1</td>\n",
       "      <td>NaN</td>\n",
       "      <td>elongating_3_mapping_low_accuracy</td>\n",
       "      <td>1.74</td>\n",
       "    </tr>\n",
       "    <tr>\n",
       "      <th>3</th>\n",
       "      <td>d11aab7b-9ecd-461a-8532-e3c48864c89b,chr1,3627...</td>\n",
       "      <td>AT1G01010.1</td>\n",
       "      <td>2269</td>\n",
       "      <td>5</td>\n",
       "      <td>3</td>\n",
       "      <td>-4</td>\n",
       "      <td>exon</td>\n",
       "      <td>1</td>\n",
       "      <td>exon</td>\n",
       "      <td>6</td>\n",
       "      <td>NaN</td>\n",
       "      <td>polya</td>\n",
       "      <td>26.45</td>\n",
       "    </tr>\n",
       "    <tr>\n",
       "      <th>4</th>\n",
       "      <td>550afe87-d027-4d55-a1fb-2d0969bfd99c,chr1,3629...</td>\n",
       "      <td>AT1G01010.1</td>\n",
       "      <td>2269</td>\n",
       "      <td>5</td>\n",
       "      <td>-52</td>\n",
       "      <td>-2</td>\n",
       "      <td>exon</td>\n",
       "      <td>1</td>\n",
       "      <td>exon</td>\n",
       "      <td>6</td>\n",
       "      <td>NaN</td>\n",
       "      <td>polya</td>\n",
       "      <td>38.66</td>\n",
       "    </tr>\n",
       "  </tbody>\n",
       "</table>\n",
       "</div>"
      ],
      "text/plain": [
       "                                        read_core_id         mRNA  \\\n",
       "0  befd035a-f9e7-4568-ae12-f310c6daf13a,chr1,3614...  AT1G01010.1   \n",
       "1  959c84fb-b55c-4ec5-ac2c-a981ca60c94f,chr1,3617...  AT1G01010.1   \n",
       "2  0495f54c-bc7d-4fbb-9ff0-4e3305cf4dff,chr1,3617...  AT1G01010.1   \n",
       "3  d11aab7b-9ecd-461a-8532-e3c48864c89b,chr1,3627...  AT1G01010.1   \n",
       "4  550afe87-d027-4d55-a1fb-2d0969bfd99c,chr1,3629...  AT1G01010.1   \n",
       "\n",
       "   mRNA_length  mRNA_intron_num  rel_mRNA_pos3  rel_mRNA_pos5 f_feature_type  \\\n",
       "0         2269                5             25            -17           exon   \n",
       "1         2269                5            -52            -14           exon   \n",
       "2         2269                5          -2009            -14           exon   \n",
       "3         2269                5              3             -4           exon   \n",
       "4         2269                5            -52             -2           exon   \n",
       "\n",
       "   f_feature_num l_feature_type  l_feature_num retention_introns  \\\n",
       "0              1           exon              6               NaN   \n",
       "1              1           exon              6               NaN   \n",
       "2              1           exon              1               NaN   \n",
       "3              1           exon              6               NaN   \n",
       "4              1           exon              6               NaN   \n",
       "\n",
       "                                type  polya_length  \n",
       "0                              polya         57.91  \n",
       "1                              polya         36.36  \n",
       "2  elongating_3_mapping_low_accuracy          1.74  \n",
       "3                              polya         26.45  \n",
       "4                              polya         38.66  "
      ]
     },
     "execution_count": 23,
     "metadata": {},
     "output_type": "execute_result"
    }
   ],
   "source": [
    "import pandas as pd\n",
    "test = pd.read_csv(\"read_info/seedling_rep1.info.txt\", sep=\"\\t\")\n",
    "test.head()"
   ]
  },
  {
   "cell_type": "markdown",
   "metadata": {},
   "source": [
    "### 1.2.2 bam"
   ]
  },
  {
   "cell_type": "markdown",
   "metadata": {},
   "source": [
    "Bam is alignment file of seqeuncing reads. See detail in https://github.com/samtools/hts-specs.\n",
    "\n",
    "Download all bam files. \n",
    "\n",
    "Download `bai.tar.gz` and unzip it by `tar -zxvf bai.tar.gz`. These files are the index files of bam files.\n",
    "\n",
    "Creat `bam` directory by `mkdir bam`.\n",
    "\n",
    "Put all bam files and bai files in the `bam` directory.\n",
    "\n",
    "```\n",
    "├── bam\n",
    "│   ├── ath_nuc.bam\n",
    "│   ├── ath_nuc.bam.bai\n",
    "│   ├── inflorescence_rep1.bam\n",
    "│   ├── inflorescence_rep1.bam.bai\n",
    "│   ├── inflorescence_rep2.bam\n",
    "│   ├── inflorescence_rep2.bam.bai\n",
    "```\n",
    "\n",
    "The bam also stroes these tags (values from read_info.txt):\n",
    "\n",
    "```\n",
    "tag_name tag_type tag_meaning\n",
    "ty       Z        read_type\n",
    "mi       Z        mRNA name\n",
    "rs       Z        rna_strand\n",
    "ir       Z        retention_intron\n",
    "pa       f        polya_length\n",
    "```"
   ]
  },
  {
   "cell_type": "markdown",
   "metadata": {
    "execution": {
     "iopub.execute_input": "2022-04-24T07:43:57.381077Z",
     "iopub.status.busy": "2022-04-24T07:43:57.380388Z",
     "iopub.status.idle": "2022-04-24T07:43:57.387071Z",
     "shell.execute_reply": "2022-04-24T07:43:57.385253Z",
     "shell.execute_reply.started": "2022-04-24T07:43:57.381005Z"
    },
    "tags": []
   },
   "source": [
    "# 2. import"
   ]
  },
  {
   "cell_type": "markdown",
   "metadata": {},
   "source": [
    "Python 3.7.4"
   ]
  },
  {
   "cell_type": "code",
   "execution_count": 1,
   "metadata": {
    "execution": {
     "iopub.execute_input": "2022-04-24T09:53:55.818921Z",
     "iopub.status.busy": "2022-04-24T09:53:55.818378Z",
     "iopub.status.idle": "2022-04-24T09:53:57.542099Z",
     "shell.execute_reply": "2022-04-24T09:53:57.541015Z",
     "shell.execute_reply.started": "2022-04-24T09:53:55.818865Z"
    },
    "tags": []
   },
   "outputs": [],
   "source": [
    "import os\n",
    "import typing\n",
    "import matplotlib as mpl\n",
    "import matplotlib.pyplot as plt\n",
    "import numpy as np\n",
    "import pandas as pd\n",
    "import seaborn as sns\n",
    "import collections\n",
    "import math\n",
    "import scipy.stats\n",
    "from scipy.stats import gaussian_kde, variation\n",
    "from scipy.stats import pearsonr\n",
    "import sys"
   ]
  },
  {
   "cell_type": "code",
   "execution_count": 2,
   "metadata": {
    "execution": {
     "iopub.execute_input": "2022-04-24T09:53:57.544059Z",
     "iopub.status.busy": "2022-04-24T09:53:57.543727Z",
     "iopub.status.idle": "2022-04-24T09:53:57.550019Z",
     "shell.execute_reply": "2022-04-24T09:53:57.548911Z",
     "shell.execute_reply.started": "2022-04-24T09:53:57.544026Z"
    },
    "tags": []
   },
   "outputs": [],
   "source": [
    "%matplotlib inline"
   ]
  },
  {
   "cell_type": "code",
   "execution_count": 3,
   "metadata": {
    "execution": {
     "iopub.execute_input": "2022-04-24T09:53:57.551849Z",
     "iopub.status.busy": "2022-04-24T09:53:57.551539Z",
     "iopub.status.idle": "2022-04-24T09:53:57.570185Z",
     "shell.execute_reply": "2022-04-24T09:53:57.569128Z",
     "shell.execute_reply.started": "2022-04-24T09:53:57.551818Z"
    },
    "tags": []
   },
   "outputs": [],
   "source": [
    "%config InlineBackend.figure_format = 'retina'"
   ]
  },
  {
   "cell_type": "code",
   "execution_count": 4,
   "metadata": {
    "execution": {
     "iopub.execute_input": "2022-04-24T09:53:57.814702Z",
     "iopub.status.busy": "2022-04-24T09:53:57.814269Z",
     "iopub.status.idle": "2022-04-24T09:53:57.819575Z",
     "shell.execute_reply": "2022-04-24T09:53:57.818305Z",
     "shell.execute_reply.started": "2022-04-24T09:53:57.814659Z"
    },
    "tags": []
   },
   "outputs": [],
   "source": [
    "default_pal = sns.color_palette()"
   ]
  },
  {
   "cell_type": "markdown",
   "metadata": {},
   "source": [
    "# 3. Read data\n"
   ]
  },
  {
   "cell_type": "code",
   "execution_count": 5,
   "metadata": {
    "execution": {
     "iopub.execute_input": "2022-04-24T09:53:58.410264Z",
     "iopub.status.busy": "2022-04-24T09:53:58.409729Z",
     "iopub.status.idle": "2022-04-24T09:53:58.419949Z",
     "shell.execute_reply": "2022-04-24T09:53:58.418467Z",
     "shell.execute_reply.started": "2022-04-24T09:53:58.410202Z"
    },
    "tags": []
   },
   "outputs": [],
   "source": [
    "samples = ['inflorescence_rep1', 'inflorescence_rep2', \n",
    "           'root_rep1', 'root_rep2', \n",
    "           'seed_rep1', 'seed_rep2', \n",
    "           'seedling_rep1', 'seedling_rep2', \n",
    "           'shoot_rep1', 'shoot_rep2', \n",
    "           'leaf_rep1', 'leaf_rep2', \n",
    "           'pollen_rep1', 'pollen_rep2', \n",
    "           'soybean_rep1', 'soybean_rep2', \n",
    "           'maize_rep1', 'maize_rep2', \n",
    "           'rice_rep1', 'rice_rep2', \n",
    "           'maize_nuc', \n",
    "           'rice_nuc', \n",
    "           'soybean_nuc', \n",
    "           'ath_nuc',\n",
    "           'direct_rna']\n",
    "\n",
    "groups = [\"flower\", \"root\", \"seed\", \"leaf\",\n",
    "          \"shoot\", \"seedling\", \"pollen\", \n",
    "          \"soybean\", \"maize\", \"rice\"]"
   ]
  },
  {
   "cell_type": "code",
   "execution_count": 6,
   "metadata": {
    "execution": {
     "iopub.execute_input": "2022-04-24T09:53:59.928168Z",
     "iopub.status.busy": "2022-04-24T09:53:59.927642Z",
     "iopub.status.idle": "2022-04-24T09:53:59.933456Z",
     "shell.execute_reply": "2022-04-24T09:53:59.931954Z",
     "shell.execute_reply.started": "2022-04-24T09:53:59.928114Z"
    },
    "tags": []
   },
   "outputs": [],
   "source": [
    "data_dir = \"./\""
   ]
  },
  {
   "cell_type": "code",
   "execution_count": 7,
   "metadata": {
    "execution": {
     "iopub.execute_input": "2022-04-24T09:54:00.130428Z",
     "iopub.status.busy": "2022-04-24T09:54:00.129889Z",
     "iopub.status.idle": "2022-04-24T09:54:00.136130Z",
     "shell.execute_reply": "2022-04-24T09:54:00.134650Z",
     "shell.execute_reply.started": "2022-04-24T09:54:00.130374Z"
    },
    "tags": []
   },
   "outputs": [],
   "source": [
    "read_info_dir = os.path.join(data_dir, \"read_info\")"
   ]
  },
  {
   "cell_type": "code",
   "execution_count": 8,
   "metadata": {
    "execution": {
     "iopub.execute_input": "2022-04-24T09:54:00.322634Z",
     "iopub.status.busy": "2022-04-24T09:54:00.322107Z",
     "iopub.status.idle": "2022-04-24T09:54:00.328467Z",
     "shell.execute_reply": "2022-04-24T09:54:00.327017Z",
     "shell.execute_reply.started": "2022-04-24T09:54:00.322581Z"
    },
    "tags": []
   },
   "outputs": [],
   "source": [
    "homologous_data_dir = os.path.join(data_dir, \"orthofinder\")"
   ]
  },
  {
   "cell_type": "code",
   "execution_count": 9,
   "metadata": {
    "execution": {
     "iopub.execute_input": "2022-04-24T09:54:00.536348Z",
     "iopub.status.busy": "2022-04-24T09:54:00.535819Z",
     "iopub.status.idle": "2022-04-24T09:54:00.541836Z",
     "shell.execute_reply": "2022-04-24T09:54:00.540451Z",
     "shell.execute_reply.started": "2022-04-24T09:54:00.536295Z"
    },
    "tags": []
   },
   "outputs": [],
   "source": [
    "mRNA_median_length_dir = os.path.join(data_dir, \"mRNA_median_length\")"
   ]
  },
  {
   "cell_type": "code",
   "execution_count": 10,
   "metadata": {
    "execution": {
     "iopub.execute_input": "2022-04-24T09:54:00.930531Z",
     "iopub.status.busy": "2022-04-24T09:54:00.930001Z",
     "iopub.status.idle": "2022-04-24T09:54:00.936582Z",
     "shell.execute_reply": "2022-04-24T09:54:00.935185Z",
     "shell.execute_reply.started": "2022-04-24T09:54:00.930478Z"
    },
    "tags": []
   },
   "outputs": [],
   "source": [
    "origin_bam_dir = os.path.join(data_dir, \"bam\")\n",
    "tmp_gene_bam_dir = os.path.join(data_dir, \"tmp_gene_bam\")"
   ]
  },
  {
   "cell_type": "markdown",
   "metadata": {},
   "source": [
    "## 3.1 read info"
   ]
  },
  {
   "cell_type": "code",
   "execution_count": 19,
   "metadata": {
    "execution": {
     "iopub.execute_input": "2022-04-21T09:06:30.630890Z",
     "iopub.status.busy": "2022-04-21T09:06:30.630394Z",
     "iopub.status.idle": "2022-04-21T09:06:30.638078Z",
     "shell.execute_reply": "2022-04-21T09:06:30.636943Z",
     "shell.execute_reply.started": "2022-04-21T09:06:30.630842Z"
    },
    "tags": []
   },
   "outputs": [],
   "source": [
    "def read_info(sample):\n",
    "    #require read_info_dir\n",
    "    filein = os.path.join(read_info_dir, f\"{sample}.info.txt\")\n",
    "    data = pd.read_csv(filein, \n",
    "                       sep=\"\\t\",\n",
    "                       dtype={\"retention_introns\": str})\n",
    "    data.retention_introns.fillna(\"\", inplace=True)\n",
    "    return data"
   ]
  },
  {
   "cell_type": "code",
   "execution_count": 21,
   "metadata": {
    "execution": {
     "iopub.execute_input": "2022-04-21T09:08:44.363676Z",
     "iopub.status.busy": "2022-04-21T09:08:44.363215Z",
     "iopub.status.idle": "2022-04-21T09:08:44.369278Z",
     "shell.execute_reply": "2022-04-21T09:08:44.368313Z",
     "shell.execute_reply.started": "2022-04-21T09:08:44.363633Z"
    }
   },
   "outputs": [],
   "source": [
    "def read_info_ftr(sample):\n",
    "    #require read_info_dir\n",
    "    fileout = os.path.join(read_info_dir, f\"{sample}.info.ftr\")\n",
    "    data = pd.read_feather(fileout)\n",
    "    return data"
   ]
  },
  {
   "cell_type": "markdown",
   "metadata": {},
   "source": [
    "Read read info to Data Frame using the sample name."
   ]
  },
  {
   "cell_type": "code",
   "execution_count": 20,
   "metadata": {
    "execution": {
     "iopub.execute_input": "2022-04-21T09:06:31.334447Z",
     "iopub.status.busy": "2022-04-21T09:06:31.334013Z",
     "iopub.status.idle": "2022-04-21T09:06:56.052624Z",
     "shell.execute_reply": "2022-04-21T09:06:56.051226Z",
     "shell.execute_reply.started": "2022-04-21T09:06:31.334403Z"
    },
    "tags": []
   },
   "outputs": [],
   "source": [
    "seedling_rep1 = read_info(\"seedling_rep1\")"
   ]
  },
  {
   "cell_type": "code",
   "execution_count": 26,
   "metadata": {
    "execution": {
     "iopub.execute_input": "2022-04-21T09:13:53.626264Z",
     "iopub.status.busy": "2022-04-21T09:13:53.625894Z",
     "iopub.status.idle": "2022-04-21T09:14:20.549390Z",
     "shell.execute_reply": "2022-04-21T09:14:20.548151Z",
     "shell.execute_reply.started": "2022-04-21T09:13:53.626216Z"
    }
   },
   "outputs": [],
   "source": [
    "seedling_rep2 = read_info(\"seedling_rep2\")"
   ]
  },
  {
   "cell_type": "code",
   "execution_count": 59,
   "metadata": {
    "execution": {
     "iopub.execute_input": "2022-04-21T09:30:14.186479Z",
     "iopub.status.busy": "2022-04-21T09:30:14.185939Z",
     "iopub.status.idle": "2022-04-21T09:30:37.730472Z",
     "shell.execute_reply": "2022-04-21T09:30:37.728977Z",
     "shell.execute_reply.started": "2022-04-21T09:30:14.186429Z"
    },
    "tags": []
   },
   "outputs": [],
   "source": [
    "leaf_rep1 = read_info(\"leaf_rep1\")"
   ]
  },
  {
   "cell_type": "code",
   "execution_count": 60,
   "metadata": {
    "execution": {
     "iopub.execute_input": "2022-04-21T09:30:37.732721Z",
     "iopub.status.busy": "2022-04-21T09:30:37.732373Z",
     "iopub.status.idle": "2022-04-21T09:31:02.348659Z",
     "shell.execute_reply": "2022-04-21T09:31:02.346719Z",
     "shell.execute_reply.started": "2022-04-21T09:30:37.732686Z"
    },
    "tags": []
   },
   "outputs": [],
   "source": [
    "leaf_rep2 = read_info(\"leaf_rep2\")"
   ]
  },
  {
   "cell_type": "code",
   "execution_count": 137,
   "metadata": {
    "execution": {
     "iopub.execute_input": "2022-04-22T06:41:49.868868Z",
     "iopub.status.busy": "2022-04-22T06:41:49.867932Z",
     "iopub.status.idle": "2022-04-22T06:42:17.788472Z",
     "shell.execute_reply": "2022-04-22T06:42:17.787267Z",
     "shell.execute_reply.started": "2022-04-22T06:41:49.868777Z"
    }
   },
   "outputs": [],
   "source": [
    "ath_nuc = read_info(\"ath_nuc\")"
   ]
  },
  {
   "cell_type": "markdown",
   "metadata": {},
   "source": [
    "Option:\n",
    "You can write the Data Frame to feather file, and then you can read feather to load this Data Frame, which is faster."
   ]
  },
  {
   "cell_type": "code",
   "execution_count": 23,
   "metadata": {
    "execution": {
     "iopub.execute_input": "2022-04-21T09:11:06.133054Z",
     "iopub.status.busy": "2022-04-21T09:11:06.132618Z",
     "iopub.status.idle": "2022-04-21T09:11:20.727625Z",
     "shell.execute_reply": "2022-04-21T09:11:20.725536Z",
     "shell.execute_reply.started": "2022-04-21T09:11:06.133015Z"
    },
    "tags": []
   },
   "outputs": [],
   "source": [
    "sample = \"seedling_rep1\"\n",
    "fileout = os.path.join(read_info_dir, f\"{sample}.info.ftr\")\n",
    "#write\n",
    "seedling_rep1.to_feather(fileout)"
   ]
  },
  {
   "cell_type": "code",
   "execution_count": 24,
   "metadata": {
    "execution": {
     "iopub.execute_input": "2022-04-21T09:11:24.312750Z",
     "iopub.status.busy": "2022-04-21T09:11:24.312133Z",
     "iopub.status.idle": "2022-04-21T09:11:33.275835Z",
     "shell.execute_reply": "2022-04-21T09:11:33.274251Z",
     "shell.execute_reply.started": "2022-04-21T09:11:24.312688Z"
    }
   },
   "outputs": [],
   "source": [
    "#load\n",
    "seedling_rep1 = read_info_ftr(\"seedling_rep1\")"
   ]
  },
  {
   "cell_type": "markdown",
   "metadata": {},
   "source": [
    "## 3.2 (Option) Calculate median poly(A) length of genes"
   ]
  },
  {
   "cell_type": "code",
   "execution_count": 63,
   "metadata": {
    "execution": {
     "iopub.execute_input": "2022-04-22T02:31:42.680182Z",
     "iopub.status.busy": "2022-04-22T02:31:42.679248Z",
     "iopub.status.idle": "2022-04-22T02:31:42.693571Z",
     "shell.execute_reply": "2022-04-22T02:31:42.691581Z",
     "shell.execute_reply.started": "2022-04-22T02:31:42.680091Z"
    }
   },
   "outputs": [],
   "source": [
    "def stat_polya_length(df, columns=(\"mRNA\", \"n_read\", \"median_polya\", \"mean_polya\")):\n",
    "    stat_results = (df.groupby('mRNA')[\"polya_length\"].\n",
    "                      agg([len, np.median, np.mean]).\n",
    "                      reset_index())\n",
    "    if columns:\n",
    "        stat_results.columns = columns\n",
    "    return stat_results"
   ]
  },
  {
   "cell_type": "code",
   "execution_count": 81,
   "metadata": {
    "execution": {
     "iopub.execute_input": "2022-04-22T03:24:17.160554Z",
     "iopub.status.busy": "2022-04-22T03:24:17.159675Z",
     "iopub.status.idle": "2022-04-22T03:24:17.181831Z",
     "shell.execute_reply": "2022-04-22T03:24:17.180185Z",
     "shell.execute_reply.started": "2022-04-22T03:24:17.160464Z"
    },
    "tags": []
   },
   "outputs": [],
   "source": [
    "def stat_all_ir_spliced_polya_length(df):\n",
    "    df = df.query('polya_length >= 10')\n",
    "    all_polya_length = stat_polya_length(df, [\"mRNA\", \"all_n_read\", \"all_median_polya\", \"all_mean_polya\"])\n",
    "    \n",
    "    df_full_length = df.query('type == \"polya\"')\n",
    "    df_ir = df_full_length.query('retention_introns != \"\"')\n",
    "    df_spliced = df_full_length.query('retention_introns == \"\"')\n",
    "    \n",
    "    ir_polya_length = stat_polya_length(df_ir,\n",
    "                                        [\"mRNA\", \"ir_n_read\", \"ir_median_polya\", \"ir_mean_polya\"])\n",
    "    \n",
    "    spliced_polya_length = stat_polya_length(df_spliced,\n",
    "                                        [\"mRNA\", \"spliced_n_read\", \"spliced_median_polya\", \"spliced_mean_polya\"])\n",
    "    \n",
    "    mRNA_polya_length = (all_polya_length.\n",
    "                            merge(ir_polya_length, on=\"mRNA\", how=\"left\").\n",
    "                            merge(spliced_polya_length, on=\"mRNA\", how=\"left\"))\n",
    "    \n",
    "    mRNA_polya_length.fillna(0, inplace=True)\n",
    "    \n",
    "    for column in [\"all_n_read\", \"ir_n_read\", \"spliced_n_read\"]:\n",
    "        mRNA_polya_length[column] = mRNA_polya_length[column].astype(int)\n",
    "        \n",
    "    return mRNA_polya_length"
   ]
  },
  {
   "cell_type": "code",
   "execution_count": 82,
   "metadata": {
    "execution": {
     "iopub.execute_input": "2022-04-22T03:24:17.515513Z",
     "iopub.status.busy": "2022-04-22T03:24:17.514664Z",
     "iopub.status.idle": "2022-04-22T03:24:25.839584Z",
     "shell.execute_reply": "2022-04-22T03:24:25.838512Z",
     "shell.execute_reply.started": "2022-04-22T03:24:17.515427Z"
    },
    "tags": []
   },
   "outputs": [],
   "source": [
    "seedling_rep1_polya_length = stat_all_ir_spliced_polya_length(seedling_rep1)"
   ]
  },
  {
   "cell_type": "code",
   "execution_count": 83,
   "metadata": {
    "execution": {
     "iopub.execute_input": "2022-04-22T03:24:25.841433Z",
     "iopub.status.busy": "2022-04-22T03:24:25.841086Z",
     "iopub.status.idle": "2022-04-22T03:24:34.838554Z",
     "shell.execute_reply": "2022-04-22T03:24:34.837494Z",
     "shell.execute_reply.started": "2022-04-22T03:24:25.841399Z"
    },
    "tags": []
   },
   "outputs": [],
   "source": [
    "seedling_rep2_polya_length = stat_all_ir_spliced_polya_length(seedling_rep2)"
   ]
  },
  {
   "cell_type": "code",
   "execution_count": 138,
   "metadata": {
    "execution": {
     "iopub.execute_input": "2022-04-22T06:53:22.431632Z",
     "iopub.status.busy": "2022-04-22T06:53:22.430657Z",
     "iopub.status.idle": "2022-04-22T06:53:24.405692Z",
     "shell.execute_reply": "2022-04-22T06:53:24.404783Z",
     "shell.execute_reply.started": "2022-04-22T06:53:22.431538Z"
    },
    "tags": []
   },
   "outputs": [],
   "source": [
    "ath_nuc_polya_length = stat_all_ir_spliced_polya_length(ath_nuc)"
   ]
  },
  {
   "cell_type": "code",
   "execution_count": 84,
   "metadata": {
    "execution": {
     "iopub.execute_input": "2022-04-22T03:24:34.840673Z",
     "iopub.status.busy": "2022-04-22T03:24:34.840343Z",
     "iopub.status.idle": "2022-04-22T03:24:59.791685Z",
     "shell.execute_reply": "2022-04-22T03:24:59.790578Z",
     "shell.execute_reply.started": "2022-04-22T03:24:34.840640Z"
    },
    "tags": []
   },
   "outputs": [],
   "source": [
    "seedling_polya_length = stat_all_ir_spliced_polya_length(pd.concat([seedling_rep1, seedling_rep2]))"
   ]
  },
  {
   "cell_type": "code",
   "execution_count": 85,
   "metadata": {
    "execution": {
     "iopub.execute_input": "2022-04-22T03:24:59.793570Z",
     "iopub.status.busy": "2022-04-22T03:24:59.793240Z",
     "iopub.status.idle": "2022-04-22T03:24:59.826464Z",
     "shell.execute_reply": "2022-04-22T03:24:59.825511Z",
     "shell.execute_reply.started": "2022-04-22T03:24:59.793537Z"
    },
    "tags": []
   },
   "outputs": [
    {
     "data": {
      "text/html": [
       "<div>\n",
       "<style scoped>\n",
       "    .dataframe tbody tr th:only-of-type {\n",
       "        vertical-align: middle;\n",
       "    }\n",
       "\n",
       "    .dataframe tbody tr th {\n",
       "        vertical-align: top;\n",
       "    }\n",
       "\n",
       "    .dataframe thead th {\n",
       "        text-align: right;\n",
       "    }\n",
       "</style>\n",
       "<table border=\"1\" class=\"dataframe\">\n",
       "  <thead>\n",
       "    <tr style=\"text-align: right;\">\n",
       "      <th></th>\n",
       "      <th>mRNA</th>\n",
       "      <th>all_n_read</th>\n",
       "      <th>all_median_polya</th>\n",
       "      <th>all_mean_polya</th>\n",
       "      <th>ir_n_read</th>\n",
       "      <th>ir_median_polya</th>\n",
       "      <th>ir_mean_polya</th>\n",
       "      <th>spliced_n_read</th>\n",
       "      <th>spliced_median_polya</th>\n",
       "      <th>spliced_mean_polya</th>\n",
       "    </tr>\n",
       "  </thead>\n",
       "  <tbody>\n",
       "    <tr>\n",
       "      <th>0</th>\n",
       "      <td>AT1G01010.1</td>\n",
       "      <td>90</td>\n",
       "      <td>71.665</td>\n",
       "      <td>86.615222</td>\n",
       "      <td>2</td>\n",
       "      <td>184.720</td>\n",
       "      <td>184.720000</td>\n",
       "      <td>68</td>\n",
       "      <td>71.005</td>\n",
       "      <td>83.584706</td>\n",
       "    </tr>\n",
       "    <tr>\n",
       "      <th>1</th>\n",
       "      <td>AT1G01020.1</td>\n",
       "      <td>185</td>\n",
       "      <td>163.570</td>\n",
       "      <td>151.295946</td>\n",
       "      <td>41</td>\n",
       "      <td>219.730</td>\n",
       "      <td>221.713415</td>\n",
       "      <td>108</td>\n",
       "      <td>143.920</td>\n",
       "      <td>126.593889</td>\n",
       "    </tr>\n",
       "    <tr>\n",
       "      <th>2</th>\n",
       "      <td>AT1G01030.1</td>\n",
       "      <td>10</td>\n",
       "      <td>100.780</td>\n",
       "      <td>86.113000</td>\n",
       "      <td>0</td>\n",
       "      <td>0.000</td>\n",
       "      <td>0.000000</td>\n",
       "      <td>8</td>\n",
       "      <td>105.950</td>\n",
       "      <td>102.328750</td>\n",
       "    </tr>\n",
       "    <tr>\n",
       "      <th>3</th>\n",
       "      <td>AT1G01040.2</td>\n",
       "      <td>17</td>\n",
       "      <td>160.110</td>\n",
       "      <td>144.695294</td>\n",
       "      <td>0</td>\n",
       "      <td>0.000</td>\n",
       "      <td>0.000000</td>\n",
       "      <td>0</td>\n",
       "      <td>0.000</td>\n",
       "      <td>0.000000</td>\n",
       "    </tr>\n",
       "    <tr>\n",
       "      <th>4</th>\n",
       "      <td>AT1G01050.1</td>\n",
       "      <td>22</td>\n",
       "      <td>91.540</td>\n",
       "      <td>95.845000</td>\n",
       "      <td>0</td>\n",
       "      <td>0.000</td>\n",
       "      <td>0.000000</td>\n",
       "      <td>13</td>\n",
       "      <td>91.710</td>\n",
       "      <td>99.326923</td>\n",
       "    </tr>\n",
       "    <tr>\n",
       "      <th>...</th>\n",
       "      <td>...</td>\n",
       "      <td>...</td>\n",
       "      <td>...</td>\n",
       "      <td>...</td>\n",
       "      <td>...</td>\n",
       "      <td>...</td>\n",
       "      <td>...</td>\n",
       "      <td>...</td>\n",
       "      <td>...</td>\n",
       "      <td>...</td>\n",
       "    </tr>\n",
       "    <tr>\n",
       "      <th>20985</th>\n",
       "      <td>AT5G67600.1</td>\n",
       "      <td>705</td>\n",
       "      <td>73.390</td>\n",
       "      <td>80.892482</td>\n",
       "      <td>5</td>\n",
       "      <td>167.270</td>\n",
       "      <td>156.012000</td>\n",
       "      <td>669</td>\n",
       "      <td>72.690</td>\n",
       "      <td>79.936457</td>\n",
       "    </tr>\n",
       "    <tr>\n",
       "      <th>20986</th>\n",
       "      <td>AT5G67610.2</td>\n",
       "      <td>67</td>\n",
       "      <td>145.270</td>\n",
       "      <td>139.103582</td>\n",
       "      <td>11</td>\n",
       "      <td>198.880</td>\n",
       "      <td>196.394545</td>\n",
       "      <td>38</td>\n",
       "      <td>140.025</td>\n",
       "      <td>124.522895</td>\n",
       "    </tr>\n",
       "    <tr>\n",
       "      <th>20987</th>\n",
       "      <td>AT5G67620.1</td>\n",
       "      <td>28</td>\n",
       "      <td>112.650</td>\n",
       "      <td>98.608571</td>\n",
       "      <td>0</td>\n",
       "      <td>0.000</td>\n",
       "      <td>0.000000</td>\n",
       "      <td>26</td>\n",
       "      <td>112.650</td>\n",
       "      <td>96.850769</td>\n",
       "    </tr>\n",
       "    <tr>\n",
       "      <th>20988</th>\n",
       "      <td>AT5G67630.1</td>\n",
       "      <td>43</td>\n",
       "      <td>59.680</td>\n",
       "      <td>69.007209</td>\n",
       "      <td>0</td>\n",
       "      <td>0.000</td>\n",
       "      <td>0.000000</td>\n",
       "      <td>31</td>\n",
       "      <td>59.680</td>\n",
       "      <td>72.743548</td>\n",
       "    </tr>\n",
       "    <tr>\n",
       "      <th>20989</th>\n",
       "      <td>AT5G67640.1</td>\n",
       "      <td>57</td>\n",
       "      <td>87.770</td>\n",
       "      <td>92.300351</td>\n",
       "      <td>2</td>\n",
       "      <td>225.915</td>\n",
       "      <td>225.915000</td>\n",
       "      <td>47</td>\n",
       "      <td>75.750</td>\n",
       "      <td>82.533191</td>\n",
       "    </tr>\n",
       "  </tbody>\n",
       "</table>\n",
       "<p>20990 rows × 10 columns</p>\n",
       "</div>"
      ],
      "text/plain": [
       "              mRNA  all_n_read  all_median_polya  all_mean_polya  ir_n_read  \\\n",
       "0      AT1G01010.1          90            71.665       86.615222          2   \n",
       "1      AT1G01020.1         185           163.570      151.295946         41   \n",
       "2      AT1G01030.1          10           100.780       86.113000          0   \n",
       "3      AT1G01040.2          17           160.110      144.695294          0   \n",
       "4      AT1G01050.1          22            91.540       95.845000          0   \n",
       "...            ...         ...               ...             ...        ...   \n",
       "20985  AT5G67600.1         705            73.390       80.892482          5   \n",
       "20986  AT5G67610.2          67           145.270      139.103582         11   \n",
       "20987  AT5G67620.1          28           112.650       98.608571          0   \n",
       "20988  AT5G67630.1          43            59.680       69.007209          0   \n",
       "20989  AT5G67640.1          57            87.770       92.300351          2   \n",
       "\n",
       "       ir_median_polya  ir_mean_polya  spliced_n_read  spliced_median_polya  \\\n",
       "0              184.720     184.720000              68                71.005   \n",
       "1              219.730     221.713415             108               143.920   \n",
       "2                0.000       0.000000               8               105.950   \n",
       "3                0.000       0.000000               0                 0.000   \n",
       "4                0.000       0.000000              13                91.710   \n",
       "...                ...            ...             ...                   ...   \n",
       "20985          167.270     156.012000             669                72.690   \n",
       "20986          198.880     196.394545              38               140.025   \n",
       "20987            0.000       0.000000              26               112.650   \n",
       "20988            0.000       0.000000              31                59.680   \n",
       "20989          225.915     225.915000              47                75.750   \n",
       "\n",
       "       spliced_mean_polya  \n",
       "0               83.584706  \n",
       "1              126.593889  \n",
       "2              102.328750  \n",
       "3                0.000000  \n",
       "4               99.326923  \n",
       "...                   ...  \n",
       "20985           79.936457  \n",
       "20986          124.522895  \n",
       "20987           96.850769  \n",
       "20988           72.743548  \n",
       "20989           82.533191  \n",
       "\n",
       "[20990 rows x 10 columns]"
      ]
     },
     "execution_count": 85,
     "metadata": {},
     "output_type": "execute_result"
    }
   ],
   "source": [
    "seedling_rep1_polya_length"
   ]
  },
  {
   "cell_type": "markdown",
   "metadata": {},
   "source": [
    "# 4. Fig 1 Plot length distriubtion"
   ]
  },
  {
   "cell_type": "markdown",
   "metadata": {},
   "source": [
    "## 4.1 Plot hist read length distriubtion"
   ]
  },
  {
   "cell_type": "markdown",
   "metadata": {},
   "source": [
    "Flep-seq2 can capture both the transcripts with and without poly(A) tails.\n",
    "\n",
    "We used min_polya_length of 10 to chose poly(A) reads."
   ]
  },
  {
   "cell_type": "code",
   "execution_count": 98,
   "metadata": {
    "execution": {
     "iopub.execute_input": "2022-04-22T05:59:28.207545Z",
     "iopub.status.busy": "2022-04-22T05:59:28.206622Z",
     "iopub.status.idle": "2022-04-22T05:59:28.235088Z",
     "shell.execute_reply": "2022-04-22T05:59:28.233693Z",
     "shell.execute_reply.started": "2022-04-22T05:59:28.207456Z"
    },
    "tags": []
   },
   "outputs": [],
   "source": [
    "def plot_hist_samples_polya_length(xs,\n",
    "                                   samples,\n",
    "                                   bin_length=1,\n",
    "                                   min_length=10, \n",
    "                                   max_length = 300, \n",
    "                                   figsize=None, \n",
    "                                   linewidth=2, \n",
    "                                   linestyle=None, \n",
    "                                   color=None, \n",
    "                                   plot_legend=True, \n",
    "                                   ax=None,\n",
    "                                   xlab=\"Poly(A) tail length\",\n",
    "                                   ylab=\"Ratio of Reads\"):\n",
    "    \n",
    "    if ax is None:\n",
    "        fig, ax = plt.subplots(figsize=figsize)\n",
    "        \n",
    "    for sample, x in zip(samples, xs):\n",
    "        x = x[(x >= min_length) & (x <= max_length)]\n",
    "        w = np.ones(len(x)) / x.sum()\n",
    "        ax.hist(\n",
    "            x,\n",
    "            bins = np.arange(min_length, max_length, bin_length),\n",
    "            weights=w,\n",
    "            histtype=\"step\",\n",
    "            label=sample,\n",
    "            density=True,\n",
    "            linewidth=linewidth,\n",
    "            linestyle=linestyle,\n",
    "            color=color\n",
    "        )\n",
    "        \n",
    "    ax.set_ylim(0)\n",
    "    ax.set_xlim(None, max_length)\n",
    "\n",
    "    ax.set_xlabel(xlab)\n",
    "    ax.set_ylabel(ylab)\n",
    "    if plot_legend:\n",
    "        plt.legend(bbox_to_anchor=[1, 0.5])"
   ]
  },
  {
   "cell_type": "code",
   "execution_count": 79,
   "metadata": {
    "execution": {
     "iopub.execute_input": "2022-04-22T03:24:02.599345Z",
     "iopub.status.busy": "2022-04-22T03:24:02.598458Z",
     "iopub.status.idle": "2022-04-22T03:24:04.937473Z",
     "shell.execute_reply": "2022-04-22T03:24:04.936517Z",
     "shell.execute_reply.started": "2022-04-22T03:24:02.599256Z"
    },
    "tags": []
   },
   "outputs": [
    {
     "data": {
      "image/png": "[encoded data removed]",
      "text/plain": [
       "<Figure size 216x216 with 1 Axes>"
      ]
     },
     "metadata": {
      "image/png": {
       "height": 209,
       "width": 342
      },
      "needs_background": "light"
     },
     "output_type": "display_data"
    }
   ],
   "source": [
    "plot_hist_samples_polya_length(xs = [seedling_rep1.polya_length, seedling_rep2.polya_length],\n",
    "                              samples = [\"seedling_rep1\", \"seedling_rep2\"],\n",
    "                              figsize = [3, 3],\n",
    "                              plot_legend = True)"
   ]
  },
  {
   "cell_type": "code",
   "execution_count": 80,
   "metadata": {
    "execution": {
     "iopub.execute_input": "2022-04-22T03:24:04.939207Z",
     "iopub.status.busy": "2022-04-22T03:24:04.938888Z",
     "iopub.status.idle": "2022-04-22T03:24:08.471544Z",
     "shell.execute_reply": "2022-04-22T03:24:08.470590Z",
     "shell.execute_reply.started": "2022-04-22T03:24:04.939174Z"
    },
    "tags": []
   },
   "outputs": [
    {
     "data": {
      "image/png": "[encoded data removed]",
      "text/plain": [
       "<Figure size 216x216 with 1 Axes>"
      ]
     },
     "metadata": {
      "image/png": {
       "height": 210,
       "width": 314
      },
      "needs_background": "light"
     },
     "output_type": "display_data"
    }
   ],
   "source": [
    "plot_hist_samples_polya_length(xs = [np.concatenate([seedling_rep1.polya_length, seedling_rep2.polya_length]),\n",
    "                                     np.concatenate([leaf_rep1.polya_length, leaf_rep2.polya_length])],\n",
    "                              samples = [\"seedling\", \"leaf\"],\n",
    "                              figsize = [3, 3],\n",
    "                              plot_legend = True)"
   ]
  },
  {
   "cell_type": "markdown",
   "metadata": {
    "execution": {
     "iopub.execute_input": "2022-04-22T03:30:11.895344Z",
     "iopub.status.busy": "2022-04-22T03:30:11.894436Z",
     "iopub.status.idle": "2022-04-22T03:30:11.902578Z",
     "shell.execute_reply": "2022-04-22T03:30:11.900441Z",
     "shell.execute_reply.started": "2022-04-22T03:30:11.895255Z"
    }
   },
   "source": [
    "## 4.2 Plot hist median poly(A) length of genes"
   ]
  },
  {
   "cell_type": "code",
   "execution_count": 283,
   "metadata": {
    "execution": {
     "iopub.execute_input": "2022-04-22T08:50:31.978282Z",
     "iopub.status.busy": "2022-04-22T08:50:31.977855Z",
     "iopub.status.idle": "2022-04-22T08:50:31.987878Z",
     "shell.execute_reply": "2022-04-22T08:50:31.986773Z",
     "shell.execute_reply.started": "2022-04-22T08:50:31.978242Z"
    },
    "tags": []
   },
   "outputs": [],
   "source": [
    "def plot_hist_samples_median_polya_length(samples,\n",
    "                                   splice_type=\"all\",\n",
    "                                   mean_or_median_type = \"median\",\n",
    "                                   min_count=20,\n",
    "                                   bin_length = 5,\n",
    "                                   xlab=\"Poly(A) tail length\",\n",
    "                                   ylab=\"Ratio of Genes\",\n",
    "                                   *args,\n",
    "                                   **kwargs):\n",
    "    # splice_type: [\"all\", \"ir\", \"spliced\"]\n",
    "    # mean_or_median_type: [\"median\", \"mean\"]\n",
    "    # used plot_hist_samples_polya_length function\n",
    "    # other parameters are transforted to plot_hist_samples_polya_length\n",
    "    \n",
    "    polya_length_column = f\"{splice_type}_{mean_or_median_type}_polya\"\n",
    "    read_number_column = f\"{splice_type}_n_read\"\n",
    "    \n",
    "    xs = []\n",
    "    for sample in samples:\n",
    "        df = sample2polya_length[sample]\n",
    "        x = df[polya_length_column][df[read_number_column] >= min_count]\n",
    "        xs.append(x)\n",
    "    \n",
    "    plot_hist_samples_polya_length(xs, samples, \n",
    "                                   bin_length=bin_length, \n",
    "                                   xlab=xlab, ylab=ylab, \n",
    "                                   *args, **kwargs)"
   ]
  },
  {
   "cell_type": "code",
   "execution_count": 284,
   "metadata": {
    "execution": {
     "iopub.execute_input": "2022-04-22T08:50:32.388866Z",
     "iopub.status.busy": "2022-04-22T08:50:32.388416Z",
     "iopub.status.idle": "2022-04-22T08:50:32.808619Z",
     "shell.execute_reply": "2022-04-22T08:50:32.807577Z",
     "shell.execute_reply.started": "2022-04-22T08:50:32.388820Z"
    },
    "tags": []
   },
   "outputs": [
    {
     "data": {
      "image/png": "[encoded data removed]",
      "text/plain": [
       "<Figure size 216x216 with 1 Axes>"
      ]
     },
     "metadata": {
      "image/png": {
       "height": 209,
       "width": 342
      },
      "needs_background": "light"
     },
     "output_type": "display_data"
    }
   ],
   "source": [
    "plot_hist_samples_median_polya_length(samples = [\"seedling_rep1\", \"seedling_rep2\"],\n",
    "                                      figsize=[3, 3])"
   ]
  },
  {
   "cell_type": "markdown",
   "metadata": {
    "execution": {
     "iopub.execute_input": "2022-04-22T06:34:46.983591Z",
     "iopub.status.busy": "2022-04-22T06:34:46.982673Z",
     "iopub.status.idle": "2022-04-22T06:34:46.989952Z",
     "shell.execute_reply": "2022-04-22T06:34:46.988216Z",
     "shell.execute_reply.started": "2022-04-22T06:34:46.983500Z"
    }
   },
   "source": [
    "## 4.3 Plot heatmap read length distribution"
   ]
  },
  {
   "cell_type": "code",
   "execution_count": 1,
   "metadata": {
    "execution": {
     "iopub.execute_input": "2022-04-29T05:17:08.294973Z",
     "iopub.status.busy": "2022-04-29T05:17:08.293863Z",
     "iopub.status.idle": "2022-04-29T05:17:08.328684Z",
     "shell.execute_reply": "2022-04-29T05:17:08.327367Z",
     "shell.execute_reply.started": "2022-04-29T05:17:08.294888Z"
    },
    "tags": []
   },
   "outputs": [],
   "source": [
    "def plot_heatmap_read_length(x, \n",
    "                             bin_length=1,\n",
    "                            min_length=10,\n",
    "                            max_length=200,\n",
    "                            cmap = \"Blues\", #Oranges\n",
    "                            vmin=0,\n",
    "                            vmax=None,\n",
    "                            plot_legend=True):\n",
    "    \n",
    "    tmp_bins = range(1, max_length+1, 1)\n",
    "    x = x[(x>=min_length)]\n",
    "    total_count = len(x)\n",
    "    x = x[x<max_length]\n",
    "    x = pd.Series(np.digitize(x, tmp_bins)).value_counts().sort_index()\n",
    "    d = pd.DataFrame(x)\n",
    "    d.columns = [\"count\"]\n",
    "    d[\"length\"] = d.index\n",
    "    d = pd.DataFrame({\"length\": range(np.digitize(min_length, tmp_bins), \n",
    "                                      np.digitize(max_length-1, tmp_bins)+1, \n",
    "                                      1)}).merge(d, on=\"length\", how=\"left\").fillna(0)\n",
    "    d.index = d[\"length\"]\n",
    "    d[\"count\"] = d[\"count\"]/total_count\n",
    "    h = sns.clustermap(d[\"count\"], row_cluster=False, col_cluster=False, cmap=cmap, figsize=[1, 2], vmin=vmin, vmax=vmax)\n",
    "    h.ax_heatmap.tick_params(right=False, bottom=False, labelright=False, labelbottom=False)\n",
    "    #h.ax_heatmap.tick_params(bottom=False, labelbottom=False)\n",
    "    h.ax_heatmap.set_xlabel(\"\")\n",
    "    h.ax_heatmap.set_ylabel(\"\")\n",
    "    if not plot_legend:\n",
    "        h.cax.set_visible(False)"
   ]
  },
  {
   "cell_type": "code",
   "execution_count": 132,
   "metadata": {
    "execution": {
     "iopub.execute_input": "2022-04-22T06:36:32.687607Z",
     "iopub.status.busy": "2022-04-22T06:36:32.686762Z",
     "iopub.status.idle": "2022-04-22T06:36:33.691351Z",
     "shell.execute_reply": "2022-04-22T06:36:33.690460Z",
     "shell.execute_reply.started": "2022-04-22T06:36:32.687524Z"
    },
    "tags": []
   },
   "outputs": [
    {
     "data": {
      "image/png": "[encoded data removed]",
      "text/plain": [
       "<Figure size 72x144 with 4 Axes>"
      ]
     },
     "metadata": {
      "image/png": {
       "height": 119,
       "width": 24
      },
      "needs_background": "light"
     },
     "output_type": "display_data"
    }
   ],
   "source": [
    "plot_heatmap_read_length(seedling_rep1.polya_length,\n",
    "                        bin_length=1,\n",
    "                        plot_legend=False)"
   ]
  },
  {
   "cell_type": "markdown",
   "metadata": {
    "execution": {
     "iopub.execute_input": "2022-04-22T06:37:05.992084Z",
     "iopub.status.busy": "2022-04-22T06:37:05.991243Z",
     "iopub.status.idle": "2022-04-22T06:37:05.997925Z",
     "shell.execute_reply": "2022-04-22T06:37:05.996230Z",
     "shell.execute_reply.started": "2022-04-22T06:37:05.991999Z"
    },
    "tags": []
   },
   "source": [
    "## 4.4 Plot heatmap median polya length distribution"
   ]
  },
  {
   "cell_type": "code",
   "execution_count": null,
   "metadata": {},
   "outputs": [],
   "source": [
    "def plot_heatmap_median_or_mean_polya_length(df,\n",
    "                                   splice_type=\"all\",\n",
    "                                   mean_or_median_type = \"median\",\n",
    "                                   min_count=20,\n",
    "                                   bin_length = 5,\n",
    "                                   cmap=\"Oranges\",\n",
    "                                   *args,\n",
    "                                   **kwargs):\n",
    "    # splice_type: [\"all\", \"ir\", \"spliced\"]\n",
    "    # mean_or_median_type: [\"median\", \"mean\"]\n",
    "    # used plot_hist_samples_polya_length function\n",
    "    # other parameters are transforted to plot_hist_samples_polya_length\n",
    "    \n",
    "    polya_length_column = f\"{splice_type}_{mean_or_median_type}_polya\"\n",
    "    read_number_column = f\"{splice_type}_n_read\"\n",
    "    \n",
    "    x = df[polya_length_column][df[read_number_column] >= min_count]\n",
    "    plot_heatmap_read_length(x, \n",
    "                             bin_length=bin_length,\n",
    "                             cmap=cmap,\n",
    "                             *args, **kwargs)"
   ]
  },
  {
   "cell_type": "code",
   "execution_count": 285,
   "metadata": {
    "execution": {
     "iopub.execute_input": "2022-04-22T08:50:53.941254Z",
     "iopub.status.busy": "2022-04-22T08:50:53.940721Z",
     "iopub.status.idle": "2022-04-22T08:50:54.244472Z",
     "shell.execute_reply": "2022-04-22T08:50:54.243714Z",
     "shell.execute_reply.started": "2022-04-22T08:50:53.941197Z"
    },
    "tags": []
   },
   "outputs": [
    {
     "data": {
      "image/png": "[encoded data removed]",
      "text/plain": [
       "<Figure size 72x144 with 4 Axes>"
      ]
     },
     "metadata": {
      "image/png": {
       "height": 119,
       "width": 24
      },
      "needs_background": "light"
     },
     "output_type": "display_data"
    }
   ],
   "source": [
    "plot_heatmap_median_or_mean_polya_length(sample2polya_length[\"seedling_rep1\"], \n",
    "                                        splice_type=\"all\",\n",
    "                                        mean_or_median_type=\"median\",\n",
    "                                        min_count=20,\n",
    "                                        bin_length=5,\n",
    "                                        plot_legend=False)"
   ]
  },
  {
   "cell_type": "markdown",
   "metadata": {},
   "source": [
    "# 5. Fig 2a,b,c,d nuclear Vs total"
   ]
  },
  {
   "cell_type": "markdown",
   "metadata": {},
   "source": [
    "## 5.1 Fig 2a nuclear vs total hist"
   ]
  },
  {
   "cell_type": "code",
   "execution_count": 286,
   "metadata": {
    "execution": {
     "iopub.execute_input": "2022-04-22T08:51:16.507965Z",
     "iopub.status.busy": "2022-04-22T08:51:16.507445Z",
     "iopub.status.idle": "2022-04-22T08:51:16.804646Z",
     "shell.execute_reply": "2022-04-22T08:51:16.803893Z",
     "shell.execute_reply.started": "2022-04-22T08:51:16.507918Z"
    },
    "tags": []
   },
   "outputs": [
    {
     "data": {
      "text/plain": [
       "<matplotlib.legend.Legend at 0x2b0d701a6e10>"
      ]
     },
     "execution_count": 286,
     "metadata": {},
     "output_type": "execute_result"
    },
    {
     "data": {
      "image/png": "[encoded data removed]",
      "text/plain": [
       "<Figure size 144x144 with 1 Axes>"
      ]
     },
     "metadata": {
      "image/png": {
       "height": 143,
       "width": 259
      },
      "needs_background": "light"
     },
     "output_type": "display_data"
    }
   ],
   "source": [
    "d = sample2polya_length[\"seedling\"].merge(sample2polya_length[\"ath_nuc\"], on=\"mRNA\")\n",
    "d = d.query('(all_n_read_x >= 20) & (all_n_read_y >= 20)')\n",
    "fig, ax = plt.subplots(figsize=[2, 2])\n",
    "\n",
    "x = d.all_median_polya_x\n",
    "h = plt.hist(x[x<300], bins=range(0, 500, 10), \n",
    "             weights = np.repeat(1/len(x), (x<300).sum()),\n",
    "             #density=True, \n",
    "             histtype=\"step\", lw=2,\n",
    "             label=\"Total RNA\")\n",
    "\n",
    "x = d.all_median_polya_y\n",
    "h = plt.hist(x[x<300], bins=range(0, 500, 10), \n",
    "             #density=True, \n",
    "             weights = np.repeat(1/len(x), (x<300).sum()),\n",
    "             histtype=\"step\", lw=2,\n",
    "             label=\"Nuclear RNA\")\n",
    "\n",
    "plt.xlim([0, 320])\n",
    "plt.ylim([0, 0.2])\n",
    "\n",
    "plt.legend(loc='lower left', bbox_to_anchor=[1, 0.5])"
   ]
  },
  {
   "cell_type": "markdown",
   "metadata": {},
   "source": [
    "## 5.2 Fig 2b nuclear total ir spliced hist"
   ]
  },
  {
   "cell_type": "code",
   "execution_count": 287,
   "metadata": {
    "execution": {
     "iopub.execute_input": "2022-04-22T08:51:21.153453Z",
     "iopub.status.busy": "2022-04-22T08:51:21.153089Z",
     "iopub.status.idle": "2022-04-22T08:51:21.530197Z",
     "shell.execute_reply": "2022-04-22T08:51:21.529464Z",
     "shell.execute_reply.started": "2022-04-22T08:51:21.153417Z"
    },
    "tags": []
   },
   "outputs": [
    {
     "name": "stdout",
     "output_type": "stream",
     "text": [
      "431\n"
     ]
    },
    {
     "data": {
      "text/plain": [
       "<matplotlib.legend.Legend at 0x2b0d828ae0d0>"
      ]
     },
     "execution_count": 287,
     "metadata": {},
     "output_type": "execute_result"
    },
    {
     "data": {
      "image/png": "[encoded data removed]",
      "text/plain": [
       "<Figure size 129.6x129.6 with 1 Axes>"
      ]
     },
     "metadata": {
      "image/png": {
       "height": 145,
       "width": 306
      },
      "needs_background": "light"
     },
     "output_type": "display_data"
    }
   ],
   "source": [
    "d = sample2polya_length[\"seedling\"].merge(sample2polya_length[\"ath_nuc\"], on=\"mRNA\")\n",
    "d = d.query('(all_n_read_x >= 20) & (all_n_read_y >= 20)')\n",
    "\n",
    "d = d.query('(spliced_n_read_x >= 20) & (spliced_n_read_y >= 20) & (ir_n_read_x >= 20) & (ir_n_read_y >= 20)')\n",
    "print(len(d))\n",
    "fig, ax = plt.subplots(figsize=[1.8, 1.8])\n",
    "x = d.spliced_mean_polya_x\n",
    "h = plt.hist(x, bins=30, range=[0, 300], \n",
    "             weights = np.repeat(1/len(x), len(x)),\n",
    "             label=\"Total RNA Fully spliced\",\n",
    "             histtype=\"step\", lw=2)\n",
    "\n",
    "x = d.spliced_mean_polya_y\n",
    "h = plt.hist(x, bins=30, range=[0, 300],  \n",
    "             weights = np.repeat(1/len(x), len(x)),\n",
    "             label=\"Nuclear RNA Fully spliced\",\n",
    "             histtype=\"step\", lw=2)\n",
    "\n",
    "x = d.ir_mean_polya_x\n",
    "h = plt.hist(x, bins=30, range=[0, 300], \n",
    "            weights = np.repeat(1/len(x), len(x)),\n",
    "            label=\"Total RNA With introns\",\n",
    "            histtype=\"step\", lw=2)\n",
    "\n",
    "x = d.ir_mean_polya_y\n",
    "h = plt.hist(x, bins=30, range=[0, 300],  \n",
    "            weights = np.repeat(1/len(x), len(x)),\n",
    "             label=\"Nuclear RNA With introns\",\n",
    "             histtype=\"step\", lw=2)\n",
    "\n",
    "plt.ylim([0, 0.32])\n",
    "plt.legend(loc='lower left', bbox_to_anchor=[1, 0.5])"
   ]
  },
  {
   "cell_type": "markdown",
   "metadata": {},
   "source": [
    "## 5.3 Fig. 2c & 2d point plot"
   ]
  },
  {
   "cell_type": "code",
   "execution_count": 288,
   "metadata": {
    "execution": {
     "iopub.execute_input": "2022-04-22T08:51:45.264996Z",
     "iopub.status.busy": "2022-04-22T08:51:45.264569Z",
     "iopub.status.idle": "2022-04-22T08:51:45.284354Z",
     "shell.execute_reply": "2022-04-22T08:51:45.283547Z",
     "shell.execute_reply.started": "2022-04-22T08:51:45.264957Z"
    },
    "tags": []
   },
   "outputs": [],
   "source": [
    "def plot_two_sample_mRNA_polya(sample1, sample2, splice_type=\"all\", splice_type2=None, min_count=20, color=\"red\", \n",
    "                               plot_density=True, figsize=None, max_length=300, vmax=None, \n",
    "                               is_mean=False,\n",
    "                               plot_color_bar=True,\n",
    "                              return_x_y=False):\n",
    "    # require sample2data\n",
    "    if splice_type2 is None:\n",
    "        splice_type2 = splice_type\n",
    "    if is_mean:\n",
    "        poly_suff = \"_mean_polya\"\n",
    "    else:\n",
    "        poly_suff = \"_median_polya\"\n",
    "    n_name1 = splice_type + \"_n_read\"\n",
    "    l_name1 = splice_type + poly_suff\n",
    "    n_name2 = splice_type2 + \"_n_read\"\n",
    "    l_name2 = splice_type2 + poly_suff\n",
    "    df1 = sample2polya_length[sample1]\n",
    "    df2 = sample2polya_length[sample2]\n",
    "    df = pd.merge(\n",
    "        df1.loc[((df1[n_name1] >= min_count) & (df1[l_name1] <= max_length))],\n",
    "        df2.loc[((df2[n_name2] >= min_count) & (df2[l_name2] <= max_length))],\n",
    "        on=\"mRNA\",\n",
    "    )\n",
    "    print(min_count)\n",
    "    print(len(df))\n",
    "    # df = pd.merge(sample2data[sample1].query('(all_n_read >= 20) & (all_median_polya <= 300)'),\n",
    "    #           sample2data[sample2].query('all_n_read >= 20  & (all_median_polya <= 300)'), on=\"mRNA\")\n",
    "    fig, ax = plt.subplots(figsize=figsize)\n",
    "    x = df[l_name1 + \"_x\"]\n",
    "    y = df[l_name2 + \"_y\"]\n",
    "    if plot_density: \n",
    "        xy = np.vstack([x, y])\n",
    "        color = gaussian_kde(xy)(xy)\n",
    "        plt.scatter(\n",
    "            x,\n",
    "            y,\n",
    "            s=0.5,\n",
    "            c=color,\n",
    "            cmap=\"RdYlBu_r\",#plt.cm.gist_earth_r,\n",
    "            vmin = 0,\n",
    "            vmax=vmax,\n",
    "        )\n",
    "    else:\n",
    "        plt.scatter(\n",
    "            x,\n",
    "            y,\n",
    "            s=0.5,\n",
    "            c=color,\n",
    "        )\n",
    "    #注意，需要先设scaled，再设xlim和ylim\n",
    "    plt.axis(\"scaled\")\n",
    "    plt.xlim(0, max_length)\n",
    "    plt.ylim(0, max_length)\n",
    "    plt.plot([0, max_length], [0, max_length], color=\"black\", ls=\"--\", zorder=-10)\n",
    "    plt.xlabel(sample1 + \" \" + splice_type)\n",
    "    plt.ylabel(sample2 + \" \" + splice_type2)\n",
    "    r, p = pearsonr(x, y)\n",
    "    print(\"pearsonr pavlue:\", p)\n",
    "    print(\"pearsonr r:\", r)\n",
    "    if plot_density and plot_color_bar:\n",
    "        colorbar = plt.colorbar()\n",
    "        colorbar.set_label(\"Density\")\n",
    "    if return_x_y:\n",
    "        return (x, y)"
   ]
  },
  {
   "cell_type": "code",
   "execution_count": 289,
   "metadata": {
    "execution": {
     "iopub.execute_input": "2022-04-22T08:51:52.289600Z",
     "iopub.status.busy": "2022-04-22T08:51:52.289057Z",
     "iopub.status.idle": "2022-04-22T08:51:52.615182Z",
     "shell.execute_reply": "2022-04-22T08:51:52.614241Z",
     "shell.execute_reply.started": "2022-04-22T08:51:52.289551Z"
    },
    "tags": []
   },
   "outputs": [
    {
     "name": "stdout",
     "output_type": "stream",
     "text": [
      "20\n",
      "1698\n",
      "pearsonr pavlue: 6.539653134133559e-87\n",
      "pearsonr r: 0.4535437971114775\n"
     ]
    },
    {
     "data": {
      "image/png": "[encoded data removed]",
      "text/plain": [
       "<Figure size 216x129.6 with 1 Axes>"
      ]
     },
     "metadata": {
      "image/png": {
       "height": 145,
       "width": 161
      },
      "needs_background": "light"
     },
     "output_type": "display_data"
    }
   ],
   "source": [
    "plot_two_sample_mRNA_polya(\"seedling\", \"seedling\", min_count=20, \n",
    "                           splice_type=\"ir\", \n",
    "                           splice_type2=\"spliced\", color=\"red\", \n",
    "                           plot_density=False, figsize=[3, 1.8])"
   ]
  },
  {
   "cell_type": "code",
   "execution_count": 290,
   "metadata": {
    "execution": {
     "iopub.execute_input": "2022-04-22T08:51:56.191619Z",
     "iopub.status.busy": "2022-04-22T08:51:56.191114Z",
     "iopub.status.idle": "2022-04-22T08:51:56.504303Z",
     "shell.execute_reply": "2022-04-22T08:51:56.502980Z",
     "shell.execute_reply.started": "2022-04-22T08:51:56.191570Z"
    },
    "tags": []
   },
   "outputs": [
    {
     "name": "stdout",
     "output_type": "stream",
     "text": [
      "20\n",
      "907\n",
      "pearsonr pavlue: 2.2084081866804585e-245\n",
      "pearsonr r: 0.8425175146105017\n"
     ]
    },
    {
     "data": {
      "image/png": "[encoded data removed]",
      "text/plain": [
       "<Figure size 216x129.6 with 1 Axes>"
      ]
     },
     "metadata": {
      "image/png": {
       "height": 145,
       "width": 162
      },
      "needs_background": "light"
     },
     "output_type": "display_data"
    }
   ],
   "source": [
    "plot_two_sample_mRNA_polya(\"seedling\", \"ath_nuc\", min_count=20, \n",
    "                           splice_type=\"ir\", \n",
    "                           splice_type2=\"ir\", color=\"red\", \n",
    "                           plot_density=False, figsize=[3, 1.8])"
   ]
  },
  {
   "cell_type": "markdown",
   "metadata": {},
   "source": [
    "# 6. Minior VS Major isoform"
   ]
  },
  {
   "cell_type": "code",
   "execution_count": 11,
   "metadata": {
    "execution": {
     "iopub.execute_input": "2022-04-24T09:55:11.151070Z",
     "iopub.status.busy": "2022-04-24T09:55:11.150493Z",
     "iopub.status.idle": "2022-04-24T09:55:11.156777Z",
     "shell.execute_reply": "2022-04-24T09:55:11.155333Z",
     "shell.execute_reply.started": "2022-04-24T09:55:11.151014Z"
    },
    "tags": []
   },
   "outputs": [],
   "source": [
    "select_species = \"ath\" #ath, rice, soybean, maize"
   ]
  },
  {
   "cell_type": "code",
   "execution_count": 12,
   "metadata": {
    "execution": {
     "iopub.execute_input": "2022-04-24T09:55:11.334873Z",
     "iopub.status.busy": "2022-04-24T09:55:11.334338Z",
     "iopub.status.idle": "2022-04-24T09:55:11.340666Z",
     "shell.execute_reply": "2022-04-24T09:55:11.339180Z",
     "shell.execute_reply.started": "2022-04-24T09:55:11.334820Z"
    },
    "tags": []
   },
   "outputs": [],
   "source": [
    "alternative_spliced_isoform_dir = os.path.join(data_dir, \"alternative_spliced_isoform\")"
   ]
  },
  {
   "cell_type": "code",
   "execution_count": 13,
   "metadata": {
    "execution": {
     "iopub.execute_input": "2022-04-24T09:55:11.526603Z",
     "iopub.status.busy": "2022-04-24T09:55:11.526049Z",
     "iopub.status.idle": "2022-04-24T09:55:11.532418Z",
     "shell.execute_reply": "2022-04-24T09:55:11.530946Z",
     "shell.execute_reply.started": "2022-04-24T09:55:11.526550Z"
    },
    "tags": []
   },
   "outputs": [],
   "source": [
    "file_alternative_spliced_isoform_stat = os.path.join(alternative_spliced_isoform_dir, select_species, \"isoform_polya_length_stat.txt\")"
   ]
  },
  {
   "cell_type": "code",
   "execution_count": 14,
   "metadata": {
    "execution": {
     "iopub.execute_input": "2022-04-24T09:55:11.695160Z",
     "iopub.status.busy": "2022-04-24T09:55:11.694638Z",
     "iopub.status.idle": "2022-04-24T09:55:11.701047Z",
     "shell.execute_reply": "2022-04-24T09:55:11.699484Z",
     "shell.execute_reply.started": "2022-04-24T09:55:11.695107Z"
    },
    "tags": []
   },
   "outputs": [],
   "source": [
    "file_alternative_spliced_isoform_bed = os.path.join(alternative_spliced_isoform_dir, select_species, \"isoform.bed\")"
   ]
  },
  {
   "cell_type": "code",
   "execution_count": 15,
   "metadata": {
    "execution": {
     "iopub.execute_input": "2022-04-24T09:55:11.875420Z",
     "iopub.status.busy": "2022-04-24T09:55:11.874890Z",
     "iopub.status.idle": "2022-04-24T09:55:11.881559Z",
     "shell.execute_reply": "2022-04-24T09:55:11.880181Z",
     "shell.execute_reply.started": "2022-04-24T09:55:11.875367Z"
    },
    "tags": []
   },
   "outputs": [],
   "source": [
    "file_alternative_spliced_isoform_info = os.path.join(alternative_spliced_isoform_dir, select_species, \"isoform.info.txt\")"
   ]
  },
  {
   "cell_type": "markdown",
   "metadata": {
    "execution": {
     "iopub.execute_input": "2022-04-22T07:09:59.190577Z",
     "iopub.status.busy": "2022-04-22T07:09:59.189907Z",
     "iopub.status.idle": "2022-04-22T07:09:59.196583Z",
     "shell.execute_reply": "2022-04-22T07:09:59.194859Z",
     "shell.execute_reply.started": "2022-04-22T07:09:59.190512Z"
    }
   },
   "source": [
    "## 6.1 Fig 2e point plot"
   ]
  },
  {
   "cell_type": "code",
   "execution_count": 16,
   "metadata": {
    "execution": {
     "iopub.execute_input": "2022-04-24T09:55:14.571391Z",
     "iopub.status.busy": "2022-04-24T09:55:14.570853Z",
     "iopub.status.idle": "2022-04-24T09:55:14.611298Z",
     "shell.execute_reply": "2022-04-24T09:55:14.609913Z",
     "shell.execute_reply.started": "2022-04-24T09:55:14.571337Z"
    },
    "tags": []
   },
   "outputs": [],
   "source": [
    "isoform_polya_length_stat = pd.read_csv(file_alternative_spliced_isoform_stat, sep=\"\\t\")"
   ]
  },
  {
   "cell_type": "code",
   "execution_count": 17,
   "metadata": {
    "execution": {
     "iopub.execute_input": "2022-04-24T09:55:15.152927Z",
     "iopub.status.busy": "2022-04-24T09:55:15.152397Z",
     "iopub.status.idle": "2022-04-24T09:55:15.731323Z",
     "shell.execute_reply": "2022-04-24T09:55:15.730035Z",
     "shell.execute_reply.started": "2022-04-24T09:55:15.152874Z"
    },
    "tags": []
   },
   "outputs": [
    {
     "name": "stdout",
     "output_type": "stream",
     "text": [
      "0.0    647\n",
      "1.0    197\n",
      "2.0     22\n",
      "Name: diff, dtype: int64\n"
     ]
    },
    {
     "data": {
      "text/plain": [
       "Text(0, 0.5, 'Minor Isoform')"
      ]
     },
     "execution_count": 17,
     "metadata": {},
     "output_type": "execute_result"
    },
    {
     "data": {
      "image/png": "[encoded data removed]",
      "text/plain": [
       "<Figure size 115.2x115.2 with 1 Axes>"
      ]
     },
     "metadata": {
      "image/png": {
       "height": 135,
       "width": 150
      },
      "needs_background": "light"
     },
     "output_type": "display_data"
    }
   ],
   "source": [
    "color1 = \"#ef5f72\" # 红\n",
    "color2 = \"#fcb847\" # 黄\n",
    "color3 = \"#782f9a\" # 紫\n",
    "color4 = \"#3183bd\" # 蓝 \n",
    "\n",
    "colors = isoform_polya_length_stat[\"diff\"].map({0: \"grey\", 1: default_pal[3], 2: default_pal[0]})\n",
    "x = isoform_polya_length_stat.major_median_polya_length\n",
    "y = isoform_polya_length_stat.minor_median_polya_length\n",
    "\n",
    "print(isoform_polya_length_stat[\"diff\"].value_counts())\n",
    "fig, ax = plt.subplots(figsize=[1.6, 1.6])\n",
    "plt.plot([0, 400], [0, 400], color=\"black\", ls=\"--\", zorder=-1)\n",
    "\n",
    "h = plt.scatter(x, y, marker='o', s=1, color=colors, alpha=1)\n",
    "plt.axis(\"scaled\")\n",
    "plt.xlim([0, 400])\n",
    "plt.ylim([0, 400])\n",
    "h = plt.xticks([0, 100, 200, 300, 400])\n",
    "h = plt.yticks([0, 100, 200, 300, 400])\n",
    "plt.xlabel(\"Major Isoform\")\n",
    "plt.ylabel(\"Minor Isoform\")"
   ]
  },
  {
   "cell_type": "markdown",
   "metadata": {},
   "source": [
    "## 6.2 Fig S15 buIGV plot"
   ]
  },
  {
   "cell_type": "markdown",
   "metadata": {},
   "source": [
    "### 6.2.1 Prepare bugv package and input files"
   ]
  },
  {
   "cell_type": "markdown",
   "metadata": {
    "execution": {
     "iopub.execute_input": "2022-04-22T07:12:17.683792Z",
     "iopub.status.busy": "2022-04-22T07:12:17.682897Z",
     "iopub.status.idle": "2022-04-22T07:12:17.690232Z",
     "shell.execute_reply": "2022-04-22T07:12:17.688385Z",
     "shell.execute_reply.started": "2022-04-22T07:12:17.683702Z"
    }
   },
   "source": [
    "Require bugv package developed by jiajinbu.\n",
    "You must put bugv directory in the same directory, or put it in the python module search path.\n",
    "\n",
    "Require pysam, matplotlib, mpl_toolkits, numpy, pandas, time, pkgutil, importlib,\n",
    "\n",
    "You can install them use pip, like `pip install pysam`."
   ]
  },
  {
   "cell_type": "code",
   "execution_count": 18,
   "metadata": {
    "execution": {
     "iopub.execute_input": "2022-04-24T09:55:19.745737Z",
     "iopub.status.busy": "2022-04-24T09:55:19.745281Z",
     "iopub.status.idle": "2022-04-24T09:55:19.849695Z",
     "shell.execute_reply": "2022-04-24T09:55:19.848420Z",
     "shell.execute_reply.started": "2022-04-24T09:55:19.745692Z"
    },
    "tags": []
   },
   "outputs": [],
   "source": [
    "import bugv\n",
    "import pysam"
   ]
  },
  {
   "cell_type": "markdown",
   "metadata": {
    "execution": {
     "iopub.execute_input": "2022-04-22T07:18:00.458537Z",
     "iopub.status.busy": "2022-04-22T07:18:00.457795Z",
     "iopub.status.idle": "2022-04-22T07:18:00.468925Z",
     "shell.execute_reply": "2022-04-22T07:18:00.466461Z",
     "shell.execute_reply.started": "2022-04-22T07:18:00.458464Z"
    }
   },
   "source": [
    "\n"
   ]
  },
  {
   "cell_type": "markdown",
   "metadata": {},
   "source": [
    "You can download the original bam files from xxx.\n",
    "\n",
    "Download these bam files and put them in origin_bam_dir.\n",
    "\n",
    "The file seedling.bam is merge from seedling_rep1.bam and seedling_rep2.bam:\n",
    "```\n",
    "samtools merge seedling.bam seedling_rep1.bam seedling_rep2.bam\n",
    "samtools index seedling.bam\n",
    "```"
   ]
  },
  {
   "cell_type": "code",
   "execution_count": 20,
   "metadata": {
    "execution": {
     "iopub.execute_input": "2022-04-24T09:55:30.582264Z",
     "iopub.status.busy": "2022-04-24T09:55:30.581798Z",
     "iopub.status.idle": "2022-04-24T09:55:30.588209Z",
     "shell.execute_reply": "2022-04-24T09:55:30.586791Z",
     "shell.execute_reply.started": "2022-04-24T09:55:30.582209Z"
    },
    "tags": []
   },
   "outputs": [],
   "source": [
    "origin_bam_dir = os.path.join(data_dir, \"bam\")\n",
    "tmp_gene_bam_dir = os.path.join(data_dir, \"tmp_gene_bam\")"
   ]
  },
  {
   "cell_type": "code",
   "execution_count": 42,
   "metadata": {
    "execution": {
     "iopub.execute_input": "2022-04-24T09:57:32.277989Z",
     "iopub.status.busy": "2022-04-24T09:57:32.277481Z",
     "iopub.status.idle": "2022-04-24T09:57:32.286677Z",
     "shell.execute_reply": "2022-04-24T09:57:32.285321Z",
     "shell.execute_reply.started": "2022-04-24T09:57:32.277939Z"
    },
    "tags": []
   },
   "outputs": [],
   "source": [
    "if select_species == \"ath\":\n",
    "    origin_file_bam = os.path.join(origin_bam_dir, \"seedling.bam\")\n",
    "    file_wt_bam = os.path.join(origin_bam_dir, \"wt.bam\")\n",
    "    file_upf1upf3_bam = os.path.join(origin_bam_dir, \"upf1upf3.bam\")\n",
    "    plot_upf_flag = True\n",
    "else:\n",
    "    origin_file_bam = os.path.join(origin_bam_dir, f\"{select_species}.bam\")\n",
    "    plot_upf_flag = False"
   ]
  },
  {
   "cell_type": "markdown",
   "metadata": {},
   "source": [
    "### 6.2.2 read data"
   ]
  },
  {
   "cell_type": "code",
   "execution_count": 27,
   "metadata": {
    "execution": {
     "iopub.execute_input": "2022-04-24T09:56:11.859497Z",
     "iopub.status.busy": "2022-04-24T09:56:11.858996Z",
     "iopub.status.idle": "2022-04-24T09:56:11.874771Z",
     "shell.execute_reply": "2022-04-24T09:56:11.873324Z",
     "shell.execute_reply.started": "2022-04-24T09:56:11.859449Z"
    },
    "tags": []
   },
   "outputs": [],
   "source": [
    "def read_alternative_spliced_info(filein):\n",
    "    \n",
    "    def split_intron_str(intron_str):\n",
    "        introns = []\n",
    "        for intron in intron_str.split(\",\"):\n",
    "            s, e = intron.split(\"-\")\n",
    "            introns.append((int(s), int(e)))\n",
    "        return set(introns)\n",
    "    \n",
    "    gene2isoforms = collections.defaultdict(list)\n",
    "    with open(filein) as f:\n",
    "        next(f)\n",
    "        for l in f:\n",
    "            gene, isoform_index, isoform_name, select_intron_str, not_contain_intron_str, annoted_represent_mRNA = l.rstrip(\"\\n\").split(\"\\t\")\n",
    "            isoform_index = int(isoform_index)\n",
    "            select_intron_set = split_intron_str(select_intron_str)\n",
    "            not_contain_intron_set = split_intron_str(not_contain_intron_str)\n",
    "            gene2isoforms[gene].append([isoform_index, isoform_name, \n",
    "                                    select_intron_set, not_contain_intron_set, annoted_represent_mRNA])\n",
    "    for gene, d in gene2isoforms.items():\n",
    "        d.sort(key=lambda x: x[0])\n",
    "    return gene2isoforms"
   ]
  },
  {
   "cell_type": "code",
   "execution_count": 28,
   "metadata": {
    "execution": {
     "iopub.execute_input": "2022-04-24T09:56:12.628056Z",
     "iopub.status.busy": "2022-04-24T09:56:12.627623Z",
     "iopub.status.idle": "2022-04-24T09:56:12.639289Z",
     "shell.execute_reply": "2022-04-24T09:56:12.637940Z",
     "shell.execute_reply.started": "2022-04-24T09:56:12.628014Z"
    },
    "tags": []
   },
   "outputs": [],
   "source": [
    "def read_bed_gene_pos(bed_file):\n",
    "    gene2pos = {}\n",
    "    for l in open(bed_file):\n",
    "        d = l.rstrip(\"\\n\").split(\"\\t\")\n",
    "        chr_name, start, end, mRNA, na, strand = d[:6]\n",
    "        start, end = int(start), int(end)\n",
    "        start = start - 1\n",
    "        gene = mRNA.split(\".\")[0]\n",
    "        if gene in gene2pos:\n",
    "            gene2pos[gene][1] = min(gene2pos[gene][1], start)\n",
    "            gene2pos[gene][2] = max(gene2pos[gene][2], end)\n",
    "        else:\n",
    "            gene2pos[gene] = [chr_name, start, end, strand]\n",
    "    return gene2pos "
   ]
  },
  {
   "cell_type": "code",
   "execution_count": 29,
   "metadata": {
    "execution": {
     "iopub.execute_input": "2022-04-24T09:56:13.842357Z",
     "iopub.status.busy": "2022-04-24T09:56:13.841923Z",
     "iopub.status.idle": "2022-04-24T09:56:13.873182Z",
     "shell.execute_reply": "2022-04-24T09:56:13.871947Z",
     "shell.execute_reply.started": "2022-04-24T09:56:13.842313Z"
    },
    "tags": []
   },
   "outputs": [],
   "source": [
    "gene2isoforms = read_alternative_spliced_info(file_alternative_spliced_isoform_info)"
   ]
  },
  {
   "cell_type": "code",
   "execution_count": 30,
   "metadata": {
    "execution": {
     "iopub.execute_input": "2022-04-24T09:56:14.258087Z",
     "iopub.status.busy": "2022-04-24T09:56:14.257676Z",
     "iopub.status.idle": "2022-04-24T09:56:14.273085Z",
     "shell.execute_reply": "2022-04-24T09:56:14.272000Z",
     "shell.execute_reply.started": "2022-04-24T09:56:14.258046Z"
    },
    "tags": []
   },
   "outputs": [],
   "source": [
    "gene2pos = read_bed_gene_pos(file_alternative_spliced_isoform_bed)"
   ]
  },
  {
   "cell_type": "markdown",
   "metadata": {},
   "source": [
    "### 6.2.3 select plot gene"
   ]
  },
  {
   "cell_type": "code",
   "execution_count": 31,
   "metadata": {
    "execution": {
     "iopub.execute_input": "2022-04-24T09:56:15.641581Z",
     "iopub.status.busy": "2022-04-24T09:56:15.641265Z",
     "iopub.status.idle": "2022-04-24T09:56:15.646335Z",
     "shell.execute_reply": "2022-04-24T09:56:15.644971Z",
     "shell.execute_reply.started": "2022-04-24T09:56:15.641550Z"
    },
    "tags": []
   },
   "outputs": [],
   "source": [
    "gene = \"AT3G01480\""
   ]
  },
  {
   "cell_type": "markdown",
   "metadata": {
    "execution": {
     "iopub.execute_input": "2022-04-24T03:18:14.413476Z",
     "iopub.status.busy": "2022-04-24T03:18:14.412596Z",
     "iopub.status.idle": "2022-04-24T03:18:14.424978Z",
     "shell.execute_reply": "2022-04-24T03:18:14.422572Z",
     "shell.execute_reply.started": "2022-04-24T03:18:14.413389Z"
    }
   },
   "source": [
    "All gene ids is sotored in gene2pos.keys()"
   ]
  },
  {
   "cell_type": "markdown",
   "metadata": {
    "execution": {
     "iopub.execute_input": "2022-04-10T14:48:47.689779Z",
     "iopub.status.busy": "2022-04-10T14:48:47.688881Z",
     "iopub.status.idle": "2022-04-10T14:48:47.698014Z",
     "shell.execute_reply": "2022-04-10T14:48:47.695977Z",
     "shell.execute_reply.started": "2022-04-10T14:48:47.689688Z"
    }
   },
   "source": [
    "### 6.2.4 prepare bam of this gene"
   ]
  },
  {
   "cell_type": "code",
   "execution_count": 32,
   "metadata": {
    "execution": {
     "iopub.execute_input": "2022-04-24T09:56:31.032976Z",
     "iopub.status.busy": "2022-04-24T09:56:31.032516Z",
     "iopub.status.idle": "2022-04-24T09:56:31.042239Z",
     "shell.execute_reply": "2022-04-24T09:56:31.040983Z",
     "shell.execute_reply.started": "2022-04-24T09:56:31.032930Z"
    },
    "tags": []
   },
   "outputs": [],
   "source": [
    "def select_read_bam(filein_bam, select_read_ids, fileout_bam, not_ir=True):\n",
    "    inbam = pysam.AlignmentFile(filein_bam, 'rb') \n",
    "    outbam = pysam.AlignmentFile(fileout_bam, 'wb', template=inbam)\n",
    "    for read in inbam:\n",
    "        if read.query_name not in select_read_ids:\n",
    "            continue\n",
    "        if not_ir and read.get_tag(\"ir\"):\n",
    "            continue\n",
    "        outbam.write(read)\n",
    "    inbam.close()\n",
    "    outbam.close()\n",
    "    pysam.index(fileout_bam)"
   ]
  },
  {
   "cell_type": "code",
   "execution_count": 33,
   "metadata": {
    "execution": {
     "iopub.execute_input": "2022-04-24T09:56:31.291066Z",
     "iopub.status.busy": "2022-04-24T09:56:31.290609Z",
     "iopub.status.idle": "2022-04-24T09:56:31.305709Z",
     "shell.execute_reply": "2022-04-24T09:56:31.304310Z",
     "shell.execute_reply.started": "2022-04-24T09:56:31.291021Z"
    },
    "tags": []
   },
   "outputs": [],
   "source": [
    "def get_read_blocks(read):\n",
    "    \n",
    "    \"\"\"\n",
    "    Input: read objects generated by pysam.\n",
    "    Output: a list of mapped blocks (genome position, 1-based) of read.\n",
    "         Each element is a list, [start, end].\n",
    "         Don't care small InDel and mismatches.\n",
    "         Sorted by genome position.\n",
    "    \"\"\"\n",
    "    #don't use read.get_blocks\n",
    "    #insert also seprate block\n",
    "    #bam_obj.find_introns !!!\n",
    "    blocks = []\n",
    "    start = read.reference_start + 1\n",
    "    end = start - 1\n",
    "    for (flag, length) in read.cigartuples:\n",
    "        if flag == 4 or flag == 5 or flag == 1: continue\n",
    "        if flag == 0 or flag == 2:\n",
    "            end += length\n",
    "        if flag == 3:\n",
    "            blocks.append([start, end])\n",
    "            start = end + length + 1\n",
    "            end = start - 1\n",
    "    blocks.append([start, end])\n",
    "    return blocks\n",
    "\n",
    "def get_introns(blocks):\n",
    "    introns = []\n",
    "    for i, (start, end) in enumerate(blocks[1:]):\n",
    "        introns.append((blocks[i][1] + 1, start - 1))\n",
    "    introns = tuple(introns)\n",
    "    return introns"
   ]
  },
  {
   "cell_type": "code",
   "execution_count": 34,
   "metadata": {
    "execution": {
     "iopub.execute_input": "2022-04-24T09:56:32.720862Z",
     "iopub.status.busy": "2022-04-24T09:56:32.720375Z",
     "iopub.status.idle": "2022-04-24T09:56:32.737704Z",
     "shell.execute_reply": "2022-04-24T09:56:32.736270Z",
     "shell.execute_reply.started": "2022-04-24T09:56:32.720813Z"
    },
    "tags": []
   },
   "outputs": [],
   "source": [
    "def select_intron_polya_bam(filein_bam, fileout_bam, max_start=None, min_end=None, select_intron_set={(189628, 189740)}, not_select_intron_set=None, gene_pos=None, mRNA=None): #189627\n",
    "    inbam = pysam.AlignmentFile(filein_bam, 'rb') \n",
    "    outbam = pysam.AlignmentFile(fileout_bam, 'wb', template=inbam)\n",
    "    for read in inbam.fetch(*gene_pos[:3]):\n",
    "        if read.get_tag('mi') != mRNA:\n",
    "            continue\n",
    "        if max_start is not None:\n",
    "            if read.reference_start + 1 > max_start:\n",
    "                continue\n",
    "        if min_end is not None:\n",
    "            if read.reference_end < min_end:\n",
    "                continue\n",
    "        if read.get_tag(\"pa\") < 10:\n",
    "            continue\n",
    "        if read.get_tag(\"ir\"):\n",
    "            continue\n",
    "        introns = set(get_introns(get_read_blocks(read)))\n",
    "        if select_intron_set is not None:\n",
    "            if select_intron_set - introns:\n",
    "                continue\n",
    "        if not_select_intron_set is not None:\n",
    "            if introns & not_select_intron_set:\n",
    "                continue\n",
    "        outbam.write(read)\n",
    "    inbam.close()\n",
    "    outbam.close()\n",
    "    pysam.index(fileout_bam)"
   ]
  },
  {
   "cell_type": "code",
   "execution_count": 35,
   "metadata": {
    "execution": {
     "iopub.execute_input": "2022-04-24T09:56:32.945258Z",
     "iopub.status.busy": "2022-04-24T09:56:32.944807Z",
     "iopub.status.idle": "2022-04-24T09:56:32.957392Z",
     "shell.execute_reply": "2022-04-24T09:56:32.956060Z",
     "shell.execute_reply.started": "2022-04-24T09:56:32.945206Z"
    },
    "tags": []
   },
   "outputs": [],
   "source": [
    "def select_ir_polya_bam(filein_bam, fileout_bam, max_start=None, min_end=None, gene_pos=None, mRNA=None):\n",
    "    inbam = pysam.AlignmentFile(filein_bam, 'rb') \n",
    "    outbam = pysam.AlignmentFile(fileout_bam, 'wb', template=inbam)\n",
    "    for read in inbam.fetch(*gene_pos[:3]):\n",
    "        if read.get_tag('mi') != mRNA:\n",
    "            continue\n",
    "        if max_start is not None:\n",
    "            if read.reference_start + 1 > max_start:\n",
    "                continue\n",
    "        if min_end is not None:\n",
    "            if read.reference_end < min_end:\n",
    "                continue\n",
    "        if read.get_tag(\"pa\") < 10:\n",
    "            continue\n",
    "        if not read.get_tag(\"ir\"):\n",
    "            continue\n",
    "        outbam.write(read)\n",
    "    inbam.close()\n",
    "    outbam.close()\n",
    "    pysam.index(fileout_bam)"
   ]
  },
  {
   "cell_type": "code",
   "execution_count": 36,
   "metadata": {
    "execution": {
     "iopub.execute_input": "2022-04-24T09:56:34.295818Z",
     "iopub.status.busy": "2022-04-24T09:56:34.295408Z",
     "iopub.status.idle": "2022-04-24T09:56:34.303537Z",
     "shell.execute_reply": "2022-04-24T09:56:34.302355Z",
     "shell.execute_reply.started": "2022-04-24T09:56:34.295777Z"
    },
    "tags": []
   },
   "outputs": [
    {
     "data": {
      "text/plain": [
       "[[0, 'AT3G01480.1', {(189628, 189740)}, {(189628, 189712)}, 'AT3G01480.1'],\n",
       " [1,\n",
       "  'AT3G01480.isoform2',\n",
       "  {(189628, 189712)},\n",
       "  {(189628, 189740)},\n",
       "  'AT3G01480.1']]"
      ]
     },
     "execution_count": 36,
     "metadata": {},
     "output_type": "execute_result"
    }
   ],
   "source": [
    "isoforms = gene2isoforms[gene]\n",
    "isoforms"
   ]
  },
  {
   "cell_type": "code",
   "execution_count": 37,
   "metadata": {
    "execution": {
     "iopub.execute_input": "2022-04-24T09:56:34.790350Z",
     "iopub.status.busy": "2022-04-24T09:56:34.790025Z",
     "iopub.status.idle": "2022-04-24T09:56:34.797204Z",
     "shell.execute_reply": "2022-04-24T09:56:34.796005Z",
     "shell.execute_reply.started": "2022-04-24T09:56:34.790319Z"
    },
    "tags": []
   },
   "outputs": [
    {
     "data": {
      "text/plain": [
       "['chr3', 188319, 190892, '+']"
      ]
     },
     "execution_count": 37,
     "metadata": {},
     "output_type": "execute_result"
    }
   ],
   "source": [
    "gene_pos = gene2pos[gene]\n",
    "gene_pos"
   ]
  },
  {
   "cell_type": "code",
   "execution_count": 38,
   "metadata": {
    "execution": {
     "iopub.execute_input": "2022-04-24T09:56:36.186120Z",
     "iopub.status.busy": "2022-04-24T09:56:36.185673Z",
     "iopub.status.idle": "2022-04-24T09:56:36.191482Z",
     "shell.execute_reply": "2022-04-24T09:56:36.190112Z",
     "shell.execute_reply.started": "2022-04-24T09:56:36.186075Z"
    },
    "tags": []
   },
   "outputs": [],
   "source": [
    "tmp_gene_bam_dir = os.path.join(data_dir, \"tmp_gene_bam\")"
   ]
  },
  {
   "cell_type": "markdown",
   "metadata": {
    "execution": {
     "iopub.execute_input": "2022-04-24T09:58:34.826041Z",
     "iopub.status.busy": "2022-04-24T09:58:34.825566Z",
     "iopub.status.idle": "2022-04-24T09:58:34.834882Z",
     "shell.execute_reply": "2022-04-24T09:58:34.833206Z",
     "shell.execute_reply.started": "2022-04-24T09:58:34.825993Z"
    }
   },
   "source": [
    "If you don't download original bam and merge them to seelding.bam. You can skip this cell below, and \n",
    "run \n",
    "\n",
    "```\n",
    "file_ir_bam = './tmp_gene_bam/AT3G01480.ir.bam'\n",
    "isoform_filebams = ['./tmp_gene_bam/AT3G01480.1.bam', './tmp_gene_bam/AT3G01480.isoform2.bam']\n",
    "plot_upf_flag = False #if you don't download wt.bam and upf1upf3.bam\n",
    "```"
   ]
  },
  {
   "cell_type": "code",
   "execution_count": 52,
   "metadata": {
    "execution": {
     "iopub.execute_input": "2022-04-24T10:12:11.318344Z",
     "iopub.status.busy": "2022-04-24T10:12:11.317837Z",
     "iopub.status.idle": "2022-04-24T10:12:11.331982Z",
     "shell.execute_reply": "2022-04-24T10:12:11.330409Z",
     "shell.execute_reply.started": "2022-04-24T10:12:11.318294Z"
    },
    "tags": []
   },
   "outputs": [],
   "source": [
    "#If you have donwload original bam and plot other gene (Not AT3G01480), please set this \n",
    "#not_download_original_bam_plot_example = False\n",
    "not_download_original_bam_plot_example = True\n",
    "\n",
    "if not not_download_original_bam_plot_example:\n",
    "    isoform_filebams = []\n",
    "\n",
    "    for i, isoform_name, select_intron_set, not_select_intron_set, annoted_represent_mRNA in isoforms:\n",
    "        fileout = os.path.join(tmp_gene_bam_dir, f\"{isoform_name}.bam\")\n",
    "        select_intron_polya_bam(origin_file_bam, \n",
    "                            fileout,\n",
    "                            max_start=None, \n",
    "                            min_end=None, \n",
    "                            select_intron_set=select_intron_set, \n",
    "                            not_select_intron_set=not_select_intron_set, \n",
    "                            gene_pos=gene_pos, \n",
    "                            mRNA=annoted_represent_mRNA)\n",
    "        isoform_filebams.append(fileout)\n",
    "\n",
    "    file_ir_bam = os.path.join(tmp_gene_bam_dir, f\"{gene}.ir.bam\")\n",
    "    select_ir_polya_bam(origin_file_bam, \n",
    "                        file_ir_bam,\n",
    "                        max_start=None, \n",
    "                        min_end=None,  \n",
    "                        gene_pos=gene_pos, \n",
    "                        mRNA=annoted_represent_mRNA)\n",
    "else:\n",
    "    file_ir_bam = './tmp_gene_bam/AT3G01480.ir.bam'\n",
    "    isoform_filebams = ['./tmp_gene_bam/AT3G01480.1.bam', './tmp_gene_bam/AT3G01480.isoform2.bam']\n",
    "    plot_upf_flag = False "
   ]
  },
  {
   "cell_type": "code",
   "execution_count": 46,
   "metadata": {
    "execution": {
     "iopub.execute_input": "2022-04-24T09:58:45.538410Z",
     "iopub.status.busy": "2022-04-24T09:58:45.537983Z",
     "iopub.status.idle": "2022-04-24T09:58:45.544188Z",
     "shell.execute_reply": "2022-04-24T09:58:45.543006Z",
     "shell.execute_reply.started": "2022-04-24T09:58:45.538367Z"
    },
    "tags": []
   },
   "outputs": [],
   "source": [
    "isoform1_name = isoforms[0][1]\n",
    "isoform2_name = isoforms[1][1]\n",
    "annoted_represent_mRNA = isoforms[0][-1]"
   ]
  },
  {
   "cell_type": "markdown",
   "metadata": {},
   "source": [
    "### 6.2.5 plot IGV"
   ]
  },
  {
   "cell_type": "code",
   "execution_count": 47,
   "metadata": {
    "execution": {
     "iopub.execute_input": "2022-04-24T09:58:47.438067Z",
     "iopub.status.busy": "2022-04-24T09:58:47.437639Z",
     "iopub.status.idle": "2022-04-24T09:58:47.457006Z",
     "shell.execute_reply": "2022-04-24T09:58:47.455750Z",
     "shell.execute_reply.started": "2022-04-24T09:58:47.438023Z"
    },
    "tags": []
   },
   "outputs": [],
   "source": [
    "def generate_bed_config(color=\"#3183bd\", track_heigth=2, **kwargs):\n",
    "    bed_config = {\"track_height\": track_heigth,\n",
    "                  \"keep_select_features\": True,\n",
    "                  \"max_cache_obj_number\": 1,\n",
    "              \"feature_plot\":\n",
    "                  {   \"up_arrow.arrow_color\": color,\n",
    "                      \"exon\": {\n",
    "                          \"facecolor\" : color,\n",
    "                          \"edgecolor\" : color,\n",
    "                      },\n",
    "                      \"5UTR\": {\n",
    "                          \"facecolor\" : color,\n",
    "                          \"edgecolor\" : color,\n",
    "                      },\n",
    "                      \"3UTR\": {\n",
    "                          \"facecolor\" : color,\n",
    "                          \"edgecolor\" : color,\n",
    "                      },\n",
    "                      \"CDS\": {\n",
    "                          \"facecolor\" : color,\n",
    "                          \"edgecolor\" : color,\n",
    "                      },\n",
    "                      \"intron\": {\n",
    "                          \"facecolor\" : color,\n",
    "                          \"edgecolor\" : color,\n",
    "                      },\n",
    "                  }\n",
    "             }\n",
    "    for k, v in kwargs.items():\n",
    "        bed_config[k] = v\n",
    "    return bed_config\n",
    "\n",
    "def generate_long_read_config(color=\"#3183bd\", track_height=3, select_read_types=\"polya\"):\n",
    "    if select_read_types == \"polya_contain_5lost\":\n",
    "        select_read_types = [\"polya_3_not_in_last_exon\", \"polya_5lost\", \"polya\"]\n",
    "    config={\n",
    "            \"track_height\": 3,\n",
    "            \"feature_plot.feature_space\": 0,\n",
    "            \"feature_plot.select_read_types\": select_read_types, #[\"polya_3_not_in_last_exon\", \"polya_5lost\", \"polya\"], #[\"polya\"], #\n",
    "            \"feature_plot.read_type_order\": [[[\"elongating\", \"splicing_intermediate\", \"elongating_3_mapping_low_accuracy\",\"elongating_5lost\" ], \"elongating\"],\n",
    "                                             [[\"polya_3_not_in_last_exon\", \"polya_5lost\", \"polya\"], \"polya\"],\n",
    "                                            ],\n",
    "            \"feature_plot.read_type_sort_method\": {\"polya\": \"end\"},\n",
    "            \"feature_plot.polyA.plot_show\": True,\n",
    "            \"feature_plot.exon.facecolor\": color,\n",
    "            \"feature_plot.exon.edgecolor\": color,\n",
    "           }\n",
    "    return config\n",
    "\n",
    "def generate_rnasashimiplot_config(color='#984EA3'):\n",
    "    config={\n",
    "        \"track_height\": 3,\n",
    "        \"read_specific_strand\": False,\n",
    "        \"rnasashimiplot\": {\n",
    "            \"all_color\": color, \n",
    "            \"min_junction_ratio\": 0.1,\n",
    "            \"max_junction_line_width\": 0.4,\n",
    "             \"line_width_based_on_count\": True,\n",
    "        }\n",
    "\n",
    "    }\n",
    "    return config"
   ]
  },
  {
   "cell_type": "code",
   "execution_count": 48,
   "metadata": {
    "execution": {
     "iopub.execute_input": "2022-04-24T09:58:48.342692Z",
     "iopub.status.busy": "2022-04-24T09:58:48.342287Z",
     "iopub.status.idle": "2022-04-24T09:58:48.355770Z",
     "shell.execute_reply": "2022-04-24T09:58:48.354574Z",
     "shell.execute_reply.started": "2022-04-24T09:58:48.342651Z"
    },
    "tags": []
   },
   "outputs": [],
   "source": [
    "def print_describe(gene, gene_pos, isoforms):\n",
    "    chr_name, gene_start, gene_end, strand = gene_pos\n",
    "    \n",
    "    print_str = (\n",
    "        f\"Print {gene}\\n\"\n",
    "        \"\\n\"\n",
    "        \"\\n\"\n",
    "        f\"The position of {gene} is:\\n\"\n",
    "        f\"\\tchr_name:\\t{chr_name}\\n\"\n",
    "        f\"\\tgene_start:\\t{gene_start}\\n\"\n",
    "        f\"\\tgene_end:\\t{gene_end}\\n\"\n",
    "        f\"\\tstrand:\\t\\t{strand}\\n\"\n",
    "        \"\\n\"\n",
    "        \"The x axis in the plot indicate the position of the gene.\\n\"\n",
    "        f\"0 in x axis represent the strat position of gene: {gene_start} in genome.\\n\"\n",
    "    )\n",
    "\n",
    "    print_str += \"The alternative spliced introns: \\n\\n\"\n",
    "    for i, isoform in enumerate(isoforms):\n",
    "        if i == 0:\n",
    "            major_or_minior = \"major\"\n",
    "        else:\n",
    "            major_or_minior = \"minor\"\n",
    "        isoform_name = isoform[1]\n",
    "        j = i + 1\n",
    "        print_str += f\"The {j} isoform structure and full length track is:\\n\"\n",
    "        print_str += f\"\\tThe {major_or_minior} isoform {isoform_name}: \\n\"\n",
    "        print_str += \"\\t\\tintron_start_in_x_axis\\tintron_end_in_x_aixs\\n\"\n",
    "        for intron_start, intron_end in isoform[2]:\n",
    "            if strand == \"+\":\n",
    "                intron_start -= gene_start\n",
    "                intron_end -= gene_start\n",
    "            else:\n",
    "                intron_start = gene_end - intron_start\n",
    "                intron_end = gene_end - intron_end\n",
    "            print_str += f\"\\t\\t{intron_start}\\t\\t\\t{intron_end}\\n\"\n",
    "    j = j + 1\n",
    "    print_str += f\"The {j} full length track is transcripts with introns.\\n\"\n",
    "    \n",
    "    print(print_str)"
   ]
  },
  {
   "cell_type": "code",
   "execution_count": 49,
   "metadata": {
    "execution": {
     "iopub.execute_input": "2022-04-24T09:58:48.679828Z",
     "iopub.status.busy": "2022-04-24T09:58:48.679518Z",
     "iopub.status.idle": "2022-04-24T09:58:48.684131Z",
     "shell.execute_reply": "2022-04-24T09:58:48.682966Z",
     "shell.execute_reply.started": "2022-04-24T09:58:48.679796Z"
    },
    "tags": []
   },
   "outputs": [],
   "source": [
    "#蓝, 紫，黄，红, 棕黄\n",
    "colors = [\"#3183bd\", \"#782f9a\", \"#fcb847\",  \"#ef5f72\", '#FF7F00']"
   ]
  },
  {
   "cell_type": "code",
   "execution_count": 50,
   "metadata": {
    "execution": {
     "iopub.execute_input": "2022-04-24T09:58:49.266320Z",
     "iopub.status.busy": "2022-04-24T09:58:49.265990Z",
     "iopub.status.idle": "2022-04-24T09:58:49.905884Z",
     "shell.execute_reply": "2022-04-24T09:58:49.904609Z",
     "shell.execute_reply.started": "2022-04-24T09:58:49.266288Z"
    },
    "tags": []
   },
   "outputs": [
    {
     "data": {
      "text/plain": [
       "<bugv.tracks.xaxistrack.XaxisGeneTrack at 0x2b24b6fa5e50>"
      ]
     },
     "execution_count": 50,
     "metadata": {},
     "output_type": "execute_result"
    }
   ],
   "source": [
    "select_read_types = [\"polya\", \"polya_3_not_in_last_exon\", \"polya_5lost\"]\n",
    "\n",
    "bed_file = file_alternative_spliced_isoform_bed\n",
    "\n",
    "bgv = bugv.BuGV()\n",
    "\n",
    "bgv.add_track(\"RulerTrack\", config={\"track_height\": 1, \"ruler.ruler_length\": 200})\n",
    "\n",
    "for i, isoform in enumerate(isoforms):\n",
    "    j = i % 5\n",
    "    isoform_name = isoforms[i][1]\n",
    "    config=generate_bed_config(color=colors[j], \n",
    "                                     track_heigth=1)\n",
    "    config[\"select_features\"] = [isoform_name]\n",
    "    bgv.add_track(\"BedTrack\", \n",
    "                  file_name=bed_file, \n",
    "                  config=config\n",
    "                  )\n",
    "\n",
    "for i, filebam in enumerate(isoform_filebams):\n",
    "    j = i % 5\n",
    "    isoform_name = isoforms[i][1]\n",
    "    config = generate_long_read_config(color=colors[j], \n",
    "                                       track_height=3,\n",
    "                                       select_read_types=select_read_types)\n",
    "    bgv.add_track(\n",
    "            \"FulllengthBamTrack\",\n",
    "            file_name=filebam,\n",
    "            track_name=isoform_name,\n",
    "            config=config\n",
    "        )\n",
    "\n",
    "bgv.add_track(\n",
    "        \"FulllengthBamTrack\",\n",
    "        file_name=file_ir_bam,\n",
    "        track_name=\"ir\",\n",
    "        config=generate_long_read_config(color=colors[2], track_height=3, select_read_types=select_read_types)\n",
    "    )\n",
    "\n",
    "if plot_upf_flag:\n",
    "    #if you don't want to plot wt bam, delete this\n",
    "    bgv.add_track(\n",
    "        \"RNASashimiplot\",\n",
    "        file_name=file_wt_bam,\n",
    "        track_name=\"wt\",\n",
    "        config=generate_rnasashimiplot_config(colors[3]),\n",
    "    )\n",
    "\n",
    "    #if you don't want to plot upf1upf3 bam, delete this\n",
    "    bgv.add_track(\n",
    "        \"RNASashimiplot\",\n",
    "        file_name=file_upf1upf3_bam,\n",
    "        track_name=\"wt\",\n",
    "        config=generate_rnasashimiplot_config(colors[4]),\n",
    "    )\n",
    "\n",
    "bgv.add_track(\"XaxisGeneTrack\", config={\"track_height\": 2})"
   ]
  },
  {
   "cell_type": "code",
   "execution_count": 46,
   "metadata": {
    "execution": {
     "iopub.execute_input": "2022-04-24T06:42:53.099886Z",
     "iopub.status.busy": "2022-04-24T06:42:53.099327Z",
     "iopub.status.idle": "2022-04-24T06:43:07.112508Z",
     "shell.execute_reply": "2022-04-24T06:43:07.111240Z",
     "shell.execute_reply.started": "2022-04-24T06:42:53.099830Z"
    },
    "tags": []
   },
   "outputs": [
    {
     "name": "stdout",
     "output_type": "stream",
     "text": [
      "Print AT3G01480\n",
      "\n",
      "\n",
      "The position of AT3G01480 is:\n",
      "\tchr_name:\tchr3\n",
      "\tgene_start:\t188319\n",
      "\tgene_end:\t190892\n",
      "\tstrand:\t\t+\n",
      "\n",
      "The x axis in the plot indicate the position of the gene.\n",
      "0 in x axis represent the strat position of gene: 188319 in genome.\n",
      "The alternative spliced introns: \n",
      "\n",
      "The 1 isoform structure and full length track is:\n",
      "\tThe major isoform AT3G01480.1: \n",
      "\t\tintron_start_in_x_axis\tintron_end_in_x_aixs\n",
      "\t\t1309\t\t\t1421\n",
      "The 2 isoform structure and full length track is:\n",
      "\tThe minor isoform AT3G01480.isoform2: \n",
      "\t\tintron_start_in_x_axis\tintron_end_in_x_aixs\n",
      "\t\t1309\t\t\t1393\n",
      "The 3 full length track is transcripts with introns.\n",
      "\n",
      "188320.5 188370.5 -0.5750000000000001 -0.38\n",
      "188320.5 188370.5 -0.5750000000000001 -0.38\n"
     ]
    },
    {
     "data": {
      "image/png": "[encoded data removed]",
      "text/plain": [
       "<Figure size 1200x660 with 27 Axes>"
      ]
     },
     "metadata": {
      "image/png": {
       "height": 701,
       "width": 1137
      },
      "needs_background": "light"
     },
     "output_type": "display_data"
    }
   ],
   "source": [
    "#Track1: rule\n",
    "#Track2: major isoform\n",
    "#Track3: minor isoform\n",
    "#Track4: FLEP-seq major isoform  (Blue)\n",
    "#Track5: FLEP-seq minor isoform  (Purple)\n",
    "#Track6: FLEP-seq transcripts with introns (Yellow)\n",
    "#Track7: wt RNA-seq bam\n",
    "#Track8: upf1upf3 RNA-seq bam\n",
    "#Note: the right side of covereage showed in wt and upf1upf3 RNA-seq bam track is derived from another gene.\n",
    "print_describe(gene, gene_pos, isoforms)\n",
    "\n",
    "bgv.plot_mRNA(annoted_represent_mRNA)\n",
    "#plt.savefig(\"/public/home/jiajb/self/test/b.pdf\")\n",
    "plt.show()"
   ]
  },
  {
   "cell_type": "code",
   "execution_count": 47,
   "metadata": {
    "execution": {
     "iopub.execute_input": "2022-04-24T06:43:09.557514Z",
     "iopub.status.busy": "2022-04-24T06:43:09.557156Z",
     "iopub.status.idle": "2022-04-24T06:43:22.883946Z",
     "shell.execute_reply": "2022-04-24T06:43:22.882682Z",
     "shell.execute_reply.started": "2022-04-24T06:43:09.557476Z"
    },
    "tags": []
   },
   "outputs": [
    {
     "name": "stdout",
     "output_type": "stream",
     "text": [
      "Print AT3G01480\n",
      "\n",
      "\n",
      "The position of AT3G01480 is:\n",
      "\tchr_name:\tchr3\n",
      "\tgene_start:\t188319\n",
      "\tgene_end:\t190892\n",
      "\tstrand:\t\t+\n",
      "\n",
      "The x axis in the plot indicate the position of the gene.\n",
      "0 in x axis represent the strat position of gene: 188319 in genome.\n",
      "The alternative spliced introns: \n",
      "\n",
      "The 1 isoform structure and full length track is:\n",
      "\tThe major isoform AT3G01480.1: \n",
      "\t\tintron_start_in_x_axis\tintron_end_in_x_aixs\n",
      "\t\t1309\t\t\t1421\n",
      "The 2 isoform structure and full length track is:\n",
      "\tThe minor isoform AT3G01480.isoform2: \n",
      "\t\tintron_start_in_x_axis\tintron_end_in_x_aixs\n",
      "\t\t1309\t\t\t1393\n",
      "The 3 full length track is transcripts with introns.\n",
      "\n",
      "188320.5 188370.5 -0.5750000000000001 -0.38\n",
      "188320.5 188370.5 -0.5750000000000001 -0.38\n"
     ]
    },
    {
     "name": "stderr",
     "output_type": "stream",
     "text": [
      "/public/home/jiajb/self/nanopore_analysis/20220409_upload/bugv/readers/feature.py:217: SettingWithCopyWarning: \n",
      "A value is trying to be set on a copy of a slice from a DataFrame.\n",
      "Try using .loc[row_indexer,col_indexer] = value instead\n",
      "\n",
      "See the caveats in the documentation: https://pandas.pydata.org/pandas-docs/stable/user_guide/indexing.html#returning-a-view-versus-a-copy\n",
      "  self.df[\"index_order\"] = np.arange(len(self.df))\n"
     ]
    },
    {
     "data": {
      "image/png": "[encoded data removed]",
      "text/plain": [
       "<Figure size 1200x660 with 27 Axes>"
      ]
     },
     "metadata": {
      "image/png": {
       "height": 701,
       "width": 1121
      },
      "needs_background": "light"
     },
     "output_type": "display_data"
    }
   ],
   "source": [
    "#Only show full-length transcripts\n",
    "select_read_types = [\"polya\"]\n",
    "bgv.load_track_config({\"feature_plot.select_read_types\": select_read_types})\n",
    "\n",
    "#Track1: rule\n",
    "#Track2: major isoform\n",
    "#Track3: minor isoform\n",
    "#Track4: FLEP-seq major isoform  (Blue)\n",
    "#Track5: FLEP-seq minor isoform  (Purple)\n",
    "#Track6: FLEP-seq transcripts with introns (Yellow)\n",
    "#Track7: wt RNA-seq bam\n",
    "#Track8: upf1upf3 RNA-seq bam\n",
    "#Note: the right side of covereage showed in wt and upf1upf3 RNA-seq bam track is derived from another gene.\n",
    "print_describe(gene, gene_pos, isoforms)\n",
    "bgv.plot_mRNA(annoted_represent_mRNA)\n",
    "#plt.savefig(\"/public/home/jiajb/self/test/b.pdf\")\n",
    "plt.show()"
   ]
  },
  {
   "cell_type": "code",
   "execution_count": 48,
   "metadata": {
    "execution": {
     "iopub.execute_input": "2022-04-24T06:43:22.886125Z",
     "iopub.status.busy": "2022-04-24T06:43:22.885786Z",
     "iopub.status.idle": "2022-04-24T06:43:35.780547Z",
     "shell.execute_reply": "2022-04-24T06:43:35.779391Z",
     "shell.execute_reply.started": "2022-04-24T06:43:22.886089Z"
    },
    "tags": []
   },
   "outputs": [
    {
     "name": "stdout",
     "output_type": "stream",
     "text": [
      "188320.5 188370.5 -0.5750000000000001 -0.38\n",
      "188320.5 188370.5 -0.5750000000000001 -0.38\n"
     ]
    },
    {
     "name": "stderr",
     "output_type": "stream",
     "text": [
      "/public/home/jiajb/self/nanopore_analysis/20220409_upload/bugv/readers/feature.py:217: SettingWithCopyWarning: \n",
      "A value is trying to be set on a copy of a slice from a DataFrame.\n",
      "Try using .loc[row_indexer,col_indexer] = value instead\n",
      "\n",
      "See the caveats in the documentation: https://pandas.pydata.org/pandas-docs/stable/user_guide/indexing.html#returning-a-view-versus-a-copy\n",
      "  self.df[\"index_order\"] = np.arange(len(self.df))\n"
     ]
    },
    {
     "data": {
      "image/png": "[encoded data removed]",
      "text/plain": [
       "<Figure size 432x288 with 27 Axes>"
      ]
     },
     "metadata": {
      "image/png": {
       "height": 288,
       "width": 395
      },
      "needs_background": "light"
     },
     "output_type": "display_data"
    }
   ],
   "source": [
    "#Zoom in and only show the alternatived spliced introns\n",
    "#Track1: rule\n",
    "#Track2: major isoform\n",
    "#Track3: minor isoform\n",
    "#Track4: FLEP-seq major isoform  (Blue)\n",
    "#Track5: FLEP-seq minor isoform  (Purple)\n",
    "#Track6: FLEP-seq transcripts with introns (Yellow)\n",
    "#Track7: wt RNA-seq bam\n",
    "#Track8: upf1upf3 RNA-seq bam\n",
    "bgv.plot(region=[\"chr3\", 189500, 189900, \"+\"])\n",
    "plt.show()"
   ]
  },
  {
   "cell_type": "markdown",
   "metadata": {},
   "source": [
    "Note: the right side of covereage showed in wt and upf1upf3 RNA-seq bam track is derived from another gene (AT3G01490).\n",
    "\n",
    "We can plot the original alignment in the region of AT3G01480 (left) and AT3G01490 (right):"
   ]
  },
  {
   "cell_type": "code",
   "execution_count": 49,
   "metadata": {
    "execution": {
     "iopub.execute_input": "2022-04-24T06:43:41.854289Z",
     "iopub.status.busy": "2022-04-24T06:43:41.853939Z",
     "iopub.status.idle": "2022-04-24T06:43:47.728718Z",
     "shell.execute_reply": "2022-04-24T06:43:47.727757Z",
     "shell.execute_reply.started": "2022-04-24T06:43:41.854254Z"
    },
    "tags": []
   },
   "outputs": [
    {
     "data": {
      "text/plain": [
       "<bugv.tracks.xaxistrack.XaxisGeneTrack at 0x2af3da36d390>"
      ]
     },
     "execution_count": 49,
     "metadata": {},
     "output_type": "execute_result"
    }
   ],
   "source": [
    "origin_bed_dir = os.path.join(data_dir, \"genome_bed\")\n",
    "bed_file = os.path.join(origin_bed_dir, \"ath.bed\")\n",
    "bam_file = os.path.join(origin_bam_dir, \"seedling.bam\")\n",
    "select_read_types = [\"polya\"]\n",
    "\n",
    "bgv_all_gene = bugv.BuGV()\n",
    "\n",
    "bgv_all_gene.add_track(\"RulerTrack\", config={\"track_height\": 1, \"ruler.ruler_length\": 200})\n",
    "\n",
    "bgv_all_gene.add_track(\"BedTrack\", \n",
    "              file_name=bed_file, \n",
    "              config=generate_bed_config(color=\"black\", \n",
    "                                 track_heigth=1)\n",
    "              )\n",
    "\n",
    "bgv_all_gene.add_track(\n",
    "        \"FulllengthBamTrack\",\n",
    "        file_name=bam_file,\n",
    "        config=generate_long_read_config(color=colors[0],\n",
    "                                   track_height=3,\n",
    "                                   select_read_types=select_read_types)\n",
    "    )\n",
    "\n",
    "bgv_all_gene.add_track(\n",
    "        \"RNASashimiplot\",\n",
    "        file_name=file_wt_bam,\n",
    "        track_name=\"wt\",\n",
    "        config=generate_rnasashimiplot_config(colors[3]),\n",
    "    )\n",
    "\n",
    "bgv_all_gene.add_track(\n",
    "        \"RNABamAlignTrack\",\n",
    "        file_name=file_wt_bam,\n",
    "        track_name=\"wt\",\n",
    "        config={\"track_height\":10},\n",
    "    )\n",
    "\n",
    "bgv_all_gene.add_track(\"XaxisGeneTrack\", config={\"track_height\": 2})"
   ]
  },
  {
   "cell_type": "code",
   "execution_count": 50,
   "metadata": {
    "execution": {
     "iopub.execute_input": "2022-04-24T06:43:47.730512Z",
     "iopub.status.busy": "2022-04-24T06:43:47.730172Z",
     "iopub.status.idle": "2022-04-24T06:44:04.935893Z",
     "shell.execute_reply": "2022-04-24T06:44:04.935073Z",
     "shell.execute_reply.started": "2022-04-24T06:43:47.730477Z"
    },
    "tags": []
   },
   "outputs": [
    {
     "name": "stdout",
     "output_type": "stream",
     "text": [
      "188320.5 188370.5 -0.5750000000000001 -0.38\n",
      "193721.5 193671.5 -1.5750000000000002 -1.38\n"
     ]
    },
    {
     "name": "stderr",
     "output_type": "stream",
     "text": [
      "/public/home/jiajb/self/nanopore_analysis/20220409_upload/bugv/readers/feature.py:217: SettingWithCopyWarning: \n",
      "A value is trying to be set on a copy of a slice from a DataFrame.\n",
      "Try using .loc[row_indexer,col_indexer] = value instead\n",
      "\n",
      "See the caveats in the documentation: https://pandas.pydata.org/pandas-docs/stable/user_guide/indexing.html#returning-a-view-versus-a-copy\n",
      "  self.df[\"index_order\"] = np.arange(len(self.df))\n"
     ]
    },
    {
     "data": {
      "image/png": "[encoded data removed]",
      "text/plain": [
       "<Figure size 720x720 with 18 Axes>"
      ]
     },
     "metadata": {
      "image/png": {
       "height": 694,
       "width": 653
      },
      "needs_background": "light"
     },
     "output_type": "display_data"
    }
   ],
   "source": [
    "#track1: rule\n",
    "#track2: gene bed AT3G01480 (left) and AT3G01490 (right)\n",
    "#track3: FLEP-seq seedling\n",
    "#track4: coverage wt RNA-seq bam\n",
    "#track5: alignment wt RNA-seq bam\n",
    "bgv_all_gene.plot(region=['chr3', 188319, 193892, \"+\"], figsize=[10, 10])"
   ]
  },
  {
   "cell_type": "markdown",
   "metadata": {},
   "source": [
    "### 6.2.6 plot polya_length"
   ]
  },
  {
   "cell_type": "code",
   "execution_count": 51,
   "metadata": {
    "execution": {
     "iopub.execute_input": "2022-04-24T06:44:26.260077Z",
     "iopub.status.busy": "2022-04-24T06:44:26.259726Z",
     "iopub.status.idle": "2022-04-24T06:44:26.272265Z",
     "shell.execute_reply": "2022-04-24T06:44:26.271445Z",
     "shell.execute_reply.started": "2022-04-24T06:44:26.260041Z"
    },
    "tags": []
   },
   "outputs": [],
   "source": [
    "dfs = []\n",
    "for i in range(len(isoforms)+1):\n",
    "    if i == len(isoforms):\n",
    "        isoform_name = \"ir\"\n",
    "    else:\n",
    "        isoform_name = isoforms[i][1]\n",
    "    polya_length = bgv.tracks[i+len(isoforms)+1].region_data.df.polya_length.values\n",
    "    df = pd.DataFrame({\"polya_length\": polya_length})\n",
    "    df[\"sample\"] = isoform_name\n",
    "    dfs.append(df)\n",
    "dfs = pd.concat(dfs)"
   ]
  },
  {
   "cell_type": "code",
   "execution_count": 52,
   "metadata": {
    "execution": {
     "iopub.execute_input": "2022-04-24T06:44:26.444474Z",
     "iopub.status.busy": "2022-04-24T06:44:26.444031Z",
     "iopub.status.idle": "2022-04-24T06:44:26.684687Z",
     "shell.execute_reply": "2022-04-24T06:44:26.683935Z",
     "shell.execute_reply.started": "2022-04-24T06:44:26.444429Z"
    },
    "tags": []
   },
   "outputs": [
    {
     "data": {
      "image/png": "[encoded data removed]",
      "text/plain": [
       "<Figure size 216x129.6 with 1 Axes>"
      ]
     },
     "metadata": {
      "image/png": {
       "height": 152,
       "width": 304
      },
      "needs_background": "light"
     },
     "output_type": "display_data"
    }
   ],
   "source": [
    "fig, ax = plt.subplots(figsize=[3, 1.8])\n",
    "sns.boxplot(data=dfs, x=\"polya_length\", y=\"sample\",  \n",
    "            palette=colors[:3], \n",
    "            ax=ax, \n",
    "            showfliers=False, width=0.5, linewidth=0.8)\n",
    "\n",
    "for i, artist in enumerate(ax.artists):\n",
    "    # Set the linecolor on the artist to the facecolor, and set the facecolor to None\n",
    "    col = artist.get_facecolor()\n",
    "    artist.set_edgecolor(col)\n",
    "    artist.set_facecolor('None')\n",
    "\n",
    "    # Each box has 6 associated Line2D objects (to make the whiskers, fliers, etc.)\n",
    "    # Loop over them here, and use the same colour as above\n",
    "    for j in range(i*5,i*5+5):\n",
    "        line = ax.lines[j]\n",
    "        line.set_color(col)\n",
    "        line.set_mfc(col)\n",
    "        line.set_mec(col)\n",
    "\n",
    "plt.xlim(0, 500)\n",
    "plt.xticks([0, 100, 200, 300])\n",
    "sns.despine(offset=10, trim=True)\n",
    "plt.ylabel(\"\")\n",
    "plt.xlabel(\"PolyA tail length\")\n",
    "plt.show()"
   ]
  },
  {
   "cell_type": "markdown",
   "metadata": {},
   "source": [
    "# 7. Fig 3a Gene distriubtion heatmap"
   ]
  },
  {
   "cell_type": "code",
   "execution_count": 230,
   "metadata": {
    "execution": {
     "iopub.execute_input": "2022-04-22T07:39:52.522129Z",
     "iopub.status.busy": "2022-04-22T07:39:52.521764Z",
     "iopub.status.idle": "2022-04-22T07:39:52.533904Z",
     "shell.execute_reply": "2022-04-22T07:39:52.533175Z",
     "shell.execute_reply.started": "2022-04-22T07:39:52.522094Z"
    },
    "tags": []
   },
   "outputs": [],
   "source": [
    "def generate_polya_bin(df):\n",
    "    #min_polya_length 10\n",
    "    #min_count 50\n",
    "    df = df.query('polya_length >= 10')\n",
    "    cut_bins = list(range(10, 250, 10))\n",
    "    tmp_length_bin = np.digitize(\n",
    "        df.polya_length,\n",
    "        cut_bins,\n",
    "    )\n",
    "    polya_bin = pd.crosstab(df.mRNA, tmp_length_bin)\n",
    "    polya_bin = polya_bin.fillna(0)\n",
    "    polya_bin = polya_bin.divide(polya_bin.sum(axis=1), axis=0)\n",
    "    \n",
    "    bin_sort_value = polya_bin.apply(lambda x: np.argsort(-x), axis=1)\n",
    "    bin_sort_value.columns = [\"o\" + str(i) for i in range(len(polya_bin.columns))]\n",
    "    bin_sort_value = bin_sort_value.reset_index()\n",
    "    mRNA_median = df.groupby('mRNA').agg({\"polya_length\": [len, np.median]})\n",
    "    mRNA_median = mRNA_median.reset_index()\n",
    "    mRNA_median.columns = [\"mRNA\", \"count\", \"median\"]\n",
    "    bin_sort_value = bin_sort_value.merge(mRNA_median, on=\"mRNA\")\n",
    "    bin_sort_value = bin_sort_value.sort_values([\"o0\", \"median\"])\n",
    "    \n",
    "    bin_sort_value = bin_sort_value.query('count >= 50')\n",
    "    polya_bin = polya_bin.loc[list(bin_sort_value.mRNA), :]\n",
    "    return (polya_bin, bin_sort_value)"
   ]
  },
  {
   "cell_type": "code",
   "execution_count": 228,
   "metadata": {
    "execution": {
     "iopub.execute_input": "2022-04-22T07:38:50.826008Z",
     "iopub.status.busy": "2022-04-22T07:38:50.825678Z",
     "iopub.status.idle": "2022-04-22T07:38:50.833594Z",
     "shell.execute_reply": "2022-04-22T07:38:50.832623Z",
     "shell.execute_reply.started": "2022-04-22T07:38:50.825973Z"
    }
   },
   "outputs": [],
   "source": [
    "def real_plot_polya_clustermap(df, vmax=0.15, figsize=[7, 7]):\n",
    "    print(len(df))\n",
    "    cg = sns.clustermap(df,  vmin=0, vmax=vmax, \n",
    "                    row_cluster=False, col_cluster=False,  method=\"average\", \n",
    "               cmap=\"RdYlBu_r\", figsize=figsize) # col_linkage=col_linkage, #figsize=[3,3], yticklabels=False\n",
    "    cg.ax_heatmap.tick_params(right=False, bottom=False, labelright=False, labelbottom=False)\n",
    "    cg.ax_heatmap.set_xlabel(\"\")\n",
    "    cg.ax_heatmap.set_ylabel(\"\")\n",
    "    cg.cax.set_visible(False)\n",
    "    return cg"
   ]
  },
  {
   "cell_type": "code",
   "execution_count": 234,
   "metadata": {
    "execution": {
     "iopub.execute_input": "2022-04-22T07:41:15.994175Z",
     "iopub.status.busy": "2022-04-22T07:41:15.993712Z",
     "iopub.status.idle": "2022-04-22T07:41:49.585411Z",
     "shell.execute_reply": "2022-04-22T07:41:49.584390Z",
     "shell.execute_reply.started": "2022-04-22T07:41:15.994129Z"
    },
    "tags": []
   },
   "outputs": [],
   "source": [
    "polya_bin, bin_sort_value = generate_polya_bin(pd.concat([seedling_rep1, seedling_rep2]))"
   ]
  },
  {
   "cell_type": "code",
   "execution_count": 238,
   "metadata": {
    "execution": {
     "iopub.execute_input": "2022-04-22T07:42:14.445272Z",
     "iopub.status.busy": "2022-04-22T07:42:14.444925Z",
     "iopub.status.idle": "2022-04-22T07:42:15.881089Z",
     "shell.execute_reply": "2022-04-22T07:42:15.880244Z",
     "shell.execute_reply.started": "2022-04-22T07:42:14.445239Z"
    },
    "tags": []
   },
   "outputs": [
    {
     "name": "stdout",
     "output_type": "stream",
     "text": [
      "13116\n"
     ]
    },
    {
     "data": {
      "text/plain": [
       "<seaborn.matrix.ClusterGrid at 0x2b0d756b7510>"
      ]
     },
     "execution_count": 238,
     "metadata": {},
     "output_type": "execute_result"
    },
    {
     "data": {
      "image/png": "[encoded data removed]",
      "text/plain": [
       "<Figure size 288x360 with 4 Axes>"
      ]
     },
     "metadata": {
      "image/png": {
       "height": 320,
       "width": 192
      },
      "needs_background": "light"
     },
     "output_type": "display_data"
    }
   ],
   "source": [
    "real_plot_polya_clustermap(polya_bin, figsize=[4, 5])"
   ]
  },
  {
   "cell_type": "markdown",
   "metadata": {},
   "source": [
    "# 8. Fig 3b one gene heatmap"
   ]
  },
  {
   "cell_type": "code",
   "execution_count": 263,
   "metadata": {
    "execution": {
     "iopub.execute_input": "2022-04-22T07:55:05.131712Z",
     "iopub.status.busy": "2022-04-22T07:55:05.131201Z",
     "iopub.status.idle": "2022-04-22T07:55:05.143070Z",
     "shell.execute_reply": "2022-04-22T07:55:05.142244Z",
     "shell.execute_reply.started": "2022-04-22T07:55:05.131664Z"
    },
    "tags": []
   },
   "outputs": [],
   "source": [
    "def get_one_sample_df(mRNA, df, bin_length=10, max_length=200):\n",
    "    df1 = df.query('mRNA==@mRNA')\n",
    "    d1 = pd.DataFrame({\"length\": range(np.digitize(10, range(1, 500, bin_length)), \n",
    "         np.digitize(max_length-1, range(1, 500, bin_length))+1, 1)})\n",
    "    if len(df1) == 0:\n",
    "        d = d1\n",
    "        d[\"count\"] = 0\n",
    "    else:\n",
    "        x = df1.polya_length\n",
    "        x = x[(x>=10) & (x<max_length)]    \n",
    "        x = pd.Series(np.digitize(x, range(1, 500, bin_length))).value_counts().sort_index()\n",
    "        d = pd.DataFrame(x)\n",
    "        d.columns = [\"count\"]\n",
    "        d[\"length\"] = d.index\n",
    "        d = d1.merge(d, on=\"length\", how=\"left\").fillna(0)\n",
    "        d.index = d[\"length\"]\n",
    "        d[\"count\"] = d[\"count\"]/d[\"count\"].sum()\n",
    "    return d"
   ]
  },
  {
   "cell_type": "code",
   "execution_count": 270,
   "metadata": {
    "execution": {
     "iopub.execute_input": "2022-04-22T07:56:29.521231Z",
     "iopub.status.busy": "2022-04-22T07:56:29.520351Z",
     "iopub.status.idle": "2022-04-22T07:56:29.542367Z",
     "shell.execute_reply": "2022-04-22T07:56:29.540789Z",
     "shell.execute_reply.started": "2022-04-22T07:56:29.521125Z"
    },
    "tags": []
   },
   "outputs": [],
   "source": [
    "def plot_mRNA_tissues(mRNA, dfs, samples, bin_length=10, figsize=[3, 3]):\n",
    "    title = mRNA\n",
    "    result_df = {}\n",
    "    for df, sample in zip(dfs, samples):\n",
    "        ratio = get_one_sample_df(mRNA, df, bin_length)[\"count\"].values\n",
    "        result_df[sample] = ratio\n",
    "    result_df = pd.DataFrame(result_df).T\n",
    "    \n",
    "    h = sns.clustermap(\n",
    "        result_df,\n",
    "        row_cluster=False,\n",
    "        col_cluster=False,\n",
    "        cmap=\"RdYlBu_r\",\n",
    "        figsize=figsize,\n",
    "        vmin=0, vmax=0.15\n",
    "    )\n",
    "\n",
    "    h.ax_heatmap.tick_params(right=False, bottom=False, labelright=True, labelbottom=False)\n",
    "    h.ax_heatmap.set_xlabel(title)\n",
    "    h.ax_heatmap.set_ylabel(\"\")\n",
    "    h.cax.set_visible(False)"
   ]
  },
  {
   "cell_type": "code",
   "execution_count": 272,
   "metadata": {
    "execution": {
     "iopub.execute_input": "2022-04-22T07:56:37.708923Z",
     "iopub.status.busy": "2022-04-22T07:56:37.708548Z",
     "iopub.status.idle": "2022-04-22T07:56:40.077891Z",
     "shell.execute_reply": "2022-04-22T07:56:40.077062Z",
     "shell.execute_reply.started": "2022-04-22T07:56:37.708886Z"
    },
    "tags": []
   },
   "outputs": [
    {
     "data": {
      "image/png": "[encoded data removed]",
      "text/plain": [
       "<Figure size 216x144 with 4 Axes>"
      ]
     },
     "metadata": {
      "image/png": {
       "height": 130,
       "width": 208
      },
      "needs_background": "light"
     },
     "output_type": "display_data"
    }
   ],
   "source": [
    "plot_mRNA_tissues(\"AT3G57450.1\", \n",
    "                 [seedling_rep1, seedling_rep2, leaf_rep1, leaf_rep2],\n",
    "                 [\"seedling_rep1\", \"seedling_rep2\", \"leaf_rep1\", \"leaf_rep2\"],\n",
    "                 figsize=[3, 2])"
   ]
  },
  {
   "cell_type": "markdown",
   "metadata": {},
   "source": [
    "# 9. Homologous genes"
   ]
  },
  {
   "cell_type": "code",
   "execution_count": 291,
   "metadata": {
    "execution": {
     "iopub.execute_input": "2022-04-22T08:52:43.848008Z",
     "iopub.status.busy": "2022-04-22T08:52:43.847468Z",
     "iopub.status.idle": "2022-04-22T08:52:43.868172Z",
     "shell.execute_reply": "2022-04-22T08:52:43.866986Z",
     "shell.execute_reply.started": "2022-04-22T08:52:43.847958Z"
    },
    "tags": []
   },
   "outputs": [],
   "source": [
    "def tmp_process(df):\n",
    "    \n",
    "    def remove_unique(df, specie1, specie2):\n",
    "        s = df[specie1].value_counts()\n",
    "        f1 = df[specie1].isin(s[s==1].index)\n",
    "        s = df[specie2].value_counts()\n",
    "        f2 = df[specie2].isin(s[s==1].index)\n",
    "        df = df[f1 & f2]\n",
    "        return df\n",
    "    \n",
    "    get_key = {\"ath\": \"shoot\",\n",
    "           \"rice\": \"rice\",\n",
    "          \"maize\": \"maize\",\n",
    "          \"soybean\": \"soybean\"}\n",
    "\n",
    "    def get_s_data(s):\n",
    "        d = sample2polya_length[get_key[s]].copy()\n",
    "        d.columns = [s + \"_\" + c for c in d.columns]\n",
    "        return d\n",
    "\n",
    "    df.drop(columns='Orthogroup', inplace=True)\n",
    "    select_species = df.columns\n",
    "    specie1, specie2 = select_species\n",
    "    for specie in select_species:\n",
    "        df[specie] = df[specie].str.split(', ')\n",
    "        df = df.explode(specie)\n",
    "    df = df.reset_index(drop=True)\n",
    "    df.drop_duplicates(inplace=True)\n",
    "    #df = remove_unique(df, specie1, specie2)\n",
    "\n",
    "    for specie in select_species:\n",
    "        df = df.merge(get_s_data(specie), left_on=specie, right_on=specie + \"_mRNA\")\n",
    "    df = df[(df[f\"{specie1}_all_n_read\"] >= 50) & (df[f\"{specie2}_all_n_read\"] >= 50 )]\n",
    "    #df = remove_unique(df, specie1, specie2)\n",
    "    return df"
   ]
  },
  {
   "cell_type": "code",
   "execution_count": 292,
   "metadata": {
    "execution": {
     "iopub.execute_input": "2022-04-22T08:55:11.983121Z",
     "iopub.status.busy": "2022-04-22T08:55:11.982318Z",
     "iopub.status.idle": "2022-04-22T08:55:12.349910Z",
     "shell.execute_reply": "2022-04-22T08:55:12.348773Z",
     "shell.execute_reply.started": "2022-04-22T08:55:11.983043Z"
    },
    "tags": []
   },
   "outputs": [],
   "source": [
    "df_ath_maize = pd.read_csv(os.path.join(homologous_data_dir, \"ath__v__maize.tsv\"), sep=\"\\t\")\n",
    "df_ath_rice = pd.read_csv(os.path.join(homologous_data_dir, \"ath__v__rice.tsv\"), sep=\"\\t\")\n",
    "df_ath_soybean = pd.read_csv(os.path.join(homologous_data_dir, \"ath__v__soybean.tsv\"), sep=\"\\t\")\n",
    "df_rice_maize = pd.read_csv(os.path.join(homologous_data_dir, \"rice__v__maize.tsv\"), sep=\"\\t\")\n",
    "df_soybean_maize = pd.read_csv(os.path.join(homologous_data_dir, \"soybean__v__maize.tsv\"), sep=\"\\t\")\n",
    "df_soybean_rice = pd.read_csv(os.path.join(homologous_data_dir, \"soybean__v__rice.tsv\"), sep=\"\\t\")"
   ]
  },
  {
   "cell_type": "code",
   "execution_count": 293,
   "metadata": {
    "execution": {
     "iopub.execute_input": "2022-04-22T08:55:24.480703Z",
     "iopub.status.busy": "2022-04-22T08:55:24.480130Z",
     "iopub.status.idle": "2022-04-22T08:55:27.314373Z",
     "shell.execute_reply": "2022-04-22T08:55:27.313199Z",
     "shell.execute_reply.started": "2022-04-22T08:55:24.480649Z"
    },
    "tags": []
   },
   "outputs": [],
   "source": [
    "df_ath_maize = tmp_process(df_ath_maize)\n",
    "df_ath_rice = tmp_process(df_ath_rice)\n",
    "df_ath_soybean = tmp_process(df_ath_soybean)\n",
    "df_rice_maize = tmp_process(df_rice_maize)\n",
    "df_soybean_maize = tmp_process(df_soybean_maize)\n",
    "df_soybean_rice = tmp_process(df_soybean_rice)"
   ]
  },
  {
   "cell_type": "code",
   "execution_count": 295,
   "metadata": {
    "execution": {
     "iopub.execute_input": "2022-04-22T08:56:18.197687Z",
     "iopub.status.busy": "2022-04-22T08:56:18.197083Z",
     "iopub.status.idle": "2022-04-22T08:56:34.154853Z",
     "shell.execute_reply": "2022-04-22T08:56:34.153910Z",
     "shell.execute_reply.started": "2022-04-22T08:56:18.197634Z"
    },
    "tags": []
   },
   "outputs": [
    {
     "name": "stdout",
     "output_type": "stream",
     "text": [
      "['ath', 'soybean']\n",
      "(0.5283524667230047, 0.0)\n",
      "0.5283524667230047\n"
     ]
    },
    {
     "data": {
      "image/png": "[encoded data removed]",
      "text/plain": [
       "<Figure size 97.92x97.92 with 1 Axes>"
      ]
     },
     "metadata": {
      "image/png": {
       "height": 108,
       "width": 124
      },
      "needs_background": "light"
     },
     "output_type": "display_data"
    }
   ],
   "source": [
    "df = df_ath_soybean\n",
    "specie1, specie2 = df.columns[:2]\n",
    "if specie1 == \"soybean\":\n",
    "    specie1, specie2 = specie2, specie1\n",
    "vmax=0.00045\n",
    "figsize = None\n",
    "plot_colorbar = False\n",
    "if figsize is None:\n",
    "    if plot_colorbar:\n",
    "        figsize = [1.65, 1.65]\n",
    "    else:\n",
    "        figsize = [1.36, 1.36]\n",
    "print([specie1, specie2])\n",
    "x = df[f\"{specie1}_all_median_polya\"]\n",
    "y = df[f\"{specie2}_all_median_polya\"]\n",
    "print(pearsonr(x, y))\n",
    "plot_x_y(x, y, lim=[0, 300], figsize=figsize, vmax=vmax, plot_colorbar=plot_colorbar)\n",
    "h = plt.xticks([0, 100, 200, 300])\n",
    "h = plt.yticks([0, 100, 200, 300])"
   ]
  }
 ],
 "metadata": {
  "kernelspec": {
   "display_name": "Python 3",
   "language": "python",
   "name": "python3"
  },
  "language_info": {
   "codemirror_mode": {
    "name": "ipython",
    "version": 3
   },
   "file_extension": ".py",
   "mimetype": "text/x-python",
   "name": "python",
   "nbconvert_exporter": "python",
   "pygments_lexer": "ipython3",
   "version": "3.7.4"
  },
  "toc-autonumbering": false
 },
 "nbformat": 4,
 "nbformat_minor": 4
}
